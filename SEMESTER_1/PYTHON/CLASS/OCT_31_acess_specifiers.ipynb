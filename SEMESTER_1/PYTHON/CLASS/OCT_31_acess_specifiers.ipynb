{
 "cells": [
  {
   "cell_type": "code",
   "execution_count": 4,
   "metadata": {},
   "outputs": [
    {
     "name": "stdout",
     "output_type": "stream",
     "text": [
      "Overwriting account.py\n"
     ]
    }
   ],
   "source": [
    "%%file account.py\n",
    "class Account:\n",
    "    def __init___(self, acc_no, acc_holder, acc_bal):\n",
    "        self._acc_no = acc_no\n",
    "        self._acc_holder = acc_holder\n",
    "        self._acc_bal = acc_bal\n",
    "\n",
    "    def details(self):\n",
    "        print(self._acc_no)\n",
    "        print(self._acc_holder)\n",
    "        print(self._acc_bal)"
   ]
  },
  {
   "cell_type": "code",
   "execution_count": 6,
   "metadata": {},
   "outputs": [
    {
     "name": "stdout",
     "output_type": "stream",
     "text": [
      "Exception reporting mode: Verbose\n"
     ]
    }
   ],
   "source": [
    "%xmode Verbose"
   ]
  },
  {
   "cell_type": "code",
   "execution_count": 8,
   "metadata": {},
   "outputs": [
    {
     "ename": "TypeError",
     "evalue": "SavingAccount() takes no arguments",
     "output_type": "error",
     "traceback": [
      "\u001b[1;31m---------------------------------------------------------------------------\u001b[0m",
      "\u001b[1;31mTypeError\u001b[0m                                 Traceback (most recent call last)",
      "Cell \u001b[1;32mIn[8], line 11\u001b[0m\n\u001b[0;32m      8\u001b[0m         \u001b[38;5;28mprint\u001b[39m(\u001b[38;5;124m'\u001b[39m\u001b[38;5;124mAccount Balance: \u001b[39m\u001b[38;5;124m'\u001b[39m,\u001b[38;5;28mself\u001b[39m\u001b[38;5;241m.\u001b[39m_acc_bal )\n\u001b[0;32m      9\u001b[0m         \u001b[38;5;28mprint\u001b[39m(\u001b[38;5;124m'\u001b[39m\u001b[38;5;124mRate of Interest: \u001b[39m\u001b[38;5;124m'\u001b[39m,\u001b[38;5;28mself\u001b[39m\u001b[38;5;241m.\u001b[39mroi )\n\u001b[1;32m---> 11\u001b[0m a \u001b[38;5;241m=\u001b[39m \u001b[43mSavingAccount\u001b[49m\u001b[43m(\u001b[49m\u001b[38;5;241;43m12345\u001b[39;49m\u001b[43m,\u001b[49m\u001b[38;5;124;43m'\u001b[39;49m\u001b[38;5;124;43mSunil Kumar\u001b[39;49m\u001b[38;5;124;43m'\u001b[39;49m\u001b[43m,\u001b[49m\u001b[43m \u001b[49m\u001b[38;5;241;43m6500.67\u001b[39;49m\u001b[43m)\u001b[49m\n\u001b[0;32m     12\u001b[0m a\u001b[38;5;241m.\u001b[39mdetails(\u001b[38;5;241m3.5\u001b[39m)\n",
      "\u001b[1;31mTypeError\u001b[0m: SavingAccount() takes no arguments"
     ]
    }
   ],
   "source": [
    "from account import Account\n",
    "\n",
    "class SavingAccount(Account):\n",
    "    def details(self, roi):\n",
    "        self.roi = 3.5\n",
    "        print('Account Number: ',self._acc_no )\n",
    "        print('Account Holder: ',self._acc_holder)\n",
    "        print('Account Balance: ',self._acc_bal )\n",
    "        print('Rate of Interest: ',self.roi )\n",
    "        \n",
    "a = SavingAccount(12345,'Sunil Kumar', 6500.67)\n",
    "a.details(3.5)"
   ]
  }
 ],
 "metadata": {
  "kernelspec": {
   "display_name": "Python 3.8.10 64-bit",
   "language": "python",
   "name": "python3"
  },
  "language_info": {
   "codemirror_mode": {
    "name": "ipython",
    "version": 3
   },
   "file_extension": ".py",
   "mimetype": "text/x-python",
   "name": "python",
   "nbconvert_exporter": "python",
   "pygments_lexer": "ipython3",
   "version": "3.8.10"
  },
  "orig_nbformat": 4,
  "vscode": {
   "interpreter": {
    "hash": "b337b16e1f284c9fe7de692799556d56c1809887abe3f5a49ffeb9e7df151cfb"
   }
  }
 },
 "nbformat": 4,
 "nbformat_minor": 2
}
