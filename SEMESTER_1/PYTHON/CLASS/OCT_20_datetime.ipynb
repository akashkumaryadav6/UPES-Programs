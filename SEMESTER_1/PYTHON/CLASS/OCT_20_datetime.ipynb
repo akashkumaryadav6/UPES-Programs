{
 "cells": [
  {
   "cell_type": "markdown",
   "metadata": {},
   "source": [
    "<h4><i>Importing classes datetime, date from moodule datetime</i></h4>"
   ]
  },
  {
   "cell_type": "code",
   "execution_count": 1,
   "metadata": {},
   "outputs": [],
   "source": [
    "from datetime import date as d, datetime as dt"
   ]
  },
  {
   "cell_type": "markdown",
   "metadata": {},
   "source": [
    "<b>datetime</b>"
   ]
  },
  {
   "cell_type": "code",
   "execution_count": 23,
   "metadata": {},
   "outputs": [
    {
     "name": "stdout",
     "output_type": "stream",
     "text": [
      "Hour:  10\n",
      "Minute:  38\n",
      "Second:  56\n",
      "Microsecond:  981244\n",
      "Day:  20\n",
      "Month:  10\n",
      "Year:  2023\n",
      "Date:  2023-10-20\n",
      "Time:  10:38:56.981244\n",
      "Today:  2023-10-20 10:38:56.981244\n",
      "Now:  2023-10-20 10:38:56.981244\n"
     ]
    }
   ],
   "source": [
    "print(\"Hour: \", dt.now().hour)\n",
    "print(\"Minute: \", dt.now().minute)\n",
    "print(\"Second: \", dt.now().second)\n",
    "print(\"Microsecond: \", dt.now().microsecond)\n",
    "print(\"Day: \", dt.now().day)\n",
    "print(\"Month: \", dt.now().month)\n",
    "print(\"Year: \", dt.now().year)\n",
    "print(\"Date: \", dt.now().date())\n",
    "print(\"Time: \", dt.now().time())\n",
    "print(\"Today: \", dt.now().today())\n",
    "print(\"Now: \", dt.now())"
   ]
  },
  {
   "cell_type": "markdown",
   "metadata": {},
   "source": [
    "<b>date</b>"
   ]
  },
  {
   "cell_type": "code",
   "execution_count": 11,
   "metadata": {},
   "outputs": [
    {
     "name": "stdout",
     "output_type": "stream",
     "text": [
      "2023-10-20\n"
     ]
    }
   ],
   "source": [
    "print(d.today())\n"
   ]
  },
  {
   "cell_type": "code",
   "execution_count": 13,
   "metadata": {},
   "outputs": [
    {
     "name": "stdout",
     "output_type": "stream",
     "text": [
      "2023\n",
      "10\n",
      "20\n"
     ]
    }
   ],
   "source": [
    "print(d.today().year)\n",
    "print(d.today().month)\n",
    "print(d.today().day)"
   ]
  }
 ],
 "metadata": {
  "kernelspec": {
   "display_name": "Python 3.8.10 64-bit",
   "language": "python",
   "name": "python3"
  },
  "language_info": {
   "codemirror_mode": {
    "name": "ipython",
    "version": 3
   },
   "file_extension": ".py",
   "mimetype": "text/x-python",
   "name": "python",
   "nbconvert_exporter": "python",
   "pygments_lexer": "ipython3",
   "version": "3.8.10"
  },
  "orig_nbformat": 4,
  "vscode": {
   "interpreter": {
    "hash": "b337b16e1f284c9fe7de692799556d56c1809887abe3f5a49ffeb9e7df151cfb"
   }
  }
 },
 "nbformat": 4,
 "nbformat_minor": 2
}
