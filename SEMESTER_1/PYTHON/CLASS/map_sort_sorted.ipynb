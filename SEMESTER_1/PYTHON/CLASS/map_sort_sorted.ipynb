{
 "cells": [
  {
   "cell_type": "code",
   "execution_count": 19,
   "metadata": {},
   "outputs": [],
   "source": [
    "def checkeven(x):\n",
    "    if (x%2==0):\n",
    "        print(\"Even\") \n",
    "    else:\n",
    "        print(\"Odd\")"
   ]
  },
  {
   "cell_type": "code",
   "execution_count": 20,
   "metadata": {},
   "outputs": [
    {
     "name": "stdout",
     "output_type": "stream",
     "text": [
      "Even\n",
      "Even\n",
      "Odd\n",
      "Odd\n",
      "Even\n",
      "Odd\n",
      "Even\n",
      "Even\n",
      "Odd\n",
      "[None, None, None, None, None, None, None, None, None]\n"
     ]
    }
   ],
   "source": [
    "L = [2,4,5,7,8,9,0,4,55]\n",
    "res = map(checkeven,L)\n",
    "print(list(res))"
   ]
  },
  {
   "cell_type": "code",
   "execution_count": 21,
   "metadata": {},
   "outputs": [
    {
     "name": "stdout",
     "output_type": "stream",
     "text": [
      "{2: 'Sam_', 3: 'Han_', 4: 'Max_', 5: 'Carol_', 6: 'Sophie_', 7: 'Oleg_', 8: 'Earl_'}\n"
     ]
    }
   ],
   "source": [
    "dOfNames = {2:\"Sam\", 3:\"Han\", 4:\"Max\", 5:\"Carol\", 6:\"Sophie\", 7:\"Oleg\", 8:\"Earl\"}\n",
    "dOfNames = dict(map(lambda x: (x[0],x[1]+\"_\"), dOfNames.items()))\n",
    "print(dOfNames)"
   ]
  },
  {
   "cell_type": "code",
   "execution_count": 27,
   "metadata": {},
   "outputs": [
    {
     "name": "stdout",
     "output_type": "stream",
     "text": [
      "[(5, 'Carol_'), (8, 'Earl_'), (3, 'Han_'), (4, 'Max_'), (7, 'Oleg_'), (2, 'Sam_'), (6, 'Sophie_')]\n"
     ]
    }
   ],
   "source": [
    "print(sorted(dOfNames.items(), key=lambda t:t[1]))"
   ]
  },
  {
   "cell_type": "code",
   "execution_count": 28,
   "metadata": {},
   "outputs": [
    {
     "name": "stdout",
     "output_type": "stream",
     "text": [
      "[(2, 'Sam_'), (3, 'Han_'), (4, 'Max_'), (5, 'Carol_'), (6, 'Sophie_'), (7, 'Oleg_'), (8, 'Earl_')]\n"
     ]
    }
   ],
   "source": [
    "print(sorted(dOfNames.items(), key=lambda t:t[0]))"
   ]
  },
  {
   "cell_type": "code",
   "execution_count": 38,
   "metadata": {},
   "outputs": [
    {
     "data": {
      "text/plain": [
       "[4556, 756, 566, 546, 546, 546, 56, 7]"
      ]
     },
     "execution_count": 38,
     "metadata": {},
     "output_type": "execute_result"
    }
   ],
   "source": [
    "L = [4556,546,546,546,56,566,7,756]\n",
    "sorted(L, reverse=True)\n"
   ]
  },
  {
   "cell_type": "code",
   "execution_count": 39,
   "metadata": {},
   "outputs": [
    {
     "data": {
      "text/plain": [
       "[7, 56, 546, 546, 546, 566, 756, 4556]"
      ]
     },
     "execution_count": 39,
     "metadata": {},
     "output_type": "execute_result"
    }
   ],
   "source": [
    "L.sort()\n",
    "L"
   ]
  },
  {
   "cell_type": "code",
   "execution_count": null,
   "metadata": {},
   "outputs": [],
   "source": []
  }
 ],
 "metadata": {
  "kernelspec": {
   "display_name": "Python 3.8.10 64-bit",
   "language": "python",
   "name": "python3"
  },
  "language_info": {
   "codemirror_mode": {
    "name": "ipython",
    "version": 3
   },
   "file_extension": ".py",
   "mimetype": "text/x-python",
   "name": "python",
   "nbconvert_exporter": "python",
   "pygments_lexer": "ipython3",
   "version": "3.8.10"
  },
  "orig_nbformat": 4,
  "vscode": {
   "interpreter": {
    "hash": "b337b16e1f284c9fe7de692799556d56c1809887abe3f5a49ffeb9e7df151cfb"
   }
  }
 },
 "nbformat": 4,
 "nbformat_minor": 2
}
