{
 "cells": [
  {
   "cell_type": "markdown",
   "metadata": {},
   "source": [
    "<i>Given an integer n, perform the following conditional actions:<br>\n",
    "\n",
    "If n is odd, print Weird<br>\n",
    "If n is even and in the inclusive range of 2 to 5 , print Not Weird<br>\n",
    "If n is even and in the inclusive range of 6 to 20, print Weird<br>\n",
    "If n is even and greater than 20, print Not Weird<br>\n",
    "\n",
    "Test cases<br>\n",
    "4- Not Weird<br>\n",
    "18- Weird<br>\n",
    "29- Weird<br>\n",
    "5- Weird</i>"
   ]
  },
  {
   "cell_type": "code",
   "execution_count": 1,
   "metadata": {},
   "outputs": [],
   "source": [
    "def checkWeird(num):\n",
    "    if (num%2==0):\n",
    "        if (2<=num<=5):\n",
    "            print(\"Not Weird\")\n",
    "        elif (6<=num<=20):\n",
    "            print(\"Weird\")\n",
    "        elif (num>20):\n",
    "            print(\"Not Weird\")\n",
    "    else:\n",
    "        print(\"Weird\")"
   ]
  },
  {
   "cell_type": "code",
   "execution_count": 2,
   "metadata": {},
   "outputs": [
    {
     "name": "stdout",
     "output_type": "stream",
     "text": [
      "Not Weird\n",
      "Weird\n",
      "Weird\n",
      "Weird\n"
     ]
    }
   ],
   "source": [
    "checkWeird(4)\n",
    "checkWeird(18)\n",
    "checkWeird(29)\n",
    "checkWeird(5)"
   ]
  }
 ],
 "metadata": {
  "kernelspec": {
   "display_name": "Python 3.8.10 64-bit",
   "language": "python",
   "name": "python3"
  },
  "language_info": {
   "codemirror_mode": {
    "name": "ipython",
    "version": 3
   },
   "file_extension": ".py",
   "mimetype": "text/x-python",
   "name": "python",
   "nbconvert_exporter": "python",
   "pygments_lexer": "ipython3",
   "version": "3.8.10"
  },
  "orig_nbformat": 4,
  "vscode": {
   "interpreter": {
    "hash": "b337b16e1f284c9fe7de692799556d56c1809887abe3f5a49ffeb9e7df151cfb"
   }
  }
 },
 "nbformat": 4,
 "nbformat_minor": 2
}
