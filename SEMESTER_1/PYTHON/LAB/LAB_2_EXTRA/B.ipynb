{
 "cells": [
  {
   "cell_type": "markdown",
   "metadata": {},
   "source": [
    "<i>WAP to read an integer ‘n’ from STDIN. For all non-negative integers (i<n), print i*i on a separate line.<br>\n",
    "Sample input<br>\n",
    "3<br>\n",
    "Sample Output<br>\n",
    "0<br>\n",
    "1<br>\n",
    "4<br>\n",
    "Example<br>\n",
    "The list of non-negative integers that are less than 3 is [0, 1, 2]. The squares of each number is given below:<br>\n",
    "0<br>\n",
    "1<br>\n",
    "4</i>"
   ]
  },
  {
   "cell_type": "code",
   "execution_count": 4,
   "metadata": {},
   "outputs": [
    {
     "name": "stdout",
     "output_type": "stream",
     "text": [
      "0\n",
      "1\n",
      "4\n"
     ]
    }
   ],
   "source": [
    "def output(n):\n",
    "    for x in range (0,n):\n",
    "        print(x**2)\n",
    "        \n",
    "n = int(input(\"What is your number?\"))\n",
    "output(n)"
   ]
  },
  {
   "cell_type": "code",
   "execution_count": 9,
   "metadata": {},
   "outputs": [
    {
     "data": {
      "text/plain": [
       "[0, 1, 4]"
      ]
     },
     "execution_count": 9,
     "metadata": {},
     "output_type": "execute_result"
    }
   ],
   "source": [
    "output = list(x**2 for x in range (0,n)) \n",
    "output"
   ]
  }
 ],
 "metadata": {
  "kernelspec": {
   "display_name": "Python 3.8.10 64-bit",
   "language": "python",
   "name": "python3"
  },
  "language_info": {
   "codemirror_mode": {
    "name": "ipython",
    "version": 3
   },
   "file_extension": ".py",
   "mimetype": "text/x-python",
   "name": "python",
   "nbconvert_exporter": "python",
   "pygments_lexer": "ipython3",
   "version": "3.8.10"
  },
  "orig_nbformat": 4,
  "vscode": {
   "interpreter": {
    "hash": "b337b16e1f284c9fe7de692799556d56c1809887abe3f5a49ffeb9e7df151cfb"
   }
  }
 },
 "nbformat": 4,
 "nbformat_minor": 2
}
