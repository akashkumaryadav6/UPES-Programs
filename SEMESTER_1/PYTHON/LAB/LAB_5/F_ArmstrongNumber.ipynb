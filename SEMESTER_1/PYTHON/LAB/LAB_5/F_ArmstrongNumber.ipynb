{
 "cells": [
  {
   "cell_type": "code",
   "execution_count": 16,
   "metadata": {},
   "outputs": [],
   "source": [
    "def checkArmstrong(x):\n",
    "        org_num, temp = x, x\n",
    "        sum, count = 0, 0\n",
    "        returnList = list()\n",
    "        #counting length\n",
    "        while (x != 0):\n",
    "                count = count + 1\n",
    "                x = x // 10\n",
    "        while (temp != 0):\n",
    "                r = temp % 10\n",
    "                sum = sum + r**count\n",
    "                temp = temp // 10\n",
    "        if (org_num==sum):\n",
    "                print(f\"Armstrong Number! {org_num}\")\n",
    "        else:\n",
    "                print(f\"Not Armstrong Number! {org_num}\")"
   ]
  },
  {
   "cell_type": "code",
   "execution_count": 17,
   "metadata": {},
   "outputs": [
    {
     "name": "stdout",
     "output_type": "stream",
     "text": [
      "Armstrong Number! 1634\n"
     ]
    }
   ],
   "source": [
    "x = int(input(\"Enter your number:\"))\n",
    "checkArmstrong(x)"
   ]
  },
  {
   "cell_type": "code",
   "execution_count": null,
   "metadata": {},
   "outputs": [],
   "source": []
  }
 ],
 "metadata": {
  "kernelspec": {
   "display_name": "Python 3.8.10 64-bit",
   "language": "python",
   "name": "python3"
  },
  "language_info": {
   "codemirror_mode": {
    "name": "ipython",
    "version": 3
   },
   "file_extension": ".py",
   "mimetype": "text/x-python",
   "name": "python",
   "nbconvert_exporter": "python",
   "pygments_lexer": "ipython3",
   "version": "3.8.10"
  },
  "orig_nbformat": 4,
  "vscode": {
   "interpreter": {
    "hash": "b337b16e1f284c9fe7de692799556d56c1809887abe3f5a49ffeb9e7df151cfb"
   }
  }
 },
 "nbformat": 4,
 "nbformat_minor": 2
}
