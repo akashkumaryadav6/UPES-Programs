{
 "cells": [
  {
   "cell_type": "markdown",
   "metadata": {},
   "source": [
    "<h5><b>Write a program to create a module and to use its functionality.</b></h5>"
   ]
  },
  {
   "cell_type": "code",
   "execution_count": 5,
   "metadata": {},
   "outputs": [
    {
     "name": "stdout",
     "output_type": "stream",
     "text": [
      "Overwriting moduleNew.py\n"
     ]
    }
   ],
   "source": [
    "%%file moduleNew.py\n",
    "class Operations:\n",
    "    def __init__(self, a, b):\n",
    "        self.a = a\n",
    "        self.b = b\n",
    "    def add(a, b):\n",
    "        return a+b\n",
    "    def sub(a, b):\n",
    "        if a>b:\n",
    "            return a-b\n",
    "        else:\n",
    "            return b-a\n",
    "    def mul(a, b):\n",
    "        return a*b\n",
    "    def div(a, b):\n",
    "        return a/b\n",
    "    def pow(a, b):\n",
    "        return a**b\n",
    "        "
   ]
  },
  {
   "cell_type": "code",
   "execution_count": 6,
   "metadata": {},
   "outputs": [],
   "source": [
    "a=5\n",
    "b=9"
   ]
  },
  {
   "cell_type": "code",
   "execution_count": 7,
   "metadata": {},
   "outputs": [
    {
     "name": "stdout",
     "output_type": "stream",
     "text": [
      "The sum is:  14\n",
      "The difference is:  4\n",
      "The product is:  45\n",
      "The division is:  0.5555555555555556\n",
      "The exponential power is:  1953125\n"
     ]
    }
   ],
   "source": [
    "from moduleNew import Operations\n",
    "\n",
    "print(\"The sum is: \", Operations.add(a,b))\n",
    "print(\"The difference is: \", Operations.sub(a,b))\n",
    "print(\"The product is: \", Operations.mul(a,b))\n",
    "print(\"The division is: \", Operations.div(a,b))\n",
    "print(\"The exponential power is: \", Operations.pow(a,b))"
   ]
  },
  {
   "cell_type": "code",
   "execution_count": 8,
   "metadata": {},
   "outputs": [
    {
     "name": "stdout",
     "output_type": "stream",
     "text": [
      "The sum is:  14\n",
      "The difference is:  4\n",
      "The product is:  45\n",
      "The division is:  0.5555555555555556\n",
      "The exponential power is:  1953125\n"
     ]
    }
   ],
   "source": [
    "from moduleNew import Operations as o\n",
    "\n",
    "print(\"The sum is: \", o.add(a,b))\n",
    "print(\"The difference is: \", o.sub(a,b))\n",
    "print(\"The product is: \", o.mul(a,b))\n",
    "print(\"The division is: \", o.div(a,b))\n",
    "print(\"The exponential power is: \", o.pow(a,b))"
   ]
  },
  {
   "cell_type": "code",
   "execution_count": null,
   "metadata": {},
   "outputs": [],
   "source": []
  },
  {
   "cell_type": "code",
   "execution_count": null,
   "metadata": {},
   "outputs": [],
   "source": []
  }
 ],
 "metadata": {
  "kernelspec": {
   "display_name": "Python 3.8.10 64-bit",
   "language": "python",
   "name": "python3"
  },
  "language_info": {
   "codemirror_mode": {
    "name": "ipython",
    "version": 3
   },
   "file_extension": ".py",
   "mimetype": "text/x-python",
   "name": "python",
   "nbconvert_exporter": "python",
   "pygments_lexer": "ipython3",
   "version": "3.8.10"
  },
  "vscode": {
   "interpreter": {
    "hash": "b337b16e1f284c9fe7de692799556d56c1809887abe3f5a49ffeb9e7df151cfb"
   }
  }
 },
 "nbformat": 4,
 "nbformat_minor": 2
}
