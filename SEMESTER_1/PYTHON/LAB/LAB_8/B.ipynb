{
 "cells": [
  {
   "cell_type": "markdown",
   "metadata": {},
   "source": [
    "<h5><b>WAP to use try-except-finally block</b></h5>"
   ]
  },
  {
   "cell_type": "code",
   "execution_count": 1,
   "metadata": {},
   "outputs": [
    {
     "name": "stdout",
     "output_type": "stream",
     "text": [
      "Error: Division By Zero\n",
      "Compilation Ends!\n"
     ]
    }
   ],
   "source": [
    "try:\n",
    "    print(45/0)\n",
    "except ZeroDivisionError:\n",
    "    print(\"Error: Division By Zero\")\n",
    "else:\n",
    "    print(\"Successfully Compiled!\")\n",
    "finally:\n",
    "    print(\"Compilation Ends!\")"
   ]
  }
 ],
 "metadata": {
  "kernelspec": {
   "display_name": "Python 3",
   "language": "python",
   "name": "python3"
  },
  "language_info": {
   "codemirror_mode": {
    "name": "ipython",
    "version": 3
   },
   "file_extension": ".py",
   "mimetype": "text/x-python",
   "name": "python",
   "nbconvert_exporter": "python",
   "pygments_lexer": "ipython3",
   "version": "3.11.5"
  }
 },
 "nbformat": 4,
 "nbformat_minor": 2
}
