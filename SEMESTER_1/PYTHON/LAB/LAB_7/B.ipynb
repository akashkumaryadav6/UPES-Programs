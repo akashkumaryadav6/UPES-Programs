{
 "cells": [
  {
   "cell_type": "markdown",
   "metadata": {},
   "source": [
    "<h5><b>Get the age of students in a list and display those students who are above 18, use lambda\n",
    "and filter function</b></h5>"
   ]
  },
  {
   "cell_type": "code",
   "execution_count": 2,
   "metadata": {},
   "outputs": [
    {
     "name": "stdout",
     "output_type": "stream",
     "text": [
      "Original List: [12, 56, 324, 21]\n",
      "\n",
      "Students above 18 years old:\n",
      "56\n",
      "324\n",
      "21\n"
     ]
    }
   ],
   "source": [
    "entries = int(input(\"How many entries do you want to make?\"))\n",
    "students = list()\n",
    "\n",
    "for x in range(entries):\n",
    "    age = int(input(\"Enter the age:\"))\n",
    "    students.append(age)\n",
    "\n",
    "above_18_students = list(filter(lambda x: x>18, students))\n",
    "\n",
    "print(f\"Original List: {students}\")\n",
    "print(\"\\nStudents above 18 years old:\")\n",
    "for student in above_18_students:\n",
    "    print(student)\n"
   ]
  },
  {
   "cell_type": "code",
   "execution_count": null,
   "metadata": {},
   "outputs": [],
   "source": []
  }
 ],
 "metadata": {
  "kernelspec": {
   "display_name": "Python 3.8.10 64-bit",
   "language": "python",
   "name": "python3"
  },
  "language_info": {
   "codemirror_mode": {
    "name": "ipython",
    "version": 3
   },
   "file_extension": ".py",
   "mimetype": "text/x-python",
   "name": "python",
   "nbconvert_exporter": "python",
   "pygments_lexer": "ipython3",
   "version": "3.8.10"
  },
  "vscode": {
   "interpreter": {
    "hash": "b337b16e1f284c9fe7de692799556d56c1809887abe3f5a49ffeb9e7df151cfb"
   }
  }
 },
 "nbformat": 4,
 "nbformat_minor": 2
}
