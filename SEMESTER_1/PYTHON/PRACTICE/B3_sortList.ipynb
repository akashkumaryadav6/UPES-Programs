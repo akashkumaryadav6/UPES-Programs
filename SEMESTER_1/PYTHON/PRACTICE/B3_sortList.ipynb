{
 "cells": [
  {
   "cell_type": "markdown",
   "metadata": {},
   "source": [
    "<font size = 4><i>Check if the items in the list are sorted in ascending or descending order and print suitable messages accordingly. Otherwise, print 'Items in list are not sorted'</i></font>"
   ]
  },
  {
   "cell_type": "code",
   "execution_count": null,
   "metadata": {},
   "outputs": [],
   "source": [
    "myList = [4,5,6,7,8,9]\n",
    "\n",
    "if (myList == sorted(myList, reverse=True)):\n",
    "    print(\"Items in list are sorted in Descending Order.\")\n",
    "elif (myList == sorted(myList, reverse=False)):\n",
    "    print(\"Items in list are sorted in Ascending Order.\")\n",
    "else:\n",
    "    print(\"Items in list are not sorted!\")"
   ]
  }
 ],
 "metadata": {
  "language_info": {
   "name": "python"
  },
  "orig_nbformat": 4
 },
 "nbformat": 4,
 "nbformat_minor": 2
}
