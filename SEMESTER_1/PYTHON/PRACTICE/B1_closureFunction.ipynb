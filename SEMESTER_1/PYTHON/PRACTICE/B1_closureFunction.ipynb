{
 "cells": [
  {
   "cell_type": "markdown",
   "metadata": {},
   "source": [
    "<font size = 4><i>What is a Closure function?</i></font>"
   ]
  },
  {
   "cell_type": "markdown",
   "metadata": {},
   "source": [
    "<b>Closure Functions:</b> Closure functions are the inner functions nested inside another function returned as an object as a whole.<br>For example,"
   ]
  },
  {
   "cell_type": "code",
   "execution_count": 5,
   "metadata": {},
   "outputs": [
    {
     "name": "stdout",
     "output_type": "stream",
     "text": [
      "This is the outer function.\n",
      "This is the inner function and value of x is: 7\n"
     ]
    }
   ],
   "source": [
    "def outer(x):\n",
    "    print(\"This is the outer function.\")\n",
    "    def inner():\n",
    "        print(f\"This is the inner function and value of x is: {x}\")\n",
    "    return inner\n",
    "\n",
    "myFunc = outer(7)\n",
    "myFunc()"
   ]
  },
  {
   "cell_type": "markdown",
   "metadata": {},
   "source": [
    "<font size = 4><i>Rupal has a huge collection of country stamps. She decided to count the total number of distinct country maps in her collection. She asked for your help. You pick the stamps one by one from a stack of country stamps. Find the total number of distinct country stamps using a suitable data type.</i></font>"
   ]
  },
  {
   "cell_type": "code",
   "execution_count": 2,
   "metadata": {},
   "outputs": [
    {
     "name": "stdout",
     "output_type": "stream",
     "text": [
      "Total number of distinct country stamps: 7\n"
     ]
    }
   ],
   "source": [
    "distinct_stamps = set()\n",
    "\n",
    "while True:\n",
    "    stamp = input(\"Enter a country stamp (or 'stop' to finish): \")\n",
    "    \n",
    "    if stamp == 'stophg':\n",
    "        break\n",
    "    # Use of .add()\n",
    "    distinct_stamps.add(stamp)\n",
    "\n",
    "print(\"Total number of distinct country stamps:\", len(distinct_stamps))\n"
   ]
  }
 ],
 "metadata": {
  "kernelspec": {
   "display_name": "Python 3.8.10 64-bit",
   "language": "python",
   "name": "python3"
  },
  "language_info": {
   "codemirror_mode": {
    "name": "ipython",
    "version": 3
   },
   "file_extension": ".py",
   "mimetype": "text/x-python",
   "name": "python",
   "nbconvert_exporter": "python",
   "pygments_lexer": "ipython3",
   "version": "3.8.10"
  },
  "orig_nbformat": 4,
  "vscode": {
   "interpreter": {
    "hash": "b337b16e1f284c9fe7de692799556d56c1809887abe3f5a49ffeb9e7df151cfb"
   }
  }
 },
 "nbformat": 4,
 "nbformat_minor": 2
}
