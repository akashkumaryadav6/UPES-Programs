{
 "cells": [
  {
   "cell_type": "markdown",
   "metadata": {},
   "source": [
    "<font size =4><i>What do you understand by local and global scope of variables? How can you access a global variable inside the function, if function has a variable with same name? </i></font>"
   ]
  },
  {
   "cell_type": "markdown",
   "metadata": {},
   "source": [
    "The scope of any variable defines the accessibility of variable in a program. The scope is the callable area of the variable accessed as a whole.<br>\n",
    "<b>Global Variable and Scope:</b>Global variables are always defined outside any function to be accessed anywhere throughout the code. Their scope becomes global as they can be accessed anywhere in the code.<br>\n",
    "<b>Local Variable and Scope:</b>These are usually defined inside a function and a limited scope. They can't be accessed outside the function. They are restricted/contained to a specific block of code. THe inaccessibility makes their scope local, restricted and limited.<br>"
   ]
  },
  {
   "cell_type": "code",
   "execution_count": 5,
   "metadata": {},
   "outputs": [
    {
     "name": "stdout",
     "output_type": "stream",
     "text": [
      "5\n",
      "5\n"
     ]
    }
   ],
   "source": [
    "# Global Variable\n",
    "x = 5\n",
    "def funcP(x):\n",
    "    print(x)\n",
    "\n",
    "print(x)\n",
    "funcP(x)"
   ]
  },
  {
   "cell_type": "code",
   "execution_count": 7,
   "metadata": {},
   "outputs": [
    {
     "name": "stdout",
     "output_type": "stream",
     "text": [
      "5\n",
      "6\n"
     ]
    }
   ],
   "source": [
    "# Local Variable\n",
    "x = 5\n",
    "def funcP():\n",
    "    x = 6\n",
    "    print(x)\n",
    "\n",
    "print(x)\n",
    "funcP()"
   ]
  },
  {
   "cell_type": "code",
   "execution_count": 16,
   "metadata": {},
   "outputs": [
    {
     "name": "stdout",
     "output_type": "stream",
     "text": [
      "6\n"
     ]
    }
   ],
   "source": [
    "global x\n",
    "x = 6\n",
    "def local():\n",
    "    y = 7\n",
    "    global x\n",
    "    print(x)\n",
    "\n",
    "local()"
   ]
  }
 ],
 "metadata": {
  "kernelspec": {
   "display_name": "Python 3.8.10 64-bit",
   "language": "python",
   "name": "python3"
  },
  "language_info": {
   "codemirror_mode": {
    "name": "ipython",
    "version": 3
   },
   "file_extension": ".py",
   "mimetype": "text/x-python",
   "name": "python",
   "nbconvert_exporter": "python",
   "pygments_lexer": "ipython3",
   "version": "3.8.10"
  },
  "orig_nbformat": 4,
  "vscode": {
   "interpreter": {
    "hash": "b337b16e1f284c9fe7de692799556d56c1809887abe3f5a49ffeb9e7df151cfb"
   }
  }
 },
 "nbformat": 4,
 "nbformat_minor": 2
}
