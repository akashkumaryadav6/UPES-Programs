{
 "cells": [
  {
   "cell_type": "markdown",
   "metadata": {},
   "source": [
    "<font size = 4><i>Write a program in Python to input a list of scores for N students in a scoresList data type. Find the score of the runner up and print the output.<br>\n",
    "Sample Input: N = 5<br>\n",
    "Scores = [2,3,6,6,5]<br>\n",
    "Sample Output: 5</i></font>"
   ]
  },
  {
   "cell_type": "code",
   "execution_count": 5,
   "metadata": {},
   "outputs": [
    {
     "name": "stdout",
     "output_type": "stream",
     "text": [
      "Second Largest number is: 5\n"
     ]
    }
   ],
   "source": [
    "scoresList = list(map(int, input(\"Enter the scores, separated by spaces: \").split()))\n",
    "\n",
    "if len(scoresList) < 2:\n",
    "    print(\"Please enter at least two scores.\")\n",
    "else:\n",
    "    largest = max(scoresList[0], scoresList[1])\n",
    "    second = min(scoresList[0], scoresList[1])\n",
    "\n",
    "    for score in scoresList[2:]:\n",
    "        if score > largest:\n",
    "            second = largest\n",
    "            largest = score\n",
    "        elif score > second and score != largest:\n",
    "            second = score\n",
    "\n",
    "print(\"Second Largest number is:\", second)\n"
   ]
  }
 ],
 "metadata": {
  "kernelspec": {
   "display_name": "Python 3.8.10 64-bit",
   "language": "python",
   "name": "python3"
  },
  "language_info": {
   "codemirror_mode": {
    "name": "ipython",
    "version": 3
   },
   "file_extension": ".py",
   "mimetype": "text/x-python",
   "name": "python",
   "nbconvert_exporter": "python",
   "pygments_lexer": "ipython3",
   "version": "3.8.10"
  },
  "orig_nbformat": 4,
  "vscode": {
   "interpreter": {
    "hash": "b337b16e1f284c9fe7de692799556d56c1809887abe3f5a49ffeb9e7df151cfb"
   }
  }
 },
 "nbformat": 4,
 "nbformat_minor": 2
}
