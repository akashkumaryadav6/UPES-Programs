{
 "cells": [
  {
   "cell_type": "code",
   "execution_count": 8,
   "metadata": {},
   "outputs": [
    {
     "name": "stdout",
     "output_type": "stream",
     "text": [
      "Ascending\n"
     ]
    }
   ],
   "source": [
    "li = [2,3,5,6]\n",
    "flag, flag2 = 0, 0\n",
    "length = len(li)\n",
    "\n",
    "for i in range(length-1):\n",
    "    if li[i] > li[i+1]:\n",
    "        flag += 1\n",
    "\n",
    "for i in range(length-1):\n",
    "    if li[i] < li[i+1]:\n",
    "        flag2 += 1\n",
    "\n",
    "if (flag == length-1):\n",
    "        print(\"Descending\")\n",
    "elif (flag2 == length-1):\n",
    "        print(\"Ascending\")\n",
    "else:\n",
    "    print(\"Not Sorted.\")"
   ]
  }
 ],
 "metadata": {
  "kernelspec": {
   "display_name": "Python 3.8.10 64-bit",
   "language": "python",
   "name": "python3"
  },
  "language_info": {
   "codemirror_mode": {
    "name": "ipython",
    "version": 3
   },
   "file_extension": ".py",
   "mimetype": "text/x-python",
   "name": "python",
   "nbconvert_exporter": "python",
   "pygments_lexer": "ipython3",
   "version": "3.8.10"
  },
  "orig_nbformat": 4,
  "vscode": {
   "interpreter": {
    "hash": "b337b16e1f284c9fe7de692799556d56c1809887abe3f5a49ffeb9e7df151cfb"
   }
  }
 },
 "nbformat": 4,
 "nbformat_minor": 2
}
