{
 "cells": [
  {
   "cell_type": "code",
   "execution_count": 1,
   "metadata": {},
   "outputs": [],
   "source": [
    "import numpy as n\n"
   ]
  },
  {
   "cell_type": "code",
   "execution_count": 46,
   "metadata": {},
   "outputs": [],
   "source": [
    "array = n.arange(9).reshape(3, 3)\n"
   ]
  },
  {
   "cell_type": "code",
   "execution_count": 54,
   "metadata": {},
   "outputs": [],
   "source": [
    "array = n.linspace(10, 80, 20, dtype='int32').reshape(5, 4)\n"
   ]
  },
  {
   "cell_type": "code",
   "execution_count": 60,
   "metadata": {},
   "outputs": [
    {
     "data": {
      "text/plain": [
       "array([[10., 13., 17., 21.],\n",
       "       [24., 28., 32., 35.],\n",
       "       [39., 43., 46., 50.],\n",
       "       [54., 57., 61., 65.],\n",
       "       [68., 72., 76., 80.]])"
      ]
     },
     "execution_count": 60,
     "metadata": {},
     "output_type": "execute_result"
    }
   ],
   "source": [
    "array.astype(dtype='float')\n"
   ]
  },
  {
   "cell_type": "code",
   "execution_count": 71,
   "metadata": {},
   "outputs": [
    {
     "ename": "ValueError",
     "evalue": "setting an array element with a sequence. The requested array has an inhomogeneous shape after 1 dimensions. The detected shape was (2,) + inhomogeneous part.",
     "output_type": "error",
     "traceback": [
      "\u001b[1;31m---------------------------------------------------------------------------\u001b[0m",
      "\u001b[1;31mValueError\u001b[0m                                Traceback (most recent call last)",
      "Cell \u001b[1;32mIn[71], line 1\u001b[0m\n\u001b[1;32m----> 1\u001b[0m arr \u001b[38;5;241m=\u001b[39m \u001b[43mn\u001b[49m\u001b[38;5;241;43m.\u001b[39;49m\u001b[43marray\u001b[49m\u001b[43m \u001b[49m\u001b[43m(\u001b[49m\u001b[43m[\u001b[49m\u001b[43m[\u001b[49m\u001b[38;5;241;43m2\u001b[39;49m\u001b[43m,\u001b[49m\u001b[43m \u001b[49m\u001b[38;5;241;43m3\u001b[39;49m\u001b[43m,\u001b[49m\u001b[43m \u001b[49m\u001b[38;5;241;43m4\u001b[39;49m\u001b[43m,\u001b[49m\u001b[43m \u001b[49m\u001b[38;5;241;43m5\u001b[39;49m\u001b[43m]\u001b[49m\u001b[43m,\u001b[49m\u001b[43m \u001b[49m\u001b[43m[\u001b[49m\u001b[38;5;241;43m6\u001b[39;49m\u001b[43m,\u001b[49m\u001b[43m \u001b[49m\u001b[38;5;241;43m7\u001b[39;49m\u001b[43m,\u001b[49m\u001b[43m \u001b[49m\u001b[38;5;241;43m8\u001b[39;49m\u001b[43m,\u001b[49m\u001b[43m \u001b[49m\u001b[38;5;241;43m9\u001b[39;49m\u001b[43m,\u001b[49m\u001b[43m \u001b[49m\u001b[38;5;241;43m10\u001b[39;49m\u001b[43m]\u001b[49m\u001b[43m]\u001b[49m\u001b[43m)\u001b[49m\n\u001b[0;32m      2\u001b[0m \u001b[38;5;28mprint\u001b[39m( arr [ \u001b[38;5;241m1\u001b[39m,\u001b[38;5;241m1\u001b[39m:\u001b[38;5;241m4\u001b[39m])\n",
      "\u001b[1;31mValueError\u001b[0m: setting an array element with a sequence. The requested array has an inhomogeneous shape after 1 dimensions. The detected shape was (2,) + inhomogeneous part."
     ]
    }
   ],
   "source": [
    "arr = n.array([[2, 3, 4, 5], [6, 7, 8, 9, 10]])\n",
    "print(arr[1, 1:4])\n"
   ]
  },
  {
   "cell_type": "code",
   "execution_count": 72,
   "metadata": {},
   "outputs": [
    {
     "name": "stdout",
     "output_type": "stream",
     "text": [
      "[[11 22 33]\n",
      " [10 20 90]]\n",
      "4\n",
      "[[15 26 37]\n",
      " [14 24 94]]\n"
     ]
    }
   ],
   "source": [
    "import numpy as np\n",
    "A = np.array([[11, 22, 33], [10, 20, 90]])\n",
    "print(A)\n",
    "b = 4\n",
    "print(b)\n",
    "C = A + b\n",
    "print(C)\n"
   ]
  },
  {
   "cell_type": "code",
   "execution_count": 73,
   "metadata": {},
   "outputs": [],
   "source": [
    "import matplotlib.pyplot as plt\n"
   ]
  },
  {
   "cell_type": "code",
   "execution_count": 131,
   "metadata": {},
   "outputs": [],
   "source": [
    "import pandas as p\n"
   ]
  },
  {
   "cell_type": "code",
   "execution_count": 205,
   "metadata": {},
   "outputs": [
    {
     "data": {
      "text/plain": [
       "'Palak'"
      ]
     },
     "execution_count": 205,
     "metadata": {},
     "output_type": "execute_result"
    }
   ],
   "source": [
    "import pandas as pd\n",
    "\n",
    "data = {\n",
    "    \"Roll No.\": [1, 2, 3, 4, 5, 6, 7, 8, 9, 10],\n",
    "    \"Names\": ['Abhishek', 'Sandhaya', 'Rajneesh', 'Vaani', 'Palak', 'Pallavi', 'Rohan', 'Varun', 'Vishal', 'Yogesh'],\n",
    "    \"Marks\": [23, 45, 56, 23, 89, 45, 12, 13, 14, 61],\n",
    "}\n",
    "\n",
    "df = pd.DataFrame(data, index=[x for x in range(1, 11)])\n",
    "\n",
    "\n",
    "def max_marks(dataframe, max_value_col, result_col):\n",
    "    \"\"\"dataframe: Pass the dataframe you are using.\n",
    "    max_value_col: Name of the column you want to find max value from the database.\n",
    "    result_col: Name of the column you want to print in respect to max value.\"\"\"\n",
    "    return dataframe.loc[dataframe[max_value_col].idxmax(), result_col]\n",
    "\n",
    "\n",
    "max_marks(df, 'Marks', 'Names')\n"
   ]
  },
  {
   "cell_type": "code",
   "execution_count": 204,
   "metadata": {},
   "outputs": [
    {
     "data": {
      "text/html": [
       "<div>\n",
       "<style scoped>\n",
       "    .dataframe tbody tr th:only-of-type {\n",
       "        vertical-align: middle;\n",
       "    }\n",
       "\n",
       "    .dataframe tbody tr th {\n",
       "        vertical-align: top;\n",
       "    }\n",
       "\n",
       "    .dataframe thead th {\n",
       "        text-align: right;\n",
       "    }\n",
       "</style>\n",
       "<table border=\"1\" class=\"dataframe\">\n",
       "  <thead>\n",
       "    <tr style=\"text-align: right;\">\n",
       "      <th></th>\n",
       "      <th>Roll No.</th>\n",
       "      <th>Names</th>\n",
       "      <th>Marks</th>\n",
       "    </tr>\n",
       "  </thead>\n",
       "  <tbody>\n",
       "    <tr>\n",
       "      <th>0</th>\n",
       "      <td>1</td>\n",
       "      <td>Abhishek</td>\n",
       "      <td>23</td>\n",
       "    </tr>\n",
       "    <tr>\n",
       "      <th>1</th>\n",
       "      <td>2</td>\n",
       "      <td>Sandhaya</td>\n",
       "      <td>45</td>\n",
       "    </tr>\n",
       "    <tr>\n",
       "      <th>2</th>\n",
       "      <td>3</td>\n",
       "      <td>Rajneesh</td>\n",
       "      <td>56</td>\n",
       "    </tr>\n",
       "    <tr>\n",
       "      <th>3</th>\n",
       "      <td>4</td>\n",
       "      <td>Vaani</td>\n",
       "      <td>23</td>\n",
       "    </tr>\n",
       "    <tr>\n",
       "      <th>4</th>\n",
       "      <td>5</td>\n",
       "      <td>Palak</td>\n",
       "      <td>89</td>\n",
       "    </tr>\n",
       "    <tr>\n",
       "      <th>5</th>\n",
       "      <td>6</td>\n",
       "      <td>Pallavi</td>\n",
       "      <td>45</td>\n",
       "    </tr>\n",
       "    <tr>\n",
       "      <th>6</th>\n",
       "      <td>7</td>\n",
       "      <td>Rohan</td>\n",
       "      <td>12</td>\n",
       "    </tr>\n",
       "    <tr>\n",
       "      <th>7</th>\n",
       "      <td>8</td>\n",
       "      <td>Varun</td>\n",
       "      <td>13</td>\n",
       "    </tr>\n",
       "    <tr>\n",
       "      <th>8</th>\n",
       "      <td>9</td>\n",
       "      <td>Vishal</td>\n",
       "      <td>14</td>\n",
       "    </tr>\n",
       "    <tr>\n",
       "      <th>9</th>\n",
       "      <td>10</td>\n",
       "      <td>Yogesh</td>\n",
       "      <td>61</td>\n",
       "    </tr>\n",
       "  </tbody>\n",
       "</table>\n",
       "</div>"
      ],
      "text/plain": [
       "   Roll No.     Names  Marks\n",
       "0         1  Abhishek     23\n",
       "1         2  Sandhaya     45\n",
       "2         3  Rajneesh     56\n",
       "3         4     Vaani     23\n",
       "4         5     Palak     89\n",
       "5         6   Pallavi     45\n",
       "6         7     Rohan     12\n",
       "7         8     Varun     13\n",
       "8         9    Vishal     14\n",
       "9        10    Yogesh     61"
      ]
     },
     "execution_count": 204,
     "metadata": {},
     "output_type": "execute_result"
    }
   ],
   "source": [
    "df\n"
   ]
  },
  {
   "cell_type": "code",
   "execution_count": 165,
   "metadata": {},
   "outputs": [],
   "source": [
    "df.to_excel('demo.xlsx', index=True)\n"
   ]
  },
  {
   "cell_type": "code",
   "execution_count": 168,
   "metadata": {},
   "outputs": [],
   "source": [
    "df.to_html('demo.html')\n"
   ]
  },
  {
   "cell_type": "code",
   "execution_count": 122,
   "metadata": {},
   "outputs": [
    {
     "data": {
      "image/png": "[encoded data removed]",
      "text/plain": [
       "<Figure size 640x480 with 1 Axes>"
      ]
     },
     "metadata": {},
     "output_type": "display_data"
    },
    {
     "data": {
      "text/plain": [
       "<Figure size 640x480 with 0 Axes>"
      ]
     },
     "metadata": {},
     "output_type": "display_data"
    }
   ],
   "source": [
    "plt.plot([20, 30, 40, 50, 60],\n",
    "         [14, 15, 20, 33, 41],\n",
    "         \"-.\",\n",
    "         color=\"magenta\",\n",
    "         marker=\"v\")\n",
    "plt.title(\"Demo\")\n",
    "plt.xlabel(\"Frequency\")\n",
    "plt.ylabel(\"Wages\")\n",
    "plt.legend(['Polygon'])\n",
    "plt.show()\n",
    "plt.savefig(\"demo.png\")\n"
   ]
  },
  {
   "cell_type": "code",
   "execution_count": 86,
   "metadata": {},
   "outputs": [
    {
     "name": "stdout",
     "output_type": "stream",
     "text": [
      "\u001b[1;31mSignature:\u001b[0m\n",
      "\u001b[0mplt\u001b[0m\u001b[1;33m.\u001b[0m\u001b[0mbarh\u001b[0m\u001b[1;33m(\u001b[0m\u001b[1;33m\n",
      "\u001b[0m    \u001b[0my\u001b[0m\u001b[1;33m,\u001b[0m\u001b[1;33m\n",
      "\u001b[0m    \u001b[0mwidth\u001b[0m\u001b[1;33m,\u001b[0m\u001b[1;33m\n",
      "\u001b[0m    \u001b[0mheight\u001b[0m\u001b[1;33m=\u001b[0m\u001b[1;36m0.8\u001b[0m\u001b[1;33m,\u001b[0m\u001b[1;33m\n",
      "\u001b[0m    \u001b[0mleft\u001b[0m\u001b[1;33m=\u001b[0m\u001b[1;32mNone\u001b[0m\u001b[1;33m,\u001b[0m\u001b[1;33m\n",
      "\u001b[0m    \u001b[1;33m*\u001b[0m\u001b[1;33m,\u001b[0m\u001b[1;33m\n",
      "\u001b[0m    \u001b[0malign\u001b[0m\u001b[1;33m=\u001b[0m\u001b[1;34m'center'\u001b[0m\u001b[1;33m,\u001b[0m\u001b[1;33m\n",
      "\u001b[0m    \u001b[0mdata\u001b[0m\u001b[1;33m=\u001b[0m\u001b[1;32mNone\u001b[0m\u001b[1;33m,\u001b[0m\u001b[1;33m\n",
      "\u001b[0m    \u001b[1;33m**\u001b[0m\u001b[0mkwargs\u001b[0m\u001b[1;33m,\u001b[0m\u001b[1;33m\n",
      "\u001b[0m\u001b[1;33m)\u001b[0m\u001b[1;33m\u001b[0m\u001b[1;33m\u001b[0m\u001b[0m\n",
      "\u001b[1;31mDocstring:\u001b[0m\n",
      "Make a horizontal bar plot.\n",
      "\n",
      "The bars are positioned at *y* with the given *align*\\ment. Their\n",
      "dimensions are given by *width* and *height*. The horizontal baseline\n",
      "is *left* (default 0).\n",
      "\n",
      "Many parameters can take either a single value applying to all bars\n",
      "or a sequence of values, one for each bar.\n",
      "\n",
      "Parameters\n",
      "----------\n",
      "y : float or array-like\n",
      "    The y coordinates of the bars. See also *align* for the\n",
      "    alignment of the bars to the coordinates.\n",
      "\n",
      "width : float or array-like\n",
      "    The width(s) of the bars.\n",
      "\n",
      "height : float or array-like, default: 0.8\n",
      "    The heights of the bars.\n",
      "\n",
      "left : float or array-like, default: 0\n",
      "    The x coordinates of the left side(s) of the bars.\n",
      "\n",
      "align : {'center', 'edge'}, default: 'center'\n",
      "    Alignment of the base to the *y* coordinates*:\n",
      "\n",
      "    - 'center': Center the bars on the *y* positions.\n",
      "    - 'edge': Align the bottom edges of the bars with the *y*\n",
      "      positions.\n",
      "\n",
      "    To align the bars on the top edge pass a negative *height* and\n",
      "    ``align='edge'``.\n",
      "\n",
      "Returns\n",
      "-------\n",
      "`.BarContainer`\n",
      "    Container with all the bars and optionally errorbars.\n",
      "\n",
      "Other Parameters\n",
      "----------------\n",
      "color : color or list of color, optional\n",
      "    The colors of the bar faces.\n",
      "\n",
      "edgecolor : color or list of color, optional\n",
      "    The colors of the bar edges.\n",
      "\n",
      "linewidth : float or array-like, optional\n",
      "    Width of the bar edge(s). If 0, don't draw edges.\n",
      "\n",
      "tick_label : str or list of str, optional\n",
      "    The tick labels of the bars.\n",
      "    Default: None (Use default numeric labels.)\n",
      "\n",
      "label : str or list of str, optional\n",
      "    A single label is attached to the resulting `.BarContainer` as a\n",
      "    label for the whole dataset.\n",
      "    If a list is provided, it must be the same length as *y* and\n",
      "    labels the individual bars. Repeated labels are not de-duplicated\n",
      "    and will cause repeated label entries, so this is best used when\n",
      "    bars also differ in style (e.g., by passing a list to *color*.)\n",
      "\n",
      "xerr, yerr : float or array-like of shape(N,) or shape(2, N), optional\n",
      "    If not *None*, add horizontal / vertical errorbars to the bar tips.\n",
      "    The values are +/- sizes relative to the data:\n",
      "\n",
      "    - scalar: symmetric +/- values for all bars\n",
      "    - shape(N,): symmetric +/- values for each bar\n",
      "    - shape(2, N): Separate - and + values for each bar. First row\n",
      "      contains the lower errors, the second row contains the upper\n",
      "      errors.\n",
      "    - *None*: No errorbar. (default)\n",
      "\n",
      "    See :doc:`/gallery/statistics/errorbar_features` for an example on\n",
      "    the usage of *xerr* and *yerr*.\n",
      "\n",
      "ecolor : color or list of color, default: 'black'\n",
      "    The line color of the errorbars.\n",
      "\n",
      "capsize : float, default: :rc:`errorbar.capsize`\n",
      "   The length of the error bar caps in points.\n",
      "\n",
      "error_kw : dict, optional\n",
      "    Dictionary of keyword arguments to be passed to the\n",
      "    `~.Axes.errorbar` method. Values of *ecolor* or *capsize* defined\n",
      "    here take precedence over the independent keyword arguments.\n",
      "\n",
      "log : bool, default: False\n",
      "    If ``True``, set the x-axis to be log scale.\n",
      "\n",
      "data : indexable object, optional\n",
      "    If given, all parameters also accept a string ``s``, which is\n",
      "    interpreted as ``data[s]`` (unless this raises an exception).\n",
      "\n",
      "**kwargs : `.Rectangle` properties\n",
      "\n",
      "Properties:\n",
      "    agg_filter: a filter function, which takes a (m, n, 3) float array and a dpi value, and returns a (m, n, 3) array and two offsets from the bottom left corner of the image\n",
      "    alpha: scalar or None\n",
      "    angle: unknown\n",
      "    animated: bool\n",
      "    antialiased or aa: bool or None\n",
      "    bounds: (left, bottom, width, height)\n",
      "    capstyle: `.CapStyle` or {'butt', 'projecting', 'round'}\n",
      "    clip_box: `.Bbox`\n",
      "    clip_on: bool\n",
      "    clip_path: Patch or (Path, Transform) or None\n",
      "    color: color\n",
      "    edgecolor or ec: color or None\n",
      "    facecolor or fc: color or None\n",
      "    figure: `.Figure`\n",
      "    fill: bool\n",
      "    gid: str\n",
      "    hatch: {'/', '\\\\', '|', '-', '+', 'x', 'o', 'O', '.', '*'}\n",
      "    height: unknown\n",
      "    in_layout: bool\n",
      "    joinstyle: `.JoinStyle` or {'miter', 'round', 'bevel'}\n",
      "    label: object\n",
      "    linestyle or ls: {'-', '--', '-.', ':', '', (offset, on-off-seq), ...}\n",
      "    linewidth or lw: float or None\n",
      "    mouseover: bool\n",
      "    path_effects: `.AbstractPathEffect`\n",
      "    picker: None or bool or float or callable\n",
      "    rasterized: bool\n",
      "    sketch_params: (scale: float, length: float, randomness: float)\n",
      "    snap: bool or None\n",
      "    transform: `.Transform`\n",
      "    url: str\n",
      "    visible: bool\n",
      "    width: unknown\n",
      "    x: unknown\n",
      "    xy: (float, float)\n",
      "    y: unknown\n",
      "    zorder: float\n",
      "\n",
      "See Also\n",
      "--------\n",
      "bar : Plot a vertical bar plot.\n",
      "\n",
      "Notes\n",
      "-----\n",
      "Stacked bars can be achieved by passing individual *left* values per\n",
      "bar. See\n",
      ":doc:`/gallery/lines_bars_and_markers/horizontal_barchart_distribution`.\n",
      "\u001b[1;31mFile:\u001b[0m      c:\\users\\hp\\appdata\\local\\programs\\python\\python38\\lib\\site-packages\\matplotlib\\pyplot.py\n",
      "\u001b[1;31mType:\u001b[0m      function\n"
     ]
    }
   ],
   "source": [
    "plt.barh?\n"
   ]
  },
  {
   "cell_type": "markdown",
   "metadata": {},
   "source": [
    "Employee record of a company is arranged under three heads; name, age, and\n",
    "salary. Utilize numpy, pandas, and matplotlib modules and write the code to\n",
    "(a) Prepare such a record for 10 employees.\n",
    "(b) Create a dataframe of shape [10, 3] for the prepared record and show the first\n",
    "four rows of the dataframe.\n",
    "(c) Use the dataframe to plot two graphs – name against salary and age against\n",
    "salary."
   ]
  },
  {
   "cell_type": "code",
   "execution_count": 257,
   "metadata": {},
   "outputs": [
    {
     "ename": "TypeError",
     "evalue": "__init__() got an unexpected keyword argument 'shape'",
     "output_type": "error",
     "traceback": [
      "\u001b[1;31m---------------------------------------------------------------------------\u001b[0m",
      "\u001b[1;31mTypeError\u001b[0m                                 Traceback (most recent call last)",
      "Cell \u001b[1;32mIn[257], line 12\u001b[0m\n\u001b[0;32m      6\u001b[0m Name\u001b[38;5;241m=\u001b[39m[\u001b[38;5;124m'\u001b[39m\u001b[38;5;124mAbhishek\u001b[39m\u001b[38;5;124m'\u001b[39m,\u001b[38;5;124m'\u001b[39m\u001b[38;5;124mSandhaya\u001b[39m\u001b[38;5;124m'\u001b[39m, \u001b[38;5;124m'\u001b[39m\u001b[38;5;124mRajneesh\u001b[39m\u001b[38;5;124m'\u001b[39m, \u001b[38;5;124m'\u001b[39m\u001b[38;5;124mVaani\u001b[39m\u001b[38;5;124m'\u001b[39m, \u001b[38;5;124m'\u001b[39m\u001b[38;5;124mPalak\u001b[39m\u001b[38;5;124m'\u001b[39m, \u001b[38;5;124m'\u001b[39m\u001b[38;5;124mPallavi\u001b[39m\u001b[38;5;124m'\u001b[39m, \u001b[38;5;124m'\u001b[39m\u001b[38;5;124mRohan\u001b[39m\u001b[38;5;124m'\u001b[39m,\u001b[38;5;124m'\u001b[39m\u001b[38;5;124mVarun\u001b[39m\u001b[38;5;124m'\u001b[39m,\u001b[38;5;124m'\u001b[39m\u001b[38;5;124mVishal\u001b[39m\u001b[38;5;124m'\u001b[39m,\u001b[38;5;124m'\u001b[39m\u001b[38;5;124mYogesh\u001b[39m\u001b[38;5;124m'\u001b[39m]\n\u001b[0;32m      7\u001b[0m employee_record \u001b[38;5;241m=\u001b[39m {\n\u001b[0;32m      8\u001b[0m     \u001b[38;5;124m\"\u001b[39m\u001b[38;5;124mName\u001b[39m\u001b[38;5;124m\"\u001b[39m: Name,\n\u001b[0;32m      9\u001b[0m     \u001b[38;5;124m\"\u001b[39m\u001b[38;5;124mAge\u001b[39m\u001b[38;5;124m\"\u001b[39m: Age,\n\u001b[0;32m     10\u001b[0m     \u001b[38;5;124m\"\u001b[39m\u001b[38;5;124mSalary\u001b[39m\u001b[38;5;124m\"\u001b[39m: Salary\n\u001b[0;32m     11\u001b[0m }\n\u001b[1;32m---> 12\u001b[0m data \u001b[38;5;241m=\u001b[39m \u001b[43mpd\u001b[49m\u001b[38;5;241;43m.\u001b[39;49m\u001b[43mDataFrame\u001b[49m\u001b[43m(\u001b[49m\u001b[43memployee_record\u001b[49m\u001b[43m,\u001b[49m\u001b[43m \u001b[49m\u001b[43mindex\u001b[49m\u001b[38;5;241;43m=\u001b[39;49m\u001b[43m[\u001b[49m\u001b[43mx\u001b[49m\u001b[43m \u001b[49m\u001b[38;5;28;43;01mfor\u001b[39;49;00m\u001b[43m \u001b[49m\u001b[43mx\u001b[49m\u001b[43m \u001b[49m\u001b[38;5;129;43;01min\u001b[39;49;00m\u001b[43m \u001b[49m\u001b[38;5;28;43mrange\u001b[39;49m\u001b[43m(\u001b[49m\u001b[38;5;241;43m1\u001b[39;49m\u001b[43m,\u001b[49m\u001b[38;5;241;43m11\u001b[39;49m\u001b[43m)\u001b[49m\u001b[43m]\u001b[49m\u001b[43m,\u001b[49m\u001b[43m \u001b[49m\u001b[43mshape\u001b[49m\u001b[38;5;241;43m=\u001b[39;49m\u001b[43m(\u001b[49m\u001b[38;5;241;43m10\u001b[39;49m\u001b[43m,\u001b[49m\u001b[38;5;241;43m3\u001b[39;49m\u001b[43m)\u001b[49m\u001b[43m)\u001b[49m\n\u001b[0;32m     13\u001b[0m \u001b[38;5;28mprint\u001b[39m(data\u001b[38;5;241m.\u001b[39mhead(\u001b[38;5;241m4\u001b[39m))\n\u001b[0;32m     15\u001b[0m plt\u001b[38;5;241m.\u001b[39mfigure(figsize\u001b[38;5;241m=\u001b[39m(\u001b[38;5;241m10\u001b[39m, \u001b[38;5;241m4\u001b[39m))\n",
      "\u001b[1;31mTypeError\u001b[0m: __init__() got an unexpected keyword argument 'shape'"
     ]
    }
   ],
   "source": [
    "import pandas as pd\n",
    "import numpy as np\n",
    "\n",
    "Age = np.array([23, 25, 26, 23, 29, 35, 32, 33, 34, 31])\n",
    "Salary = np.array([12000, 23000, 21000, 34000, 24000,\n",
    "                  25000, 28000, 30000, 45000, 35000])\n",
    "Name = ['Abhishek', 'Sandhaya', 'Rajneesh', 'Vaani',\n",
    "        'Palak', 'Pallavi', 'Rohan', 'Varun', 'Vishal', 'Yogesh']\n",
    "employee_record = {\n",
    "    \"Name\": Name,\n",
    "    \"Age\": Age,\n",
    "    \"Salary\": Salary\n",
    "}\n",
    "data = pd.DataFrame(employee_record, index=[x for x in range(1, 11)])\n",
    "print(data.head(4))\n",
    "\n",
    "plt.figure(figsize=(10, 4))\n",
    "\n",
    "plt.plot(data['Name'], data['Salary'], ':', color='magenta', marker=\"P\")\n",
    "plt.title(\"Employee\")\n",
    "plt.xlabel(\"Name\")\n",
    "plt.ylabel(\"Salary\")\n",
    "plt.show()\n"
   ]
  },
  {
   "cell_type": "markdown",
   "metadata": {},
   "source": [
    "Write a Python code to add two 3×3 matrices using appropriate sequence."
   ]
  },
  {
   "cell_type": "code",
   "execution_count": 288,
   "metadata": {},
   "outputs": [
    {
     "data": {
      "text/plain": [
       "array([[ 2,  4,  6],\n",
       "       [ 8, 10, 12],\n",
       "       [14, 16, 18]])"
      ]
     },
     "execution_count": 288,
     "metadata": {},
     "output_type": "execute_result"
    }
   ],
   "source": [
    "import numpy\n",
    "from numpy import *\n",
    "elements = [1, 2, 3, 4, 5, 6, 7, 8, 9]\n",
    "matrix = numpy.matlib.reshape(elements, (3, 3))\n",
    "elements2 = [1, 2, 3, 4, 5, 6, 7, 8, 9]\n",
    "matrix2 = reshape(elements2, (3, 3))\n",
    "matrix+matrix2\n"
   ]
  },
  {
   "cell_type": "code",
   "execution_count": 282,
   "metadata": {},
   "outputs": [
    {
     "data": {
      "text/plain": [
       "array([[11, 22, 33],\n",
       "       [44, 55, 66],\n",
       "       [77, 88, 99]])"
      ]
     },
     "execution_count": 282,
     "metadata": {},
     "output_type": "execute_result"
    }
   ],
   "source": [
    "from numpy import *\n",
    "array = arange(1, 10).reshape(3, 3)\n",
    "array2 = arange(10, 100, 10).reshape(3, 3)\n",
    "array+array2\n"
   ]
  },
  {
   "cell_type": "code",
   "execution_count": 290,
   "metadata": {},
   "outputs": [
    {
     "data": {
      "text/plain": [
       "numpy.ndarray"
      ]
     },
     "execution_count": 290,
     "metadata": {},
     "output_type": "execute_result"
    }
   ],
   "source": [
    "\n",
    "type(matrix)\n"
   ]
  },
  {
   "cell_type": "markdown",
   "metadata": {},
   "source": [
    "Write a Python program to sort a list, li = [['Java', 1995], ['C++', 1983],\n",
    "['Python', 1989]], by year using lambda function."
   ]
  },
  {
   "cell_type": "code",
   "execution_count": 304,
   "metadata": {},
   "outputs": [
    {
     "name": "stdout",
     "output_type": "stream",
     "text": [
      "[['C++', 1983], ['Python', 1989], ['Java', 1995]]\n"
     ]
    }
   ],
   "source": [
    "li = [[\"Java\", 1995], [\"C++\", 1983], [\"Python\", 1989]]\n",
    "sorted_li = sorted(li, key=lambda x: x[1])\n",
    "print(sorted_li)\n"
   ]
  },
  {
   "cell_type": "code",
   "execution_count": 303,
   "metadata": {},
   "outputs": [
    {
     "data": {
      "text/plain": [
       "array(['1995', 'Java'], dtype='<U11')"
      ]
     },
     "execution_count": 303,
     "metadata": {},
     "output_type": "execute_result"
    }
   ],
   "source": [
    "li = [[\"Java\", 1995], [\"C++\", 1983], [\"Python\", 1989]]\n",
    "sort(li[0])\n"
   ]
  },
  {
   "cell_type": "code",
   "execution_count": 302,
   "metadata": {},
   "outputs": [
    {
     "data": {
      "text/plain": [
       "[['Java', 1995], ['C++', 1983], ['Python', 1989]]"
      ]
     },
     "execution_count": 302,
     "metadata": {},
     "output_type": "execute_result"
    }
   ],
   "source": [
    "li\n"
   ]
  },
  {
   "cell_type": "code",
   "execution_count": null,
   "metadata": {},
   "outputs": [],
   "source": []
  },
  {
   "cell_type": "code",
   "execution_count": null,
   "metadata": {},
   "outputs": [],
   "source": []
  },
  {
   "cell_type": "markdown",
   "metadata": {},
   "source": [
    "Consider that a class BankAccount is to be inherited by the two subclasses;\n",
    "SavingAccount and CurrentAccount. Write a Python program to implement\n",
    "the given inheritance scenario by mentioning appropriate members for each\n",
    "4, 6 CO2\n",
    "class. Instantiate these classes to demonstrate object polymorphism. Finally,\n",
    "show a sample run."
   ]
  },
  {
   "cell_type": "code",
   "execution_count": 354,
   "metadata": {},
   "outputs": [],
   "source": [
    "class BankAccount:\n",
    "    def __init__(self, branch):\n",
    "        self.branch = branch\n",
    "\n",
    "    def displayBranch(self):\n",
    "        return self.branch.upper()\n",
    "\n",
    "\n",
    "class SavingAccount(BankAccount):\n",
    "\n",
    "    acc_type = 'SAVINGS'\n",
    "\n",
    "    def __init__(self, name, id, acc_no, branch):\n",
    "        super().__init__(branch)\n",
    "        self.name = name\n",
    "        self.id = id\n",
    "        self.acc_no = acc_no\n",
    "        self.type = 'Savings'\n",
    "\n",
    "    def display(self):\n",
    "        print(f\"Bank Branch: {self.displayBranch()}\")\n",
    "        print(f\"Account Number: {self.acc_no}\")\n",
    "        print(f\"Account Holder Name: {self.name}\")\n",
    "        print(f\"Account ID: {self.id}\")\n",
    "        print(f\"Account Type: {self.acc_type}\\n\")\n",
    "\n",
    "\n",
    "class CurrentAccount(BankAccount):\n",
    "\n",
    "    acc_type = 'CURRENT'\n",
    "\n",
    "    def __init__(self, name, id, acc_no, branch):\n",
    "        super().__init__(branch)\n",
    "        self.name = name\n",
    "        self.id = id\n",
    "        self.acc_no = acc_no\n",
    "        self.type = 'Current'\n",
    "\n",
    "    def display(self):\n",
    "        print(f\"Bank Branch: {self.displayBranch()}\")\n",
    "        print(f\"Account Number: {self.acc_no}\")\n",
    "        print(f\"Account Holder Name: {self.name}\")\n",
    "        print(f\"Account ID: {self.id}\")\n",
    "        print(f\"Account Type: {self.acc_type}\\n\")\n",
    "\n",
    "\n",
    "user1 = CurrentAccount('Joe', 567890, 500010012935, \"Austria International\")\n",
    "user1.display()\n",
    "user1 = CurrentAccount('Castillo', 567890, 500010012935, \"England Money House\")\n",
    "user1.display()\n"
   ]
  },
  {
   "cell_type": "code",
   "execution_count": 355,
   "metadata": {},
   "outputs": [
    {
     "name": "stdout",
     "output_type": "stream",
     "text": [
      "Bank Branch: AUSTRIA INTERNATIONAL\n",
      "Account Number: 500010012935\n",
      "Account Holder Name: Joe\n",
      "Account ID: 567890\n",
      "Account Type: CURRENT\n",
      "\n",
      "Bank Branch: ENGLAND MONEY HOUSE\n",
      "Account Number: 500010012935\n",
      "Account Holder Name: Castillo\n",
      "Account ID: 567890\n",
      "Account Type: CURRENT\n",
      "\n"
     ]
    }
   ],
   "source": [
    "user1 = CurrentAccount('Joe', 567890, 500010012935, \"Austria International\")\n",
    "user1.display()\n",
    "user1 = CurrentAccount('Castillo', 567890, 500010012935, \"England Money House\")\n",
    "user1.display()\n"
   ]
  },
  {
   "cell_type": "code",
   "execution_count": 356,
   "metadata": {},
   "outputs": [],
   "source": [
    "import re\n"
   ]
  },
  {
   "cell_type": "code",
   "execution_count": 368,
   "metadata": {},
   "outputs": [
    {
     "name": "stdout",
     "output_type": "stream",
     "text": [
      "Invalid Email!\n"
     ]
    }
   ],
   "source": [
    "domains_list = ['google.com', 'gmail.com', 'yahoo.com', 'reddit.com']\n",
    "email = input(\"Enter your email: \")\n",
    "username, domain = email.split(\"@\")\n",
    "flag=0\n",
    "\n",
    "if username == '':\n",
    "    print(\"No username entered!\")\n",
    "else:\n",
    "    for domain in domains_list:\n",
    "        if (re.search(\"@\"+domain, email)):\n",
    "            flag=1\n",
    "        flag=0\n",
    "\n",
    "print(\"Invalid Email!\") if flag==0 else print(\"Valid Email!\")\n"
   ]
  },
  {
   "cell_type": "code",
   "execution_count": 369,
   "metadata": {},
   "outputs": [
    {
     "name": "stdout",
     "output_type": "stream",
     "text": [
      "Invalid email address. Please enter a valid email.\n"
     ]
    }
   ],
   "source": [
    "import re\n",
    "\n",
    "def is_valid_email(email):\n",
    "    pattern = r'^[a-zA-Z0-9._%+-]+@[a-zA-Z0-9.-]+\\.[a-zA-Z]{2,}$'\n",
    "\n",
    "    match = re.match(pattern, email)\n",
    "\n",
    "    return bool(match)\n",
    "user_email = input(\"Enter an email address: \")\n",
    "\n",
    "if is_valid_email(user_email):\n",
    "    print(\"Valid email address!\")\n",
    "else:\n",
    "    print(\"Invalid email address. Please enter a valid email.\")"
   ]
  },
  {
   "cell_type": "markdown",
   "metadata": {},
   "source": [
    "Write a Python program to: (12)\n",
    "1. read a file.\n",
    "2. add backslash (\\) before every double quote in the file contents.\n",
    "3. write it to another file in the same folder.\n",
    "4. print the contents of both the files."
   ]
  },
  {
   "cell_type": "code",
   "execution_count": 444,
   "metadata": {},
   "outputs": [],
   "source": [
    "inputfile=open('file.txt', \"rt\")\n",
    "inputfileContents=inputfile.read()\n",
    "\n",
    "outputfileContents=inputfileContents.replace('\"', '\\\"')\n",
    "\n",
    "#outputfile=open(\"newfile.txt\", \"rt\")\n",
    "outputfile=open(\"newfile.txt\", \"wt\")\n",
    "outputfile.writelines(outputfileContents)"
   ]
  },
  {
   "cell_type": "code",
   "execution_count": 445,
   "metadata": {},
   "outputs": [
    {
     "data": {
      "text/plain": [
       "'Jack said, \"Hello Pune\".'"
      ]
     },
     "execution_count": 445,
     "metadata": {},
     "output_type": "execute_result"
    }
   ],
   "source": [
    "open(\"newfile.txt\", \"rt\").read()"
   ]
  },
  {
   "cell_type": "code",
   "execution_count": 442,
   "metadata": {},
   "outputs": [
    {
     "data": {
      "text/plain": [
       "'Jack said, \"Hello Pune\".'"
      ]
     },
     "execution_count": 442,
     "metadata": {},
     "output_type": "execute_result"
    }
   ],
   "source": [
    "open(\"file.txt\", \"rt\").read()"
   ]
  },
  {
   "cell_type": "code",
   "execution_count": 460,
   "metadata": {},
   "outputs": [
    {
     "name": "stdout",
     "output_type": "stream",
     "text": [
      "Modified File Content: Jack said, \\\"Hello Pune\\\".\n",
      "Original File Content: Jack said, \"Hello Pune\".\n"
     ]
    }
   ],
   "source": [
    "inputfile = open('file.txt', 'rt')\n",
    "inputfile_contents = inputfile.read()\n",
    "\n",
    "outputfile_contents = inputfile_contents.replace('\"', '\\\\\"')\n",
    "\n",
    "outputfile_path = \"newfile.txt\"\n",
    "outputfile = open(\"newfile.txt\", 'wt')\n",
    "outputfile.write(outputfile_contents)\n",
    "\n",
    "outputfile.close()\n",
    "inputfile.close()\n",
    "for line in open(\"newfile.txt\", \"rt\"):\n",
    "    print(f\"Modified File Content: {line}\")\n",
    "\n",
    "for line in open(\"file.txt\", \"rt\"):\n",
    "        print(f\"Original File Content: {line}\")\n",
    "\n",
    "outputfile.close()\n",
    "inputfile.close()"
   ]
  }
 ],
 "metadata": {
  "kernelspec": {
   "display_name": "Python 3.8.10 64-bit",
   "language": "python",
   "name": "python3"
  },
  "language_info": {
   "codemirror_mode": {
    "name": "ipython",
    "version": 3
   },
   "file_extension": ".py",
   "mimetype": "text/x-python",
   "name": "python",
   "nbconvert_exporter": "python",
   "pygments_lexer": "ipython3",
   "version": "3.8.10"
  },
  "orig_nbformat": 4,
  "vscode": {
   "interpreter": {
    "hash": "b337b16e1f284c9fe7de692799556d56c1809887abe3f5a49ffeb9e7df151cfb"
   }
  }
 },
 "nbformat": 4,
 "nbformat_minor": 2
}
