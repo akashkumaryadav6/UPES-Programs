{
 "cells": [
  {
   "cell_type": "markdown",
   "metadata": {},
   "source": [
    "## <center>**TASK 1: Basic DataFrame Operations**</center>"
   ]
  },
  {
   "cell_type": "code",
   "execution_count": 11,
   "metadata": {},
   "outputs": [],
   "source": [
    "from pandas import *\n",
    "import pandas as p"
   ]
  },
  {
   "cell_type": "markdown",
   "metadata": {},
   "source": [
    "#### *I.\tDownload a dataset of your choice (CSV, Excel, or any other format). And load the dataset into a Pandas DataFrame.*"
   ]
  },
  {
   "cell_type": "code",
   "execution_count": 12,
   "metadata": {},
   "outputs": [],
   "source": [
    "data = read_excel('data.xlsx', sheet_name=\"Sheet1\")"
   ]
  },
  {
   "cell_type": "markdown",
   "metadata": {},
   "source": [
    "#### *II.\tDisplay the first 5 rows of the dataset.*"
   ]
  },
  {
   "cell_type": "code",
   "execution_count": 13,
   "metadata": {},
   "outputs": [
    {
     "data": {
      "text/html": [
       "<div>\n",
       "<style scoped>\n",
       "    .dataframe tbody tr th:only-of-type {\n",
       "        vertical-align: middle;\n",
       "    }\n",
       "\n",
       "    .dataframe tbody tr th {\n",
       "        vertical-align: top;\n",
       "    }\n",
       "\n",
       "    .dataframe thead th {\n",
       "        text-align: right;\n",
       "    }\n",
       "</style>\n",
       "<table border=\"1\" class=\"dataframe\">\n",
       "  <thead>\n",
       "    <tr style=\"text-align: right;\">\n",
       "      <th></th>\n",
       "      <th>Movies</th>\n",
       "      <th>Director</th>\n",
       "      <th>Actor</th>\n",
       "      <th>Actress</th>\n",
       "      <th>Rating</th>\n",
       "      <th>Censor</th>\n",
       "      <th>Year</th>\n",
       "      <th>Length</th>\n",
       "    </tr>\n",
       "  </thead>\n",
       "  <tbody>\n",
       "    <tr>\n",
       "      <th>0</th>\n",
       "      <td>Kho Gaye Hum Kahan</td>\n",
       "      <td>Arjun Varain Singh</td>\n",
       "      <td>Sidhant Chaturvedi</td>\n",
       "      <td>Ananya Pandey</td>\n",
       "      <td>8.0</td>\n",
       "      <td>No</td>\n",
       "      <td>2023</td>\n",
       "      <td>135.0</td>\n",
       "    </tr>\n",
       "    <tr>\n",
       "      <th>1</th>\n",
       "      <td>Anyone But You</td>\n",
       "      <td>Will Gluck</td>\n",
       "      <td>Glen Powell</td>\n",
       "      <td>Sydney Sweeney</td>\n",
       "      <td>6.6</td>\n",
       "      <td>No</td>\n",
       "      <td>2024</td>\n",
       "      <td>113.0</td>\n",
       "    </tr>\n",
       "    <tr>\n",
       "      <th>2</th>\n",
       "      <td>Cruel Intentions</td>\n",
       "      <td>Roger Kumble</td>\n",
       "      <td>Ryan Phillippe</td>\n",
       "      <td>Reese Witherspoon</td>\n",
       "      <td>6.8</td>\n",
       "      <td>Yes</td>\n",
       "      <td>1999</td>\n",
       "      <td>97.0</td>\n",
       "    </tr>\n",
       "    <tr>\n",
       "      <th>3</th>\n",
       "      <td>It Ends With Us</td>\n",
       "      <td>Justin Baldoni</td>\n",
       "      <td>Justin Baldoni</td>\n",
       "      <td>Blake Lively</td>\n",
       "      <td>NaN</td>\n",
       "      <td>No</td>\n",
       "      <td>2024</td>\n",
       "      <td>NaN</td>\n",
       "    </tr>\n",
       "    <tr>\n",
       "      <th>4</th>\n",
       "      <td>The Voyeurs</td>\n",
       "      <td>Michael Mohan</td>\n",
       "      <td>Justice Smith</td>\n",
       "      <td>Sydney Sweeney</td>\n",
       "      <td>6.1</td>\n",
       "      <td>Yes</td>\n",
       "      <td>2021</td>\n",
       "      <td>116.0</td>\n",
       "    </tr>\n",
       "  </tbody>\n",
       "</table>\n",
       "</div>"
      ],
      "text/plain": [
       "               Movies            Director               Actor  \\\n",
       "0  Kho Gaye Hum Kahan  Arjun Varain Singh  Sidhant Chaturvedi   \n",
       "1      Anyone But You          Will Gluck         Glen Powell   \n",
       "2    Cruel Intentions        Roger Kumble      Ryan Phillippe   \n",
       "3     It Ends With Us      Justin Baldoni      Justin Baldoni   \n",
       "4         The Voyeurs       Michael Mohan       Justice Smith   \n",
       "\n",
       "             Actress  Rating Censor  Year  Length  \n",
       "0      Ananya Pandey     8.0     No  2023   135.0  \n",
       "1     Sydney Sweeney     6.6     No  2024   113.0  \n",
       "2  Reese Witherspoon     6.8    Yes  1999    97.0  \n",
       "3       Blake Lively     NaN     No  2024     NaN  \n",
       "4     Sydney Sweeney     6.1    Yes  2021   116.0  "
      ]
     },
     "execution_count": 13,
     "metadata": {},
     "output_type": "execute_result"
    }
   ],
   "source": [
    "data.head()"
   ]
  },
  {
   "cell_type": "markdown",
   "metadata": {},
   "source": [
    "#### *II.\tCheck for missing values and handle them appropriately.*"
   ]
  },
  {
   "cell_type": "code",
   "execution_count": 14,
   "metadata": {},
   "outputs": [
    {
     "data": {
      "text/plain": [
       "Movies      0\n",
       "Director    0\n",
       "Actor       0\n",
       "Actress     0\n",
       "Rating      1\n",
       "Censor      0\n",
       "Year        0\n",
       "Length      1\n",
       "dtype: int64"
      ]
     },
     "execution_count": 14,
     "metadata": {},
     "output_type": "execute_result"
    }
   ],
   "source": [
    "data.isnull().sum()"
   ]
  },
  {
   "cell_type": "code",
   "execution_count": 15,
   "metadata": {},
   "outputs": [
    {
     "data": {
      "text/html": [
       "<div>\n",
       "<style scoped>\n",
       "    .dataframe tbody tr th:only-of-type {\n",
       "        vertical-align: middle;\n",
       "    }\n",
       "\n",
       "    .dataframe tbody tr th {\n",
       "        vertical-align: top;\n",
       "    }\n",
       "\n",
       "    .dataframe thead th {\n",
       "        text-align: right;\n",
       "    }\n",
       "</style>\n",
       "<table border=\"1\" class=\"dataframe\">\n",
       "  <thead>\n",
       "    <tr style=\"text-align: right;\">\n",
       "      <th></th>\n",
       "      <th>Movies</th>\n",
       "      <th>Director</th>\n",
       "      <th>Actor</th>\n",
       "      <th>Actress</th>\n",
       "      <th>Rating</th>\n",
       "      <th>Censor</th>\n",
       "      <th>Year</th>\n",
       "      <th>Length</th>\n",
       "    </tr>\n",
       "  </thead>\n",
       "  <tbody>\n",
       "    <tr>\n",
       "      <th>0</th>\n",
       "      <td>Kho Gaye Hum Kahan</td>\n",
       "      <td>Arjun Varain Singh</td>\n",
       "      <td>Sidhant Chaturvedi</td>\n",
       "      <td>Ananya Pandey</td>\n",
       "      <td>8.00</td>\n",
       "      <td>No</td>\n",
       "      <td>2023</td>\n",
       "      <td>135.0</td>\n",
       "    </tr>\n",
       "    <tr>\n",
       "      <th>1</th>\n",
       "      <td>Anyone But You</td>\n",
       "      <td>Will Gluck</td>\n",
       "      <td>Glen Powell</td>\n",
       "      <td>Sydney Sweeney</td>\n",
       "      <td>6.60</td>\n",
       "      <td>No</td>\n",
       "      <td>2024</td>\n",
       "      <td>113.0</td>\n",
       "    </tr>\n",
       "    <tr>\n",
       "      <th>2</th>\n",
       "      <td>Cruel Intentions</td>\n",
       "      <td>Roger Kumble</td>\n",
       "      <td>Ryan Phillippe</td>\n",
       "      <td>Reese Witherspoon</td>\n",
       "      <td>6.80</td>\n",
       "      <td>Yes</td>\n",
       "      <td>1999</td>\n",
       "      <td>97.0</td>\n",
       "    </tr>\n",
       "    <tr>\n",
       "      <th>3</th>\n",
       "      <td>It Ends With Us</td>\n",
       "      <td>Justin Baldoni</td>\n",
       "      <td>Justin Baldoni</td>\n",
       "      <td>Blake Lively</td>\n",
       "      <td>6.98</td>\n",
       "      <td>No</td>\n",
       "      <td>2024</td>\n",
       "      <td>114.8</td>\n",
       "    </tr>\n",
       "    <tr>\n",
       "      <th>4</th>\n",
       "      <td>The Voyeurs</td>\n",
       "      <td>Michael Mohan</td>\n",
       "      <td>Justice Smith</td>\n",
       "      <td>Sydney Sweeney</td>\n",
       "      <td>6.10</td>\n",
       "      <td>Yes</td>\n",
       "      <td>2021</td>\n",
       "      <td>116.0</td>\n",
       "    </tr>\n",
       "    <tr>\n",
       "      <th>5</th>\n",
       "      <td>Body Heat</td>\n",
       "      <td>Lawrence Kasdan</td>\n",
       "      <td>William Hurt</td>\n",
       "      <td>Kathleen Turner</td>\n",
       "      <td>7.40</td>\n",
       "      <td>Yes</td>\n",
       "      <td>1981</td>\n",
       "      <td>113.0</td>\n",
       "    </tr>\n",
       "  </tbody>\n",
       "</table>\n",
       "</div>"
      ],
      "text/plain": [
       "               Movies            Director               Actor  \\\n",
       "0  Kho Gaye Hum Kahan  Arjun Varain Singh  Sidhant Chaturvedi   \n",
       "1      Anyone But You          Will Gluck         Glen Powell   \n",
       "2    Cruel Intentions        Roger Kumble      Ryan Phillippe   \n",
       "3     It Ends With Us      Justin Baldoni      Justin Baldoni   \n",
       "4         The Voyeurs       Michael Mohan       Justice Smith   \n",
       "5           Body Heat     Lawrence Kasdan        William Hurt   \n",
       "\n",
       "             Actress  Rating Censor  Year  Length  \n",
       "0      Ananya Pandey    8.00     No  2023   135.0  \n",
       "1     Sydney Sweeney    6.60     No  2024   113.0  \n",
       "2  Reese Witherspoon    6.80    Yes  1999    97.0  \n",
       "3       Blake Lively    6.98     No  2024   114.8  \n",
       "4     Sydney Sweeney    6.10    Yes  2021   116.0  \n",
       "5    Kathleen Turner    7.40    Yes  1981   113.0  "
      ]
     },
     "execution_count": 15,
     "metadata": {},
     "output_type": "execute_result"
    }
   ],
   "source": [
    "data['Length'].fillna(data['Length'].mean(), inplace=True)\n",
    "data['Rating'].fillna(data['Rating'].mean(), inplace=True)\n",
    "data"
   ]
  },
  {
   "cell_type": "markdown",
   "metadata": {},
   "source": [
    "#### *II.\tGet a summary of the dataset using describe().*"
   ]
  },
  {
   "cell_type": "code",
   "execution_count": 16,
   "metadata": {},
   "outputs": [
    {
     "data": {
      "text/html": [
       "<div>\n",
       "<style scoped>\n",
       "    .dataframe tbody tr th:only-of-type {\n",
       "        vertical-align: middle;\n",
       "    }\n",
       "\n",
       "    .dataframe tbody tr th {\n",
       "        vertical-align: top;\n",
       "    }\n",
       "\n",
       "    .dataframe thead th {\n",
       "        text-align: right;\n",
       "    }\n",
       "</style>\n",
       "<table border=\"1\" class=\"dataframe\">\n",
       "  <thead>\n",
       "    <tr style=\"text-align: right;\">\n",
       "      <th></th>\n",
       "      <th>Rating</th>\n",
       "      <th>Year</th>\n",
       "      <th>Length</th>\n",
       "    </tr>\n",
       "  </thead>\n",
       "  <tbody>\n",
       "    <tr>\n",
       "      <th>count</th>\n",
       "      <td>6.000000</td>\n",
       "      <td>6.00</td>\n",
       "      <td>6.000000</td>\n",
       "    </tr>\n",
       "    <tr>\n",
       "      <th>mean</th>\n",
       "      <td>6.980000</td>\n",
       "      <td>2012.00</td>\n",
       "      <td>114.800000</td>\n",
       "    </tr>\n",
       "    <tr>\n",
       "      <th>std</th>\n",
       "      <td>0.658483</td>\n",
       "      <td>18.00</td>\n",
       "      <td>12.106197</td>\n",
       "    </tr>\n",
       "    <tr>\n",
       "      <th>min</th>\n",
       "      <td>6.100000</td>\n",
       "      <td>1981.00</td>\n",
       "      <td>97.000000</td>\n",
       "    </tr>\n",
       "    <tr>\n",
       "      <th>25%</th>\n",
       "      <td>6.650000</td>\n",
       "      <td>2004.50</td>\n",
       "      <td>113.000000</td>\n",
       "    </tr>\n",
       "    <tr>\n",
       "      <th>50%</th>\n",
       "      <td>6.890000</td>\n",
       "      <td>2022.00</td>\n",
       "      <td>113.900000</td>\n",
       "    </tr>\n",
       "    <tr>\n",
       "      <th>75%</th>\n",
       "      <td>7.295000</td>\n",
       "      <td>2023.75</td>\n",
       "      <td>115.700000</td>\n",
       "    </tr>\n",
       "    <tr>\n",
       "      <th>max</th>\n",
       "      <td>8.000000</td>\n",
       "      <td>2024.00</td>\n",
       "      <td>135.000000</td>\n",
       "    </tr>\n",
       "  </tbody>\n",
       "</table>\n",
       "</div>"
      ],
      "text/plain": [
       "         Rating     Year      Length\n",
       "count  6.000000     6.00    6.000000\n",
       "mean   6.980000  2012.00  114.800000\n",
       "std    0.658483    18.00   12.106197\n",
       "min    6.100000  1981.00   97.000000\n",
       "25%    6.650000  2004.50  113.000000\n",
       "50%    6.890000  2022.00  113.900000\n",
       "75%    7.295000  2023.75  115.700000\n",
       "max    8.000000  2024.00  135.000000"
      ]
     },
     "execution_count": 16,
     "metadata": {},
     "output_type": "execute_result"
    }
   ],
   "source": [
    "data.describe()"
   ]
  },
  {
   "cell_type": "markdown",
   "metadata": {},
   "source": [
    "#### *III.\tSelect a subset of columns from the DataFrame. Use both label-based and position-based indexing.*"
   ]
  },
  {
   "cell_type": "code",
   "execution_count": 17,
   "metadata": {},
   "outputs": [
    {
     "data": {
      "text/html": [
       "<div>\n",
       "<style scoped>\n",
       "    .dataframe tbody tr th:only-of-type {\n",
       "        vertical-align: middle;\n",
       "    }\n",
       "\n",
       "    .dataframe tbody tr th {\n",
       "        vertical-align: top;\n",
       "    }\n",
       "\n",
       "    .dataframe thead th {\n",
       "        text-align: right;\n",
       "    }\n",
       "</style>\n",
       "<table border=\"1\" class=\"dataframe\">\n",
       "  <thead>\n",
       "    <tr style=\"text-align: right;\">\n",
       "      <th></th>\n",
       "      <th>Actor</th>\n",
       "      <th>Actress</th>\n",
       "    </tr>\n",
       "  </thead>\n",
       "  <tbody>\n",
       "    <tr>\n",
       "      <th>0</th>\n",
       "      <td>Sidhant Chaturvedi</td>\n",
       "      <td>Ananya Pandey</td>\n",
       "    </tr>\n",
       "    <tr>\n",
       "      <th>1</th>\n",
       "      <td>Glen Powell</td>\n",
       "      <td>Sydney Sweeney</td>\n",
       "    </tr>\n",
       "    <tr>\n",
       "      <th>2</th>\n",
       "      <td>Ryan Phillippe</td>\n",
       "      <td>Reese Witherspoon</td>\n",
       "    </tr>\n",
       "    <tr>\n",
       "      <th>3</th>\n",
       "      <td>Justin Baldoni</td>\n",
       "      <td>Blake Lively</td>\n",
       "    </tr>\n",
       "    <tr>\n",
       "      <th>4</th>\n",
       "      <td>Justice Smith</td>\n",
       "      <td>Sydney Sweeney</td>\n",
       "    </tr>\n",
       "    <tr>\n",
       "      <th>5</th>\n",
       "      <td>William Hurt</td>\n",
       "      <td>Kathleen Turner</td>\n",
       "    </tr>\n",
       "  </tbody>\n",
       "</table>\n",
       "</div>"
      ],
      "text/plain": [
       "                Actor            Actress\n",
       "0  Sidhant Chaturvedi      Ananya Pandey\n",
       "1         Glen Powell     Sydney Sweeney\n",
       "2      Ryan Phillippe  Reese Witherspoon\n",
       "3      Justin Baldoni       Blake Lively\n",
       "4       Justice Smith     Sydney Sweeney\n",
       "5        William Hurt    Kathleen Turner"
      ]
     },
     "execution_count": 17,
     "metadata": {},
     "output_type": "execute_result"
    }
   ],
   "source": [
    "sub_data_by_index = data[['Actor','Actress']]\n",
    "sub_data_by_index"
   ]
  },
  {
   "cell_type": "code",
   "execution_count": 18,
   "metadata": {},
   "outputs": [
    {
     "data": {
      "text/html": [
       "<div>\n",
       "<style scoped>\n",
       "    .dataframe tbody tr th:only-of-type {\n",
       "        vertical-align: middle;\n",
       "    }\n",
       "\n",
       "    .dataframe tbody tr th {\n",
       "        vertical-align: top;\n",
       "    }\n",
       "\n",
       "    .dataframe thead th {\n",
       "        text-align: right;\n",
       "    }\n",
       "</style>\n",
       "<table border=\"1\" class=\"dataframe\">\n",
       "  <thead>\n",
       "    <tr style=\"text-align: right;\">\n",
       "      <th></th>\n",
       "      <th>Movies</th>\n",
       "      <th>Director</th>\n",
       "      <th>Actor</th>\n",
       "    </tr>\n",
       "  </thead>\n",
       "  <tbody>\n",
       "    <tr>\n",
       "      <th>0</th>\n",
       "      <td>Kho Gaye Hum Kahan</td>\n",
       "      <td>Arjun Varain Singh</td>\n",
       "      <td>Sidhant Chaturvedi</td>\n",
       "    </tr>\n",
       "    <tr>\n",
       "      <th>1</th>\n",
       "      <td>Anyone But You</td>\n",
       "      <td>Will Gluck</td>\n",
       "      <td>Glen Powell</td>\n",
       "    </tr>\n",
       "    <tr>\n",
       "      <th>2</th>\n",
       "      <td>Cruel Intentions</td>\n",
       "      <td>Roger Kumble</td>\n",
       "      <td>Ryan Phillippe</td>\n",
       "    </tr>\n",
       "    <tr>\n",
       "      <th>3</th>\n",
       "      <td>It Ends With Us</td>\n",
       "      <td>Justin Baldoni</td>\n",
       "      <td>Justin Baldoni</td>\n",
       "    </tr>\n",
       "    <tr>\n",
       "      <th>4</th>\n",
       "      <td>The Voyeurs</td>\n",
       "      <td>Michael Mohan</td>\n",
       "      <td>Justice Smith</td>\n",
       "    </tr>\n",
       "    <tr>\n",
       "      <th>5</th>\n",
       "      <td>Body Heat</td>\n",
       "      <td>Lawrence Kasdan</td>\n",
       "      <td>William Hurt</td>\n",
       "    </tr>\n",
       "  </tbody>\n",
       "</table>\n",
       "</div>"
      ],
      "text/plain": [
       "               Movies            Director               Actor\n",
       "0  Kho Gaye Hum Kahan  Arjun Varain Singh  Sidhant Chaturvedi\n",
       "1      Anyone But You          Will Gluck         Glen Powell\n",
       "2    Cruel Intentions        Roger Kumble      Ryan Phillippe\n",
       "3     It Ends With Us      Justin Baldoni      Justin Baldoni\n",
       "4         The Voyeurs       Michael Mohan       Justice Smith\n",
       "5           Body Heat     Lawrence Kasdan        William Hurt"
      ]
     },
     "execution_count": 18,
     "metadata": {},
     "output_type": "execute_result"
    }
   ],
   "source": [
    "sub_data_by_pos = data.iloc[:,[0,1,2]]\n",
    "sub_data_by_pos"
   ]
  },
  {
   "cell_type": "markdown",
   "metadata": {},
   "source": [
    "#### *III.\tCreate a new DataFrame by filtering rows based on a condition.*"
   ]
  },
  {
   "cell_type": "code",
   "execution_count": 19,
   "metadata": {},
   "outputs": [
    {
     "data": {
      "text/html": [
       "<div>\n",
       "<style scoped>\n",
       "    .dataframe tbody tr th:only-of-type {\n",
       "        vertical-align: middle;\n",
       "    }\n",
       "\n",
       "    .dataframe tbody tr th {\n",
       "        vertical-align: top;\n",
       "    }\n",
       "\n",
       "    .dataframe thead th {\n",
       "        text-align: right;\n",
       "    }\n",
       "</style>\n",
       "<table border=\"1\" class=\"dataframe\">\n",
       "  <thead>\n",
       "    <tr style=\"text-align: right;\">\n",
       "      <th></th>\n",
       "      <th>Movies</th>\n",
       "      <th>Director</th>\n",
       "      <th>Actor</th>\n",
       "      <th>Actress</th>\n",
       "      <th>Rating</th>\n",
       "      <th>Censor</th>\n",
       "      <th>Year</th>\n",
       "      <th>Length</th>\n",
       "    </tr>\n",
       "  </thead>\n",
       "  <tbody>\n",
       "    <tr>\n",
       "      <th>2</th>\n",
       "      <td>Cruel Intentions</td>\n",
       "      <td>Roger Kumble</td>\n",
       "      <td>Ryan Phillippe</td>\n",
       "      <td>Reese Witherspoon</td>\n",
       "      <td>6.8</td>\n",
       "      <td>Yes</td>\n",
       "      <td>1999</td>\n",
       "      <td>97.0</td>\n",
       "    </tr>\n",
       "    <tr>\n",
       "      <th>4</th>\n",
       "      <td>The Voyeurs</td>\n",
       "      <td>Michael Mohan</td>\n",
       "      <td>Justice Smith</td>\n",
       "      <td>Sydney Sweeney</td>\n",
       "      <td>6.1</td>\n",
       "      <td>Yes</td>\n",
       "      <td>2021</td>\n",
       "      <td>116.0</td>\n",
       "    </tr>\n",
       "    <tr>\n",
       "      <th>5</th>\n",
       "      <td>Body Heat</td>\n",
       "      <td>Lawrence Kasdan</td>\n",
       "      <td>William Hurt</td>\n",
       "      <td>Kathleen Turner</td>\n",
       "      <td>7.4</td>\n",
       "      <td>Yes</td>\n",
       "      <td>1981</td>\n",
       "      <td>113.0</td>\n",
       "    </tr>\n",
       "  </tbody>\n",
       "</table>\n",
       "</div>"
      ],
      "text/plain": [
       "             Movies         Director           Actor            Actress  \\\n",
       "2  Cruel Intentions     Roger Kumble  Ryan Phillippe  Reese Witherspoon   \n",
       "4       The Voyeurs    Michael Mohan   Justice Smith     Sydney Sweeney   \n",
       "5         Body Heat  Lawrence Kasdan    William Hurt    Kathleen Turner   \n",
       "\n",
       "   Rating Censor  Year  Length  \n",
       "2     6.8    Yes  1999    97.0  \n",
       "4     6.1    Yes  2021   116.0  \n",
       "5     7.4    Yes  1981   113.0  "
      ]
     },
     "execution_count": 19,
     "metadata": {},
     "output_type": "execute_result"
    }
   ],
   "source": [
    "new_data = data[data['Censor'] == \"Yes\"]\n",
    "new_data"
   ]
  },
  {
   "cell_type": "markdown",
   "metadata": {},
   "source": [
    "## <center>**TASK 2: Data Cleaning and Preprocessing**</center>"
   ]
  },
  {
   "cell_type": "markdown",
   "metadata": {},
   "source": [
    "#### *I.\tIdentify missing values in the dataset. Decide on a strategy to handle missing values (e.g., imputation or removal). Implement the chosen strategy and explain the reasoning.*"
   ]
  },
  {
   "cell_type": "markdown",
   "metadata": {},
   "source": [
    "#### *II.\tCreate a new column by applying a mathematical operation on existing columns. Convert a categorical variable into numerical representation (e.g., using one-hot encoding).*"
   ]
  },
  {
   "cell_type": "code",
   "execution_count": null,
   "metadata": {},
   "outputs": [],
   "source": []
  },
  {
   "cell_type": "markdown",
   "metadata": {},
   "source": [
    "#### *III.\tGroup the data by a specific column. Apply aggregation functions (sum, mean, count) to the grouped data. Present the results in a meaningful way.*"
   ]
  },
  {
   "cell_type": "code",
   "execution_count": 20,
   "metadata": {},
   "outputs": [
    {
     "name": "stderr",
     "output_type": "stream",
     "text": [
      "C:\\Users\\HP\\AppData\\Local\\Temp\\ipykernel_3888\\1789202964.py:1: FutureWarning: The default value of numeric_only in DataFrame.mean is deprecated. In a future version, it will default to False. In addition, specifying 'numeric_only=None' is deprecated. Select only valid columns or specify the value of numeric_only to silence this warning.\n",
      "  data.groupby(\"Year\")[\"Movies\"].agg(list).reset_index().mean()\n"
     ]
    },
    {
     "data": {
      "text/plain": [
       "Year    2009.6\n",
       "dtype: float64"
      ]
     },
     "execution_count": 20,
     "metadata": {},
     "output_type": "execute_result"
    }
   ],
   "source": [
    "data.groupby(\"Year\")[\"Movies\"].agg(list).reset_index().mean()"
   ]
  },
  {
   "cell_type": "code",
   "execution_count": 21,
   "metadata": {},
   "outputs": [
    {
     "name": "stderr",
     "output_type": "stream",
     "text": [
      "C:\\Users\\HP\\AppData\\Local\\Temp\\ipykernel_3888\\387590397.py:1: FutureWarning: The default value of numeric_only in DataFrame.mean is deprecated. In a future version, it will default to False. In addition, specifying 'numeric_only=None' is deprecated. Select only valid columns or specify the value of numeric_only to silence this warning.\n",
      "  data.groupby(\"Length\")[\"Movies\"].agg(list).reset_index().mean()\n"
     ]
    },
    {
     "data": {
      "text/plain": [
       "Length    115.16\n",
       "dtype: float64"
      ]
     },
     "execution_count": 21,
     "metadata": {},
     "output_type": "execute_result"
    }
   ],
   "source": [
    "data.groupby(\"Length\")[\"Movies\"].agg(list).reset_index().mean()\n"
   ]
  },
  {
   "cell_type": "code",
   "execution_count": 22,
   "metadata": {},
   "outputs": [
    {
     "name": "stderr",
     "output_type": "stream",
     "text": [
      "C:\\Users\\HP\\AppData\\Local\\Temp\\ipykernel_3888\\2275640151.py:1: FutureWarning: The default value of numeric_only in DataFrame.mean is deprecated. In a future version, it will default to False. In addition, specifying 'numeric_only=None' is deprecated. Select only valid columns or specify the value of numeric_only to silence this warning.\n",
      "  data.groupby(\"Rating\")[\"Movies\"].agg(list).reset_index().mean()\n"
     ]
    },
    {
     "data": {
      "text/plain": [
       "Rating    6.98\n",
       "dtype: float64"
      ]
     },
     "execution_count": 22,
     "metadata": {},
     "output_type": "execute_result"
    }
   ],
   "source": [
    "data.groupby(\"Rating\")[\"Movies\"].agg(list).reset_index().mean()\n"
   ]
  },
  {
   "cell_type": "markdown",
   "metadata": {},
   "source": [
    "## <center>**TASK 3: Load two different datasets. Merge them using different types of joins (inner, outer, left, right). Analyze the impact of each type of join on the merged dataset.**</center>"
   ]
  },
  {
   "cell_type": "code",
   "execution_count": 23,
   "metadata": {},
   "outputs": [],
   "source": [
    "movies = read_excel(\"data.xlsx\", sheet_name='Sheet1')\n",
    "genre = read_excel(\"data.xlsx\", sheet_name='Genres')"
   ]
  },
  {
   "cell_type": "code",
   "execution_count": 24,
   "metadata": {},
   "outputs": [
    {
     "name": "stdout",
     "output_type": "stream",
     "text": [
      "\n",
      "Inner Join Result:\n",
      "               Movies            Director               Actor  \\\n",
      "0  Kho Gaye Hum Kahan  Arjun Varain Singh  Sidhant Chaturvedi   \n",
      "1      Anyone But You          Will Gluck         Glen Powell   \n",
      "2    Cruel Intentions        Roger Kumble      Ryan Phillippe   \n",
      "3     It Ends With Us      Justin Baldoni      Justin Baldoni   \n",
      "4         The Voyeurs       Michael Mohan       Justice Smith   \n",
      "5           Body Heat     Lawrence Kasdan        William Hurt   \n",
      "\n",
      "             Actress  Rating Censor  Year  Length       Genre Sub-Genre  \n",
      "0      Ananya Pandey     8.0     No  2023   135.0       Drama   Rom-Com  \n",
      "1     Sydney Sweeney     6.6     No  2024   113.0      Comdey  Romantic  \n",
      "2  Reese Witherspoon     6.8    Yes  1999    97.0  Teen Drama  Thriller  \n",
      "3       Blake Lively     NaN     No  2024     NaN       Drama  Romantic  \n",
      "4     Sydney Sweeney     6.1    Yes  2021   116.0      Erotic  Thriller  \n",
      "5    Kathleen Turner     7.4    Yes  1981   113.0      Erotic  Thriller  \n"
     ]
    }
   ],
   "source": [
    "inner_join_result = merge(movies, genre, on='Movies', how='inner')\n",
    "print(\"\\nInner Join Result:\")\n",
    "print(inner_join_result)"
   ]
  },
  {
   "cell_type": "code",
   "execution_count": 25,
   "metadata": {},
   "outputs": [
    {
     "name": "stdout",
     "output_type": "stream",
     "text": [
      "\n",
      "Outer Join Result:\n",
      "               Movies            Director               Actor  \\\n",
      "0  Kho Gaye Hum Kahan  Arjun Varain Singh  Sidhant Chaturvedi   \n",
      "1      Anyone But You          Will Gluck         Glen Powell   \n",
      "2    Cruel Intentions        Roger Kumble      Ryan Phillippe   \n",
      "3     It Ends With Us      Justin Baldoni      Justin Baldoni   \n",
      "4         The Voyeurs       Michael Mohan       Justice Smith   \n",
      "5           Body Heat     Lawrence Kasdan        William Hurt   \n",
      "\n",
      "             Actress  Rating Censor  Year  Length       Genre Sub-Genre  \n",
      "0      Ananya Pandey     8.0     No  2023   135.0       Drama   Rom-Com  \n",
      "1     Sydney Sweeney     6.6     No  2024   113.0      Comdey  Romantic  \n",
      "2  Reese Witherspoon     6.8    Yes  1999    97.0  Teen Drama  Thriller  \n",
      "3       Blake Lively     NaN     No  2024     NaN       Drama  Romantic  \n",
      "4     Sydney Sweeney     6.1    Yes  2021   116.0      Erotic  Thriller  \n",
      "5    Kathleen Turner     7.4    Yes  1981   113.0      Erotic  Thriller  \n"
     ]
    }
   ],
   "source": [
    "outer_join_result = merge(movies, genre, on='Movies', how='outer')\n",
    "print(\"\\nOuter Join Result:\")\n",
    "print(outer_join_result)"
   ]
  },
  {
   "cell_type": "code",
   "execution_count": 26,
   "metadata": {},
   "outputs": [
    {
     "name": "stdout",
     "output_type": "stream",
     "text": [
      "\n",
      "Left Join Result:\n",
      "               Movies            Director               Actor  \\\n",
      "0  Kho Gaye Hum Kahan  Arjun Varain Singh  Sidhant Chaturvedi   \n",
      "1      Anyone But You          Will Gluck         Glen Powell   \n",
      "2    Cruel Intentions        Roger Kumble      Ryan Phillippe   \n",
      "3     It Ends With Us      Justin Baldoni      Justin Baldoni   \n",
      "4         The Voyeurs       Michael Mohan       Justice Smith   \n",
      "5           Body Heat     Lawrence Kasdan        William Hurt   \n",
      "\n",
      "             Actress  Rating Censor  Year  Length       Genre Sub-Genre  \n",
      "0      Ananya Pandey     8.0     No  2023   135.0       Drama   Rom-Com  \n",
      "1     Sydney Sweeney     6.6     No  2024   113.0      Comdey  Romantic  \n",
      "2  Reese Witherspoon     6.8    Yes  1999    97.0  Teen Drama  Thriller  \n",
      "3       Blake Lively     NaN     No  2024     NaN       Drama  Romantic  \n",
      "4     Sydney Sweeney     6.1    Yes  2021   116.0      Erotic  Thriller  \n",
      "5    Kathleen Turner     7.4    Yes  1981   113.0      Erotic  Thriller  \n"
     ]
    }
   ],
   "source": [
    "left_join_result = merge(movies, genre, on='Movies', how='left')\n",
    "print(\"\\nLeft Join Result:\")\n",
    "print(left_join_result)"
   ]
  },
  {
   "cell_type": "code",
   "execution_count": 27,
   "metadata": {},
   "outputs": [
    {
     "name": "stdout",
     "output_type": "stream",
     "text": [
      "\n",
      "Right Join Result:\n",
      "               Movies            Director               Actor  \\\n",
      "0  Kho Gaye Hum Kahan  Arjun Varain Singh  Sidhant Chaturvedi   \n",
      "1      Anyone But You          Will Gluck         Glen Powell   \n",
      "2    Cruel Intentions        Roger Kumble      Ryan Phillippe   \n",
      "3     It Ends With Us      Justin Baldoni      Justin Baldoni   \n",
      "4         The Voyeurs       Michael Mohan       Justice Smith   \n",
      "5           Body Heat     Lawrence Kasdan        William Hurt   \n",
      "\n",
      "             Actress  Rating Censor  Year  Length       Genre Sub-Genre  \n",
      "0      Ananya Pandey     8.0     No  2023   135.0       Drama   Rom-Com  \n",
      "1     Sydney Sweeney     6.6     No  2024   113.0      Comdey  Romantic  \n",
      "2  Reese Witherspoon     6.8    Yes  1999    97.0  Teen Drama  Thriller  \n",
      "3       Blake Lively     NaN     No  2024     NaN       Drama  Romantic  \n",
      "4     Sydney Sweeney     6.1    Yes  2021   116.0      Erotic  Thriller  \n",
      "5    Kathleen Turner     7.4    Yes  1981   113.0      Erotic  Thriller  \n"
     ]
    }
   ],
   "source": [
    "right_join_result = merge(movies, genre, on='Movies', how='right')\n",
    "print(\"\\nRight Join Result:\")\n",
    "print(right_join_result)"
   ]
  },
  {
   "cell_type": "markdown",
   "metadata": {},
   "source": [
    "## <center>**TASK 4: Visualization**</center>"
   ]
  },
  {
   "cell_type": "markdown",
   "metadata": {},
   "source": [
    "#### *I.\tCreate a bar plot, line plot, and scatter plot using Pandas plotting functions. Customize the plots to make them more informative.*"
   ]
  },
  {
   "cell_type": "code",
   "execution_count": 28,
   "metadata": {},
   "outputs": [
    {
     "data": {
      "text/plain": [
       "<Axes: title={'center': 'Rating'}, xlabel='Movies', ylabel='Ratings'>"
      ]
     },
     "execution_count": 28,
     "metadata": {},
     "output_type": "execute_result"
    },
    {
     "data": {
      "image/png": "[encoded data removed]",
      "text/plain": [
       "<Figure size 640x480 with 1 Axes>"
      ]
     },
     "metadata": {},
     "output_type": "display_data"
    }
   ],
   "source": [
    "data.plot(kind='bar', x='Movies', y='Rating', color='skyblue', legend=False, title='Rating', ylabel=\"Ratings\", xlabel=\"Movies\")"
   ]
  },
  {
   "cell_type": "code",
   "execution_count": 29,
   "metadata": {},
   "outputs": [
    {
     "data": {
      "text/plain": [
       "<Axes: title={'center': 'Rating'}, xlabel='Movies', ylabel='Ratings'>"
      ]
     },
     "execution_count": 29,
     "metadata": {},
     "output_type": "execute_result"
    },
    {
     "data": {
      "image/png": "[encoded data removed]",
      "text/plain": [
       "<Figure size 640x480 with 1 Axes>"
      ]
     },
     "metadata": {},
     "output_type": "display_data"
    }
   ],
   "source": [
    "data.plot(kind='line', x='Movies', y='Rating', color='skyblue', legend=False, title='Rating', ylabel=\"Ratings\", xlabel=\"Movies\")"
   ]
  },
  {
   "cell_type": "code",
   "execution_count": 30,
   "metadata": {},
   "outputs": [
    {
     "data": {
      "text/plain": [
       "<Axes: title={'center': 'Rating'}, xlabel='Movies', ylabel='Ratings'>"
      ]
     },
     "execution_count": 30,
     "metadata": {},
     "output_type": "execute_result"
    },
    {
     "data": {
      "image/png": "[encoded data removed]",
      "text/plain": [
       "<Figure size 640x480 with 1 Axes>"
      ]
     },
     "metadata": {},
     "output_type": "display_data"
    }
   ],
   "source": [
    "data.plot(kind='scatter', x='Movies', y='Rating', color='skyblue', legend=False, title='Rating', ylabel=\"Ratings\", xlabel=\"Movies\")"
   ]
  },
  {
   "cell_type": "markdown",
   "metadata": {},
   "source": [
    "#### *II.\tVisualize the correlation matrix of numerical columns. Highlight highly correlated features.*"
   ]
  },
  {
   "cell_type": "markdown",
   "metadata": {},
   "source": [
    "#### *III.\tCreate histograms and box plots for numerical columns. Analyze the distribution and presence of outliers*"
   ]
  },
  {
   "cell_type": "code",
   "execution_count": 31,
   "metadata": {},
   "outputs": [
    {
     "data": {
      "text/plain": [
       "<Axes: title={'center': 'Rating'}, ylabel='Frequency'>"
      ]
     },
     "execution_count": 31,
     "metadata": {},
     "output_type": "execute_result"
    },
    {
     "data": {
      "image/png": "[encoded data removed]",
      "text/plain": [
       "<Figure size 640x480 with 1 Axes>"
      ]
     },
     "metadata": {},
     "output_type": "display_data"
    }
   ],
   "source": [
    "data.plot(kind='hist', x='Movies', y='Length', color='violet', legend=False, title='Rating')"
   ]
  },
  {
   "cell_type": "markdown",
   "metadata": {},
   "source": [
    "## <center>**TASK 5: Basic NumPy Operations**</center>"
   ]
  },
  {
   "cell_type": "code",
   "execution_count": 32,
   "metadata": {},
   "outputs": [],
   "source": [
    "from numpy import * "
   ]
  },
  {
   "cell_type": "markdown",
   "metadata": {},
   "source": [
    "#### *1.\tCreate a NumPy array 'arr' with values from 1 to 10.*"
   ]
  },
  {
   "cell_type": "code",
   "execution_count": 33,
   "metadata": {},
   "outputs": [
    {
     "data": {
      "text/plain": [
       "array([ 1,  2,  3,  4,  5,  6,  7,  8,  9, 10])"
      ]
     },
     "execution_count": 33,
     "metadata": {},
     "output_type": "execute_result"
    }
   ],
   "source": [
    "arr = arange(1,11, dtype=\"int32\")\n",
    "arr"
   ]
  },
  {
   "cell_type": "markdown",
   "metadata": {},
   "source": [
    "#### *2.\tCreate another NumPy array 'arr2' with values from 11 to 20.*"
   ]
  },
  {
   "cell_type": "code",
   "execution_count": 34,
   "metadata": {},
   "outputs": [
    {
     "data": {
      "text/plain": [
       "array([11, 12, 13, 14, 15, 16, 17, 18, 19, 20])"
      ]
     },
     "execution_count": 34,
     "metadata": {},
     "output_type": "execute_result"
    }
   ],
   "source": [
    "arr2 = arange(11,21, dtype=\"int32\")\n",
    "arr2"
   ]
  },
  {
   "cell_type": "markdown",
   "metadata": {},
   "source": [
    "#### *3.\tAdd, subtract, multiply, and divide 'arr' and 'arr2'. Print the results.*"
   ]
  },
  {
   "cell_type": "code",
   "execution_count": 35,
   "metadata": {},
   "outputs": [
    {
     "name": "stdout",
     "output_type": "stream",
     "text": [
      "The sum of the arrays is: [12 14 16 18 20 22 24 26 28 30]\n",
      "The difference of the arrays is: [-10 -10 -10 -10 -10 -10 -10 -10 -10 -10]\n",
      "The multiplication of the arrays is: [ 11  24  39  56  75  96 119 144 171 200]\n",
      "The division of the arrays is: [0.09090909 0.16666667 0.23076923 0.28571429 0.33333333 0.375\n",
      " 0.41176471 0.44444444 0.47368421 0.5       ]\n"
     ]
    }
   ],
   "source": [
    "print(f\"The sum of the arrays is: {arr+arr2}\")\n",
    "print(f\"The difference of the arrays is: {arr-arr2}\")\n",
    "print(f\"The multiplication of the arrays is: {arr*arr2}\")\n",
    "print(f\"The division of the arrays is: {arr/arr2}\")"
   ]
  },
  {
   "cell_type": "markdown",
   "metadata": {},
   "source": [
    "## <center>**TASK 6: Array Manipulation**</center>"
   ]
  },
  {
   "cell_type": "markdown",
   "metadata": {},
   "source": [
    "#### *1.\tReshape 'arr' into a 2x5 matrix.*"
   ]
  },
  {
   "cell_type": "code",
   "execution_count": 36,
   "metadata": {},
   "outputs": [
    {
     "data": {
      "text/plain": [
       "array([[ 1,  2,  3,  4,  5],\n",
       "       [ 6,  7,  8,  9, 10]])"
      ]
     },
     "execution_count": 36,
     "metadata": {},
     "output_type": "execute_result"
    }
   ],
   "source": [
    "new_arr = arr.reshape(2,5)\n",
    "new_arr"
   ]
  },
  {
   "cell_type": "markdown",
   "metadata": {},
   "source": [
    "#### *2.\tTranspose the matrix obtained in the previous step.*"
   ]
  },
  {
   "cell_type": "code",
   "execution_count": 37,
   "metadata": {},
   "outputs": [
    {
     "data": {
      "text/plain": [
       "array([[ 1,  6],\n",
       "       [ 2,  7],\n",
       "       [ 3,  8],\n",
       "       [ 4,  9],\n",
       "       [ 5, 10]])"
      ]
     },
     "execution_count": 37,
     "metadata": {},
     "output_type": "execute_result"
    }
   ],
   "source": [
    "new_arr.transpose()"
   ]
  },
  {
   "cell_type": "markdown",
   "metadata": {},
   "source": [
    "#### *3.\tFlatten the transposed matrix into a 1D array.*"
   ]
  },
  {
   "cell_type": "code",
   "execution_count": 38,
   "metadata": {},
   "outputs": [
    {
     "data": {
      "text/plain": [
       "array([[ 1,  2,  3,  4,  5,  6,  7,  8,  9, 10]])"
      ]
     },
     "execution_count": 38,
     "metadata": {},
     "output_type": "execute_result"
    }
   ],
   "source": [
    "new_arr.reshape(1,10)"
   ]
  },
  {
   "cell_type": "markdown",
   "metadata": {},
   "source": [
    "#### *4.\tStack 'arr' and 'arr2' vertically. Print the result.*"
   ]
  },
  {
   "cell_type": "code",
   "execution_count": 39,
   "metadata": {},
   "outputs": [
    {
     "data": {
      "text/plain": [
       "array([[ 1,  2,  3,  4,  5,  6,  7,  8,  9, 10],\n",
       "       [11, 12, 13, 14, 15, 16, 17, 18, 19, 20]])"
      ]
     },
     "execution_count": 39,
     "metadata": {},
     "output_type": "execute_result"
    }
   ],
   "source": [
    "vstack((arr, arr2))"
   ]
  },
  {
   "cell_type": "markdown",
   "metadata": {},
   "source": [
    "## <center>**TASK 7: Statistical Operations**</center>"
   ]
  },
  {
   "cell_type": "markdown",
   "metadata": {},
   "source": [
    "#### *1.\tCalculate the mean, median, and standard deviation of 'arr'.*"
   ]
  },
  {
   "cell_type": "code",
   "execution_count": 40,
   "metadata": {},
   "outputs": [
    {
     "name": "stdout",
     "output_type": "stream",
     "text": [
      "The median is: 5.5\n",
      "The mean is: 5.5\n",
      "The standard deviation is: 2.8722813232690143\n"
     ]
    }
   ],
   "source": [
    "std = std(arr)\n",
    "med = median(arr)\n",
    "mean = mean(arr)\n",
    "print(f\"The median is: {med}\")\n",
    "print(f\"The mean is: {mean}\")\n",
    "print(f\"The standard deviation is: {std}\")\n"
   ]
  },
  {
   "cell_type": "markdown",
   "metadata": {},
   "source": [
    "#### *2.\tFind the maximum and minimum values in 'arr'.*"
   ]
  },
  {
   "cell_type": "code",
   "execution_count": 41,
   "metadata": {},
   "outputs": [
    {
     "name": "stdout",
     "output_type": "stream",
     "text": [
      "The max is is: 10\n",
      "The min is: 1\n"
     ]
    }
   ],
   "source": [
    "print(f\"The max is is: {max(arr)}\")\n",
    "print(f\"The min is: {min(arr)}\")\n"
   ]
  },
  {
   "cell_type": "markdown",
   "metadata": {},
   "source": [
    "#### *3.\tNormalize 'arr' (subtract the mean and divide by the standard deviation).*"
   ]
  },
  {
   "cell_type": "code",
   "execution_count": 42,
   "metadata": {},
   "outputs": [
    {
     "name": "stdout",
     "output_type": "stream",
     "text": [
      "Normalized Array: [-1.5666989036012806, -1.2185435916898848, -0.8703882797784892, -0.5222329678670935, -0.17407765595569785, 0.17407765595569785, 0.5222329678670935, 0.8703882797784892, 1.2185435916898848, 1.5666989036012806]\n"
     ]
    }
   ],
   "source": [
    "normal_array = []\n",
    "for data in arr:\n",
    "    normal_array.append((data-mean)/std)\n",
    "print(f\"Normalized Array: {normal_array}\")"
   ]
  },
  {
   "cell_type": "markdown",
   "metadata": {},
   "source": [
    "## <center>**TASK 8: Boolean Indexing**</center>"
   ]
  },
  {
   "cell_type": "markdown",
   "metadata": {},
   "source": [
    "#### *1.\tCreate a boolean array 'bool_arr' for elements in 'arr' greater than 5.*"
   ]
  },
  {
   "cell_type": "code",
   "execution_count": 43,
   "metadata": {},
   "outputs": [
    {
     "data": {
      "text/plain": [
       "[False, False, False, False, False, True, True, True, True, True]"
      ]
     },
     "execution_count": 43,
     "metadata": {},
     "output_type": "execute_result"
    }
   ],
   "source": [
    "bool_arr = list(map((lambda x: x>5), arr))\n",
    "bool_arr"
   ]
  },
  {
   "cell_type": "markdown",
   "metadata": {},
   "source": [
    "#### *2.\tUse 'bool_arr' to extract the elements from 'arr' that are greater than 5.*"
   ]
  },
  {
   "cell_type": "code",
   "execution_count": 44,
   "metadata": {},
   "outputs": [
    {
     "data": {
      "text/plain": [
       "array([ 6,  7,  8,  9, 10])"
      ]
     },
     "execution_count": 44,
     "metadata": {},
     "output_type": "execute_result"
    }
   ],
   "source": [
    "bool_arr2 = arr[bool_arr]\n",
    "bool_arr2"
   ]
  },
  {
   "cell_type": "markdown",
   "metadata": {},
   "source": [
    "## <center>**TASK 9: Random Module**</center>"
   ]
  },
  {
   "cell_type": "markdown",
   "metadata": {},
   "source": [
    "#### *1.\tGenerate a 3x3 matrix with random values between 0 and 1.*"
   ]
  },
  {
   "cell_type": "code",
   "execution_count": 45,
   "metadata": {},
   "outputs": [
    {
     "data": {
      "text/plain": [
       "array([[0, 0, 0],\n",
       "       [0, 0, 0],\n",
       "       [0, 0, 0]])"
      ]
     },
     "execution_count": 45,
     "metadata": {},
     "output_type": "execute_result"
    }
   ],
   "source": [
    "rand_arr = random.randint(0,1, (3,3))\n",
    "rand_arr"
   ]
  },
  {
   "cell_type": "markdown",
   "metadata": {},
   "source": [
    "#### *2.\tCreate an array of 10 random integers between 1 and 100.*"
   ]
  },
  {
   "cell_type": "code",
   "execution_count": 46,
   "metadata": {},
   "outputs": [
    {
     "data": {
      "text/plain": [
       "array([[14, 73, 50, 53, 49, 58, 63, 19, 32, 12]])"
      ]
     },
     "execution_count": 46,
     "metadata": {},
     "output_type": "execute_result"
    }
   ],
   "source": [
    "rand_arr = random.randint(1,100, (1,10))\n",
    "rand_arr"
   ]
  },
  {
   "cell_type": "markdown",
   "metadata": {},
   "source": [
    "#### *3.\tShuffle the elements of 'arr' randomly.*"
   ]
  },
  {
   "cell_type": "code",
   "execution_count": 47,
   "metadata": {},
   "outputs": [
    {
     "data": {
      "text/plain": [
       "array([ 5,  6,  1,  2,  3,  8,  4,  9,  7, 10])"
      ]
     },
     "execution_count": 47,
     "metadata": {},
     "output_type": "execute_result"
    }
   ],
   "source": [
    "random.shuffle(arr)\n",
    "arr"
   ]
  },
  {
   "cell_type": "markdown",
   "metadata": {},
   "source": [
    "## <center>**TASK 10: Random Module**</center>"
   ]
  },
  {
   "cell_type": "markdown",
   "metadata": {},
   "source": [
    "#### *1.\tApply the square root function to all elements in 'arr'.*"
   ]
  },
  {
   "cell_type": "code",
   "execution_count": 48,
   "metadata": {},
   "outputs": [
    {
     "data": {
      "text/plain": [
       "[2.23606797749979,\n",
       " 2.449489742783178,\n",
       " 1.0,\n",
       " 1.4142135623730951,\n",
       " 1.7320508075688772,\n",
       " 2.8284271247461903,\n",
       " 2.0,\n",
       " 3.0,\n",
       " 2.6457513110645907,\n",
       " 3.1622776601683795]"
      ]
     },
     "execution_count": 48,
     "metadata": {},
     "output_type": "execute_result"
    }
   ],
   "source": [
    "list(map(lambda x: sqrt(x),arr))"
   ]
  },
  {
   "cell_type": "markdown",
   "metadata": {},
   "source": [
    "### <center>**OR**</center>"
   ]
  },
  {
   "cell_type": "code",
   "execution_count": 49,
   "metadata": {},
   "outputs": [
    {
     "data": {
      "text/plain": [
       "array([2.23606798, 2.44948974, 1.        , 1.41421356, 1.73205081,\n",
       "       2.82842712, 2.        , 3.        , 2.64575131, 3.16227766])"
      ]
     },
     "execution_count": 49,
     "metadata": {},
     "output_type": "execute_result"
    }
   ],
   "source": [
    "square_root = sqrt(arr)\n",
    "square_root"
   ]
  },
  {
   "cell_type": "markdown",
   "metadata": {},
   "source": [
    "#### *2.\tUse the exponential function to calculate exex for each element in 'arr'.*"
   ]
  },
  {
   "cell_type": "code",
   "execution_count": 50,
   "metadata": {},
   "outputs": [
    {
     "name": "stdout",
     "output_type": "stream",
     "text": [
      "[1.48413159e+02 4.03428793e+02 2.71828183e+00 7.38905610e+00\n",
      " 2.00855369e+01 2.98095799e+03 5.45981500e+01 8.10308393e+03\n",
      " 1.09663316e+03 2.20264658e+04]\n"
     ]
    }
   ],
   "source": [
    "import numpy\n",
    "exponential_array = numpy.exp(arr)\n",
    "print(exponential_array)"
   ]
  },
  {
   "cell_type": "markdown",
   "metadata": {},
   "source": [
    "## <center>**TASK 11: Linear Algebra Operations**</center>"
   ]
  },
  {
   "cell_type": "markdown",
   "metadata": {},
   "source": [
    "#### *1.\tCreate a 3x3 matrix 'mat_a' with random values.*"
   ]
  },
  {
   "cell_type": "code",
   "execution_count": 51,
   "metadata": {},
   "outputs": [
    {
     "data": {
      "text/plain": [
       "matrix([[84,  9, 51],\n",
       "        [86, 54,  0],\n",
       "        [54, 29, 18]])"
      ]
     },
     "execution_count": 51,
     "metadata": {},
     "output_type": "execute_result"
    }
   ],
   "source": [
    "mat_a = matrix(random.randint(0,100, (3,3)))\n",
    "mat_a"
   ]
  },
  {
   "cell_type": "markdown",
   "metadata": {},
   "source": [
    "#### *2.\tCreate a 3x1 matrix 'vec_b' with random values.*"
   ]
  },
  {
   "cell_type": "code",
   "execution_count": 52,
   "metadata": {},
   "outputs": [
    {
     "data": {
      "text/plain": [
       "matrix([[ 1],\n",
       "        [75],\n",
       "        [51]])"
      ]
     },
     "execution_count": 52,
     "metadata": {},
     "output_type": "execute_result"
    }
   ],
   "source": [
    "vec_b = matrix(random.randint(0,100, (3,1)))\n",
    "vec_b"
   ]
  },
  {
   "cell_type": "markdown",
   "metadata": {},
   "source": [
    "#### *3.\tMultiply 'mat_a' and 'vec_b' using the dot product.*"
   ]
  },
  {
   "cell_type": "code",
   "execution_count": 53,
   "metadata": {},
   "outputs": [
    {
     "data": {
      "text/plain": [
       "matrix([[3360],\n",
       "        [4136],\n",
       "        [3147]])"
      ]
     },
     "execution_count": 53,
     "metadata": {},
     "output_type": "execute_result"
    }
   ],
   "source": [
    "mat_a.dot(vec_b)"
   ]
  },
  {
   "cell_type": "markdown",
   "metadata": {},
   "source": [
    "## <center>**TASK 12: Broadcasting**</center>"
   ]
  },
  {
   "cell_type": "markdown",
   "metadata": {},
   "source": [
    "#### *1.\tCreate a 2D array 'matrix' with values from 1 to 9.*"
   ]
  },
  {
   "cell_type": "code",
   "execution_count": 54,
   "metadata": {},
   "outputs": [
    {
     "data": {
      "text/plain": [
       "array([1, 2, 3, 4, 5, 6, 7, 8])"
      ]
     },
     "execution_count": 54,
     "metadata": {},
     "output_type": "execute_result"
    }
   ],
   "source": [
    "matrix = arange(1,9)\n",
    "matrix"
   ]
  },
  {
   "cell_type": "markdown",
   "metadata": {},
   "source": [
    "#### *2.\tSubtract the mean of each row from each element in that row.*"
   ]
  },
  {
   "cell_type": "code",
   "execution_count": 55,
   "metadata": {},
   "outputs": [],
   "source": [
    "matrix = [[1, 2, 3],\n",
    "          [4, 5, 6],\n",
    "          [7, 8, 9]]"
   ]
  },
  {
   "cell_type": "code",
   "execution_count": 56,
   "metadata": {},
   "outputs": [
    {
     "data": {
      "text/plain": [
       "[-1.0, 0.0, 1.0, -1.0, 0.0, 1.0, -1.0, 0.0, 1.0]"
      ]
     },
     "execution_count": 56,
     "metadata": {},
     "output_type": "execute_result"
    }
   ],
   "source": [
    "import numpy\n",
    "\n",
    "mean_row = []\n",
    "for x in range(len(matrix)):\n",
    "    for y in range(len(matrix)):\n",
    "        mean_row.append(matrix[x][y]-numpy.mean(matrix[x]))\n",
    "mean_row"
   ]
  },
  {
   "cell_type": "code",
   "execution_count": 57,
   "metadata": {},
   "outputs": [
    {
     "data": {
      "text/plain": [
       "[[-1.0, 0.6666666666666667, 2.111111111111111],\n",
       " [-1.0, 1.6666666666666665, 3.777777777777778],\n",
       " [-1.0, 2.666666666666667, 5.444444444444445]]"
      ]
     },
     "execution_count": 57,
     "metadata": {},
     "output_type": "execute_result"
    }
   ],
   "source": [
    "import numpy\n",
    "\n",
    "mean_row = []\n",
    "for x in range(len(matrix)):\n",
    "    for y in range(len(matrix)):\n",
    "        matrix[x][y]=matrix[x][y]-numpy.mean(matrix[x])\n",
    "matrix"
   ]
  }
 ],
 "metadata": {
  "kernelspec": {
   "display_name": "Python 3.8.10 64-bit",
   "language": "python",
   "name": "python3"
  },
  "language_info": {
   "codemirror_mode": {
    "name": "ipython",
    "version": 3
   },
   "file_extension": ".py",
   "mimetype": "text/x-python",
   "name": "python",
   "nbconvert_exporter": "python",
   "pygments_lexer": "ipython3",
   "version": "3.8.10"
  },
  "orig_nbformat": 4,
  "vscode": {
   "interpreter": {
    "hash": "b337b16e1f284c9fe7de692799556d56c1809887abe3f5a49ffeb9e7df151cfb"
   }
  }
 },
 "nbformat": 4,
 "nbformat_minor": 2
}
