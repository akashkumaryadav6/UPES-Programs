{
 "cells": [
  {
   "cell_type": "code",
   "execution_count": 3,
   "metadata": {},
   "outputs": [
    {
     "name": "stdout",
     "output_type": "stream",
     "text": [
      "Enter Burst Time:\n",
      "P\t BT\t WT\t TAT\n",
      "P2\t 2\t 0\t 2\n",
      "P4\t 3\t 2\t 5\n",
      "P5\t 4\t 5\t 9\n",
      "P1\t 6\t 9\t 15\n",
      "P3\t 8\t 15\t 23\n",
      "Average Waiting Time= 6.2\n",
      "Average Turnaround Time= 10.8\n"
     ]
    }
   ],
   "source": [
    "n = int(input(\"Enter number of process: \"))\n",
    "\t# Matrix for storing Process Id, Burst Time, Average Waiting Time & Average Turn Around Time.\n",
    "A = [[0 for j in range(4)] for i in range(100)]\n",
    "total, avg_wt, avg_tat = 0, 0, 0\n",
    "print(\"Enter Burst Time:\")\n",
    "for i in range(n): # User Input Burst Time and alloting Process Id.\n",
    "\tA[i][1] = int(input(f\"P{i+1}: \"))\n",
    "\tA[i][0] = i + 1\n",
    "for i in range(n): # Sorting process according to their Burst Time.\n",
    "\tindex = i\n",
    "\tfor j in range(i + 1, n):\n",
    "\t\tif A[j][1] < A[index][1]:\n",
    "\t\t\tindex = j\n",
    "\ttemp = A[i][1]\n",
    "\tA[i][1] = A[index][1]\n",
    "\tA[index][1] = temp\n",
    "\ttemp = A[i][0]\n",
    "\tA[i][0] = A[index][0]\n",
    "\tA[index][0] = temp\n",
    "A[0][2] = 0 # Calculation of Waiting Times\n",
    "for i in range(1, n):\n",
    "\tA[i][2] = 0\n",
    "\tfor j in range(i):\n",
    "\t\tA[i][2] += A[j][1]\n",
    "\ttotal += A[i][2]\n",
    "avg_wt = total / n\n",
    "total = 0\n",
    "\t# Calculation of Turn Around Time and printing the data.\n",
    "print(\"P\t BT\t WT\t TAT\")\n",
    "for i in range(n):\n",
    "\tA[i][3] = A[i][1] + A[i][2]\n",
    "\ttotal += A[i][3]\n",
    "\tprint(f\"P{A[i][0]}\t {A[i][1]}\t {A[i][2]}\t {A[i][3]}\")\n",
    "avg_tat = total / n\n",
    "print(f\"Average Waiting Time= {avg_wt}\")\n",
    "print(f\"Average Turnaround Time= {avg_tat}\")"
   ]
  }
 ],
 "metadata": {
  "kernelspec": {
   "display_name": "Python 3.8.10 64-bit",
   "language": "python",
   "name": "python3"
  },
  "language_info": {
   "codemirror_mode": {
    "name": "ipython",
    "version": 3
   },
   "file_extension": ".py",
   "mimetype": "text/x-python",
   "name": "python",
   "nbconvert_exporter": "python",
   "pygments_lexer": "ipython3",
   "version": "3.8.10"
  },
  "orig_nbformat": 4,
  "vscode": {
   "interpreter": {
    "hash": "b337b16e1f284c9fe7de692799556d56c1809887abe3f5a49ffeb9e7df151cfb"
   }
  }
 },
 "nbformat": 4,
 "nbformat_minor": 2
}
