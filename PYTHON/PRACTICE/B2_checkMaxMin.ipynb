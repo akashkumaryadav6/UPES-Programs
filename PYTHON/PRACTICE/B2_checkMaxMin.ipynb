{
 "cells": [
  {
   "cell_type": "markdown",
   "metadata": {},
   "source": [
    "<h5><i>Differentiate between Map and Filter functions.</h5>"
   ]
  },
  {
   "cell_type": "markdown",
   "metadata": {},
   "source": [
    "<b>Map Function (map()):</b> Map is a pre-defined function in python that maps all the values from a specific input to a user-defined function and produces the output accordingly. It takes two necessary arguements, a user-defined function and an input (list, tuple, string and others). <br>For example,"
   ]
  },
  {
   "cell_type": "code",
   "execution_count": 37,
   "metadata": {},
   "outputs": [
    {
     "name": "stdout",
     "output_type": "stream",
     "text": [
      "[True, True, False, True, False, True, False]\n"
     ]
    }
   ],
   "source": [
    "#defining a function\n",
    "def checkEven(x):\n",
    "    evenList = list\n",
    "    if x%2 == 0:\n",
    "        return True\n",
    "    else: \n",
    "        return False\n",
    "\n",
    "#an input list\n",
    "inputList = [2,4,5,6,7,8,9]\n",
    "\n",
    "#mapping input list into the function\n",
    "output = list(map(checkEven,inputList))\n",
    "print(output)"
   ]
  },
  {
   "cell_type": "markdown",
   "metadata": {},
   "source": [
    "<b>Filter Function (filter()):</b> Map is a pre-defined function in python that filter all the true values from specific input to a user-defined function and produces the output accordingly. It takes two necessary arguements, a user-defined function and an input (list, tuple, string and others). <br>For example,"
   ]
  },
  {
   "cell_type": "code",
   "execution_count": 38,
   "metadata": {},
   "outputs": [
    {
     "name": "stdout",
     "output_type": "stream",
     "text": [
      "[2, 4, 6, 8]\n"
     ]
    }
   ],
   "source": [
    "#defining a function\n",
    "def checkEven(x):\n",
    "    evenList = list\n",
    "    if x%2 == 0:\n",
    "        return x\n",
    "    else: \n",
    "        return 0\n",
    "\n",
    "#an input list\n",
    "inputList = [2,4,5,6,7,8,9]\n",
    "\n",
    "#filtering true values by passing input list into the function\n",
    "output = list(filter(checkEven,inputList))\n",
    "print(output)"
   ]
  },
  {
   "cell_type": "markdown",
   "metadata": {},
   "source": [
    "<font size = 4.5><i>Write a Python program to find the maximum and minimum values in a given list of tuples using lambda function.<br>\n",
    "Original list with Tuples: [('V', 62),('VI', 68),('VII', 72),('VIII', 70),('IX', 74),('X', 65)]<br>\n",
    "Output: Maximum and minimum values of the said list of tuples: (74.62)</i></font>"
   ]
  },
  {
   "cell_type": "code",
   "execution_count": 43,
   "metadata": {},
   "outputs": [
    {
     "name": "stdout",
     "output_type": "stream",
     "text": [
      "Maximum and minimum values of the list of tuples: (74, 62)\n"
     ]
    }
   ],
   "source": [
    "# Original list with tuples\n",
    "tuples_list = [('V', 62), ('VI', 68), ('VII', 72), ('VIII', 70), ('IX', 74), ('X', 65)]\n",
    "\n",
    "# Find the maximum and minimum values using lambda function\n",
    "max_tuple = max(tuples_list, key=lambda x: x[1])\n",
    "min_tuple = min(tuples_list, key=lambda x: x[1])\n",
    "\n",
    "# Output the maximum and minimum values\n",
    "print(f\"Maximum and minimum values of the list of tuples: {max_tuple[1], min_tuple[1]}\")\n"
   ]
  }
 ],
 "metadata": {
  "kernelspec": {
   "display_name": "Python 3.8.10 64-bit",
   "language": "python",
   "name": "python3"
  },
  "language_info": {
   "codemirror_mode": {
    "name": "ipython",
    "version": 3
   },
   "file_extension": ".py",
   "mimetype": "text/x-python",
   "name": "python",
   "nbconvert_exporter": "python",
   "pygments_lexer": "ipython3",
   "version": "3.8.10"
  },
  "orig_nbformat": 4,
  "vscode": {
   "interpreter": {
    "hash": "b337b16e1f284c9fe7de692799556d56c1809887abe3f5a49ffeb9e7df151cfb"
   }
  }
 },
 "nbformat": 4,
 "nbformat_minor": 2
}
