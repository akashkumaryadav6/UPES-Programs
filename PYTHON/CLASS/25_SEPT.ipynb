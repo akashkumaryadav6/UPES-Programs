{
 "cells": [
  {
   "cell_type": "code",
   "execution_count": 12,
   "metadata": {},
   "outputs": [],
   "source": [
    "L = [2,9,43,90,523,25,6]"
   ]
  },
  {
   "cell_type": "code",
   "execution_count": 13,
   "metadata": {},
   "outputs": [],
   "source": [
    "doubler = map(lambda x: x*2, L)"
   ]
  },
  {
   "cell_type": "code",
   "execution_count": 14,
   "metadata": {},
   "outputs": [
    {
     "name": "stdout",
     "output_type": "stream",
     "text": [
      "[4, 18, 86, 180, 1046, 50, 12]\n"
     ]
    }
   ],
   "source": [
    "print(list(doubler))"
   ]
  },
  {
   "cell_type": "code",
   "execution_count": 15,
   "metadata": {},
   "outputs": [],
   "source": [
    "def double(x):\n",
    "    return x*2; "
   ]
  },
  {
   "cell_type": "code",
   "execution_count": 16,
   "metadata": {},
   "outputs": [
    {
     "name": "stdout",
     "output_type": "stream",
     "text": [
      "[2, 9, 43, 90, 523, 25, 6, 2, 9, 43, 90, 523, 25, 6]\n"
     ]
    }
   ],
   "source": [
    "mod_list = double(L)\n",
    "print(mod_list)"
   ]
  },
  {
   "cell_type": "code",
   "execution_count": 17,
   "metadata": {},
   "outputs": [
    {
     "data": {
      "text/plain": [
       "[4, 18, 86, 180, 1046, 50, 12]"
      ]
     },
     "execution_count": 17,
     "metadata": {},
     "output_type": "execute_result"
    }
   ],
   "source": [
    "mod = map(double, L)\n",
    "list(mod)"
   ]
  },
  {
   "cell_type": "code",
   "execution_count": null,
   "metadata": {},
   "outputs": [],
   "source": []
  },
  {
   "cell_type": "code",
   "execution_count": 18,
   "metadata": {},
   "outputs": [
    {
     "name": "stdout",
     "output_type": "stream",
     "text": [
      "Modified Dictionary:\n",
      "{7: 'Sam_', 8: 'John_', 9: 'Aadi_'}\n"
     ]
    }
   ],
   "source": [
    "dOfNames = {7:'Sam', 8:'John', 9:'Aadi'}\n",
    "dOfNames = dict(map(lambda x:(x[0],x[1]+\"_\"), dOfNames.items()))\n",
    "print(\"Modified Dictionary:\")\n",
    "print(dOfNames)\n"
   ]
  },
  {
   "cell_type": "code",
   "execution_count": 19,
   "metadata": {},
   "outputs": [
    {
     "name": "stdout",
     "output_type": "stream",
     "text": [
      "[2, 6, 9, 25, 43, 90, 523]\n"
     ]
    }
   ],
   "source": [
    "print(sorted(L))"
   ]
  },
  {
   "cell_type": "code",
   "execution_count": 23,
   "metadata": {},
   "outputs": [
    {
     "data": {
      "text/plain": [
       "[2, 6, 9, 25, 43, 90, 523]"
      ]
     },
     "execution_count": 23,
     "metadata": {},
     "output_type": "execute_result"
    }
   ],
   "source": [
    "L.sort()\n",
    "L"
   ]
  },
  {
   "cell_type": "code",
   "execution_count": 24,
   "metadata": {},
   "outputs": [
    {
     "name": "stdout",
     "output_type": "stream",
     "text": [
      "[523, 90, 43, 25, 9, 6, 2]\n"
     ]
    }
   ],
   "source": [
    "print(sorted(L, reverse=True))"
   ]
  },
  {
   "cell_type": "code",
   "execution_count": 25,
   "metadata": {},
   "outputs": [],
   "source": [
    "item = ['S','SS','eeeeee', 'ffff','OOOOOOOOOO']"
   ]
  },
  {
   "cell_type": "code",
   "execution_count": 26,
   "metadata": {},
   "outputs": [
    {
     "name": "stdout",
     "output_type": "stream",
     "text": [
      "['S', 'SS', 'ffff', 'eeeeee', 'OOOOOOOOOO']\n"
     ]
    }
   ],
   "source": [
    "print(sorted(item, key=len))"
   ]
  },
  {
   "cell_type": "code",
   "execution_count": null,
   "metadata": {},
   "outputs": [],
   "source": [
    "def func(x):\n",
    "    return x % 7\n",
    "L=[23,67,45,89,45,78,90]\n",
    "print(\"Normal \")"
   ]
  },
  {
   "cell_type": "code",
   "execution_count": 5,
   "metadata": {},
   "outputs": [],
   "source": [
    "def even(x):\n",
    "    if x%2==0:\n",
    "        return x\n",
    "    else:\n",
    "        return 0\n",
    "\n",
    "K = [54,78,43,78,56,34]\n",
    "\n",
    "check = list(filter(even,K))"
   ]
  },
  {
   "cell_type": "code",
   "execution_count": 6,
   "metadata": {},
   "outputs": [
    {
     "name": "stdout",
     "output_type": "stream",
     "text": [
      "[54, 78, 78, 56, 34]\n"
     ]
    }
   ],
   "source": [
    "print(check)"
   ]
  },
  {
   "cell_type": "code",
   "execution_count": 10,
   "metadata": {},
   "outputs": [
    {
     "name": "stdout",
     "output_type": "stream",
     "text": [
      "fgkjfdkjgjdfkg, This is Outer function\n",
      "This is Inner function\n"
     ]
    }
   ],
   "source": [
    "def print_outer(x):\n",
    "    print(f\"{x}, This is Outer function\")\n",
    "    def print_inner():\n",
    "        print(\"This is Inner function\")\n",
    "    print_inner()\n",
    "\n",
    "print_outer(\"fgkjfdkjgjdfkg\")\n",
    "    "
   ]
  },
  {
   "cell_type": "code",
   "execution_count": 12,
   "metadata": {},
   "outputs": [
    {
     "name": "stdout",
     "output_type": "stream",
     "text": [
      "gfhfghf, This is Outer function\n"
     ]
    },
    {
     "ename": "TypeError",
     "evalue": "print_inner() takes 0 positional arguments but 1 was given",
     "output_type": "error",
     "traceback": [
      "\u001b[1;31m---------------------------------------------------------------------------\u001b[0m",
      "\u001b[1;31mTypeError\u001b[0m                                 Traceback (most recent call last)",
      "Cell \u001b[1;32mIn[12], line 8\u001b[0m\n\u001b[0;32m      5\u001b[0m     \u001b[38;5;28;01mreturn\u001b[39;00m print_inner\n\u001b[0;32m      7\u001b[0m fum\u001b[38;5;241m=\u001b[39mprint_outer(\u001b[38;5;124m\"\u001b[39m\u001b[38;5;124mgfhfghf\u001b[39m\u001b[38;5;124m\"\u001b[39m)\n\u001b[1;32m----> 8\u001b[0m \u001b[43mfum\u001b[49m\u001b[43m(\u001b[49m\u001b[38;5;124;43m\"\u001b[39;49m\u001b[38;5;124;43mvmgfhfg\u001b[39;49m\u001b[38;5;124;43m\"\u001b[39;49m\u001b[43m)\u001b[49m\n",
      "\u001b[1;31mTypeError\u001b[0m: print_inner() takes 0 positional arguments but 1 was given"
     ]
    }
   ],
   "source": [
    "def print_outer(x):\n",
    "    print(f\"{x}, This is Outer function\")\n",
    "    def print_inner():\n",
    "        print(\"This is Inner function\")\n",
    "    return print_inner\n",
    "\n",
    "fum=print_outer(\"gfhfghf\")\n",
    "fum(\"vmgfhfg\")\n",
    "    "
   ]
  },
  {
   "cell_type": "code",
   "execution_count": null,
   "metadata": {},
   "outputs": [],
   "source": []
  }
 ],
 "metadata": {
  "kernelspec": {
   "display_name": "Python 3.8.10 64-bit",
   "language": "python",
   "name": "python3"
  },
  "language_info": {
   "codemirror_mode": {
    "name": "ipython",
    "version": 3
   },
   "file_extension": ".py",
   "mimetype": "text/x-python",
   "name": "python",
   "nbconvert_exporter": "python",
   "pygments_lexer": "ipython3",
   "version": "3.8.10"
  },
  "orig_nbformat": 4,
  "vscode": {
   "interpreter": {
    "hash": "b337b16e1f284c9fe7de692799556d56c1809887abe3f5a49ffeb9e7df151cfb"
   }
  }
 },
 "nbformat": 4,
 "nbformat_minor": 2
}
