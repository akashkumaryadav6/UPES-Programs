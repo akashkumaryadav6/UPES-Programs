{
 "cells": [
  {
   "cell_type": "code",
   "execution_count": 10,
   "metadata": {},
   "outputs": [
    {
     "name": "stdout",
     "output_type": "stream",
     "text": [
      "Object Created!\n"
     ]
    }
   ],
   "source": [
    "class Ex:\n",
    "    def __init__(self):\n",
    "        print(\"Object Created!\")\n",
    "    \n",
    "    def _del_(self):\n",
    "        print(\"Object Destroyed!\")\n",
    "\n",
    "obj = Ex()"
   ]
  },
  {
   "cell_type": "code",
   "execution_count": 15,
   "metadata": {},
   "outputs": [],
   "source": [
    "class Animal:\n",
    "    def move(self,name):\n",
    "        print(f\"{name} is moving!\")\n",
    "\n",
    "class Reptile(Animal):\n",
    "    def territory(self,name):\n",
    "        print(f\"{name} lives on land!\")\n",
    "\n",
    "class Fish(Reptile):\n",
    "    def water(self,name):\n",
    "        print(f\"{name} survives in water!\")"
   ]
  },
  {
   "cell_type": "code",
   "execution_count": 19,
   "metadata": {},
   "outputs": [
    {
     "name": "stdout",
     "output_type": "stream",
     "text": [
      "Bird is moving!\n",
      "Croco lives on land!\n",
      "Fish survives in water!\n"
     ]
    }
   ],
   "source": [
    "myObj = Fish()\n",
    "myObj.move(\"Bird\")\n",
    "myObj.territory(\"Croco\")\n",
    "myObj.water(\"Fish\")"
   ]
  },
  {
   "cell_type": "code",
   "execution_count": 27,
   "metadata": {},
   "outputs": [
    {
     "name": "stdout",
     "output_type": "stream",
     "text": [
      "We live!\n",
      "We speak!\n",
      "Koala is moving!\n"
     ]
    }
   ],
   "source": [
    "class Human:\n",
    "    def speak(self):\n",
    "        print(\"We speak!\")\n",
    "\n",
    "class Organism(Animal, Human):\n",
    "    def live(self):\n",
    "        print(\"We live!\")\n",
    "\n",
    "myorg = Organism()\n",
    "myorg.live()\n",
    "myorg.speak()\n",
    "myorg.move(\"Koala\")"
   ]
  },
  {
   "cell_type": "code",
   "execution_count": 28,
   "metadata": {},
   "outputs": [
    {
     "name": "stdout",
     "output_type": "stream",
     "text": [
      "Writing account.py\n"
     ]
    }
   ],
   "source": []
  },
  {
   "cell_type": "code",
   "execution_count": null,
   "metadata": {},
   "outputs": [],
   "source": []
  }
 ],
 "metadata": {
  "kernelspec": {
   "display_name": "Python 3.8.10 64-bit",
   "language": "python",
   "name": "python3"
  },
  "language_info": {
   "codemirror_mode": {
    "name": "ipython",
    "version": 3
   },
   "file_extension": ".py",
   "mimetype": "text/x-python",
   "name": "python",
   "nbconvert_exporter": "python",
   "pygments_lexer": "ipython3",
   "version": "3.8.10"
  },
  "orig_nbformat": 4,
  "vscode": {
   "interpreter": {
    "hash": "b337b16e1f284c9fe7de692799556d56c1809887abe3f5a49ffeb9e7df151cfb"
   }
  }
 },
 "nbformat": 4,
 "nbformat_minor": 2
}
