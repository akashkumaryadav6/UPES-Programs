{
 "cells": [
  {
   "cell_type": "code",
   "execution_count": 4,
   "metadata": {},
   "outputs": [],
   "source": [
    "import pandas as pd"
   ]
  },
  {
   "cell_type": "code",
   "execution_count": 6,
   "metadata": {},
   "outputs": [],
   "source": [
    "df = pd.DataFrame()"
   ]
  },
  {
   "cell_type": "code",
   "execution_count": 11,
   "metadata": {},
   "outputs": [
    {
     "name": "stdout",
     "output_type": "stream",
     "text": [
      "Pop\n",
      "Exp\n",
      "Comp\n"
     ]
    }
   ],
   "source": [
    "pop=pd.Series(data=[3,4,5], index=[\"Delhi\", \"UK\", \"UP\"])\n",
    "exp=pd.Series(data=[3,4,5], index=[\"Delhi\", \"UK\", \"UP\"])\n",
    "comp= exp/pop\n",
    "df=pd.DataFrame({\"Pop\":pop, \"Exp\":exp, \"Comp\":comp})\n",
    "for i in df:\n",
    "    print(i)"
   ]
  },
  {
   "cell_type": "code",
   "execution_count": 13,
   "metadata": {},
   "outputs": [
    {
     "name": "stdout",
     "output_type": "stream",
     "text": [
      "Rows:  Delhi\n",
      "Items:\n",
      " Pop     3.0\n",
      "Exp     3.0\n",
      "Comp    1.0\n",
      "Name: Delhi, dtype: float64\n",
      "Rows:  UK\n",
      "Items:\n",
      " Pop     4.0\n",
      "Exp     4.0\n",
      "Comp    1.0\n",
      "Name: UK, dtype: float64\n",
      "Rows:  UP\n",
      "Items:\n",
      " Pop     5.0\n",
      "Exp     5.0\n",
      "Comp    1.0\n",
      "Name: UP, dtype: float64\n"
     ]
    }
   ],
   "source": [
    "for row,rowseries in df.iterrows():\n",
    "    print(\"Rows: \", row)\n",
    "    print(\"Items:\\n\",rowseries)"
   ]
  },
  {
   "cell_type": "code",
   "execution_count": null,
   "metadata": {},
   "outputs": [],
   "source": []
  }
 ],
 "metadata": {
  "kernelspec": {
   "display_name": "Python 3.8.10 64-bit",
   "language": "python",
   "name": "python3"
  },
  "language_info": {
   "codemirror_mode": {
    "name": "ipython",
    "version": 3
   },
   "file_extension": ".py",
   "mimetype": "text/x-python",
   "name": "python",
   "nbconvert_exporter": "python",
   "pygments_lexer": "ipython3",
   "version": "3.8.10"
  },
  "orig_nbformat": 4,
  "vscode": {
   "interpreter": {
    "hash": "b337b16e1f284c9fe7de692799556d56c1809887abe3f5a49ffeb9e7df151cfb"
   }
  }
 },
 "nbformat": 4,
 "nbformat_minor": 2
}
