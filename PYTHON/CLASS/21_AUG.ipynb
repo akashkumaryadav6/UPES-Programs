{
 "cells": [
  {
   "cell_type": "code",
   "execution_count": 4,
   "metadata": {},
   "outputs": [
    {
     "name": "stdout",
     "output_type": "stream",
     "text": [
      "sd\n",
      "sdfghjkl\n",
      "True\n"
     ]
    }
   ],
   "source": [
    "#Membership Operators\n",
    "strg=input(\"Enter any string:\")\n",
    "strg2=input(\"Enter any string:\")\n",
    "if strg in strg2:\n",
    "    print(strg)\n",
    "    print(strg2)\n",
    "    print(True)"
   ]
  },
  {
   "cell_type": "code",
   "execution_count": 6,
   "metadata": {},
   "outputs": [
    {
     "name": "stdout",
     "output_type": "stream",
     "text": [
      "sdf\n",
      "dfghjk\n",
      "True\n"
     ]
    }
   ],
   "source": [
    "strg=input(\"Enter any string:\")\n",
    "strg2=input(\"Enter any string:\")\n",
    "if strg not in strg2:\n",
    "    print(strg)\n",
    "    print(strg2)\n",
    "    print(True)  "
   ]
  },
  {
   "cell_type": "code",
   "execution_count": 7,
   "metadata": {},
   "outputs": [
    {
     "name": "stdout",
     "output_type": "stream",
     "text": [
      "True\n"
     ]
    }
   ],
   "source": [
    "#Identity Operators\n",
    "x=56\n",
    "if (type(x) is int):\n",
    "    print(True)"
   ]
  },
  {
   "cell_type": "code",
   "execution_count": 8,
   "metadata": {},
   "outputs": [
    {
     "name": "stdout",
     "output_type": "stream",
     "text": [
      "True\n"
     ]
    }
   ],
   "source": [
    "x=56.77\n",
    "if (type(x) is float):\n",
    "    print(True)"
   ]
  },
  {
   "cell_type": "code",
   "execution_count": 10,
   "metadata": {},
   "outputs": [
    {
     "data": {
      "text/plain": [
       "45"
      ]
     },
     "execution_count": 10,
     "metadata": {},
     "output_type": "execute_result"
    }
   ],
   "source": [
    "#Ternary Operators\n",
    "f=67\n",
    "h=45\n",
    "min_=f if f<h else h\n",
    "min_"
   ]
  },
  {
   "cell_type": "code",
   "execution_count": 11,
   "metadata": {},
   "outputs": [
    {
     "name": "stdout",
     "output_type": "stream",
     "text": [
      "Value is 200\n"
     ]
    }
   ],
   "source": [
    "#ONE LINE IF\n",
    "v=200\n",
    "if (v==200): print(\"Value is 200\")"
   ]
  },
  {
   "cell_type": "code",
   "execution_count": 20,
   "metadata": {},
   "outputs": [
    {
     "name": "stdout",
     "output_type": "stream",
     "text": [
      "Value is 200\n"
     ]
    }
   ],
   "source": [
    "#ONE LINE IF\n",
    "v=200\n",
    "print(\"Value is 200\") if (v==200) else print(\"Not the value\") "
   ]
  }
 ],
 "metadata": {
  "kernelspec": {
   "display_name": "Python 3.8.10 64-bit",
   "language": "python",
   "name": "python3"
  },
  "language_info": {
   "codemirror_mode": {
    "name": "ipython",
    "version": 3
   },
   "file_extension": ".py",
   "mimetype": "text/x-python",
   "name": "python",
   "nbconvert_exporter": "python",
   "pygments_lexer": "ipython3",
   "version": "3.8.10"
  },
  "orig_nbformat": 4,
  "vscode": {
   "interpreter": {
    "hash": "b337b16e1f284c9fe7de692799556d56c1809887abe3f5a49ffeb9e7df151cfb"
   }
  }
 },
 "nbformat": 4,
 "nbformat_minor": 2
}
