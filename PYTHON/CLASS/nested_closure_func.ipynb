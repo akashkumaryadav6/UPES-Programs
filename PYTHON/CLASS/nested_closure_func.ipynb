{
 "cells": [
  {
   "cell_type": "code",
   "execution_count": 1,
   "metadata": {},
   "outputs": [],
   "source": [
    "def funcF(x):\n",
    "    print(\"This is outer function!\")\n",
    "    def funcS():\n",
    "        print(f\"This is inner function printing the value of variable x: {x}\")\n",
    "    funcS()"
   ]
  },
  {
   "cell_type": "code",
   "execution_count": 2,
   "metadata": {},
   "outputs": [
    {
     "name": "stdout",
     "output_type": "stream",
     "text": [
      "This is outer function!\n",
      "This is inner function printing the value of variable x: 56\n"
     ]
    }
   ],
   "source": [
    "funcF(56)"
   ]
  },
  {
   "cell_type": "code",
   "execution_count": 6,
   "metadata": {},
   "outputs": [
    {
     "name": "stdout",
     "output_type": "stream",
     "text": [
      "This is outer function!\n",
      "This is inner function printing the value of variable x: 45\n"
     ]
    }
   ],
   "source": [
    "def funcF(x):\n",
    "    print(\"This is outer function!\")\n",
    "    def funcS():\n",
    "        print(f\"This is inner function printing the value of variable x: {x}\")\n",
    "    return funcS\n",
    "\n",
    "myFunc = funcF(45)\n",
    "myFunc()"
   ]
  }
 ],
 "metadata": {
  "kernelspec": {
   "display_name": "Python 3.8.10 64-bit",
   "language": "python",
   "name": "python3"
  },
  "language_info": {
   "codemirror_mode": {
    "name": "ipython",
    "version": 3
   },
   "file_extension": ".py",
   "mimetype": "text/x-python",
   "name": "python",
   "nbconvert_exporter": "python",
   "pygments_lexer": "ipython3",
   "version": "3.8.10"
  },
  "orig_nbformat": 4,
  "vscode": {
   "interpreter": {
    "hash": "b337b16e1f284c9fe7de692799556d56c1809887abe3f5a49ffeb9e7df151cfb"
   }
  }
 },
 "nbformat": 4,
 "nbformat_minor": 2
}
