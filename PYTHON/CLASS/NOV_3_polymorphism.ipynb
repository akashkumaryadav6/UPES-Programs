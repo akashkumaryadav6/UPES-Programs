{
 "cells": [
  {
   "cell_type": "code",
   "execution_count": 14,
   "metadata": {},
   "outputs": [],
   "source": [
    "class Bank:\n",
    "    def getroi(self):\n",
    "        return 10\n",
    "\n",
    "class SBI(Bank):\n",
    "    def getroi(self):\n",
    "        return 9.5\n",
    "\n",
    "class HDFC(Bank):\n",
    "    def getroi(self):\n",
    "        return 8.5"
   ]
  },
  {
   "cell_type": "code",
   "execution_count": 15,
   "metadata": {},
   "outputs": [
    {
     "name": "stdout",
     "output_type": "stream",
     "text": [
      "ROI:  10\n",
      "ROI:  9.5\n",
      "ROI:  8.5\n"
     ]
    }
   ],
   "source": [
    "bank = Bank()\n",
    "sbi = SBI()\n",
    "hdfc = HDFC()\n",
    "print(\"ROI: \", bank.getroi())\n",
    "print(\"ROI: \", sbi.getroi())\n",
    "print(\"ROI: \", hdfc.getroi())"
   ]
  },
  {
   "cell_type": "code",
   "execution_count": 1,
   "metadata": {},
   "outputs": [
    {
     "name": "stdout",
     "output_type": "stream",
     "text": [
      "Square\n",
      "This class defines shapes.\n"
     ]
    }
   ],
   "source": [
    "class Shape:\n",
    "    @staticmethod\n",
    "    def info(msg):\n",
    "        print(msg)\n",
    "        print(\"This class defines shapes.\")\n",
    "\n",
    "Shape.info(\"Square\")"
   ]
  },
  {
   "cell_type": "code",
   "execution_count": 16,
   "metadata": {},
   "outputs": [
    {
     "name": "stdout",
     "output_type": "stream",
     "text": [
      "Square\n",
      "This class defines shapes.\n"
     ]
    }
   ],
   "source": [
    "class Shape:\n",
    "    def info(msg):\n",
    "        print(msg)\n",
    "        print(\"This class defines shapes.\")\n",
    "\n",
    "Shape.info = staticmethod(Shape.info)\n",
    "Shape.info(\"Square\")"
   ]
  },
  {
   "cell_type": "code",
   "execution_count": 10,
   "metadata": {},
   "outputs": [],
   "source": [
    "class Complex:\n",
    "    def __init__(self, r, i):\n",
    "        self.real = r\n",
    "        self.img = i\n",
    "    \n",
    "    def __add__(self,sec):\n",
    "        r = self.real + sec.real\n",
    "        i = self.img + sec.img\n",
    "        return complex(r, i)"
   ]
  },
  {
   "cell_type": "code",
   "execution_count": 11,
   "metadata": {},
   "outputs": [
    {
     "name": "stdout",
     "output_type": "stream",
     "text": [
      "Sum =  (9+13j)\n"
     ]
    }
   ],
   "source": [
    "c1 = Complex(4,5)\n",
    "c2 = Complex(5,8)\n",
    "print(\"Sum = \", c1+c2)"
   ]
  }
 ],
 "metadata": {
  "kernelspec": {
   "display_name": "Python 3.8.10 64-bit",
   "language": "python",
   "name": "python3"
  },
  "language_info": {
   "codemirror_mode": {
    "name": "ipython",
    "version": 3
   },
   "file_extension": ".py",
   "mimetype": "text/x-python",
   "name": "python",
   "nbconvert_exporter": "python",
   "pygments_lexer": "ipython3",
   "version": "3.8.10"
  },
  "orig_nbformat": 4,
  "vscode": {
   "interpreter": {
    "hash": "b337b16e1f284c9fe7de692799556d56c1809887abe3f5a49ffeb9e7df151cfb"
   }
  }
 },
 "nbformat": 4,
 "nbformat_minor": 2
}
