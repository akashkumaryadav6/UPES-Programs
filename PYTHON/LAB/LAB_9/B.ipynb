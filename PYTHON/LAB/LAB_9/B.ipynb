{
 "cells": [
  {
   "cell_type": "markdown",
   "metadata": {},
   "source": [
    "<h4><b>Display the content of file (your_name.text) line by line.</h4></b>"
   ]
  },
  {
   "cell_type": "code",
   "execution_count": 33,
   "metadata": {},
   "outputs": [
    {
     "name": "stdout",
     "output_type": "stream",
     "text": [
      "Hello!\n",
      "I am currently residing in Dehradun.\n",
      "It's a nice day to discuss weather.\n",
      "Well, a lot of sunshine.\n",
      "And great breeze!\n"
     ]
    }
   ],
   "source": [
    "file = open(\"akash.txt\", \"rt\")\n",
    "for line in file:\n",
    "    print(line, end=\"\")"
   ]
  }
 ],
 "metadata": {
  "language_info": {
   "name": "python"
  },
  "orig_nbformat": 4
 },
 "nbformat": 4,
 "nbformat_minor": 2
}
