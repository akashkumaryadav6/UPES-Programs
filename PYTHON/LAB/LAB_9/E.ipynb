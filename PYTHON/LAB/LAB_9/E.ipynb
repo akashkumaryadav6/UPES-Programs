{
 "cells": [
  {
   "cell_type": "markdown",
   "metadata": {},
   "source": [
    "<h4><b>Display the count of those words whose length is less than 4 in file (your_name.text)</b></h4>"
   ]
  },
  {
   "cell_type": "code",
   "execution_count": 9,
   "metadata": {},
   "outputs": [
    {
     "data": {
      "text/plain": [
       "11"
      ]
     },
     "execution_count": 9,
     "metadata": {},
     "output_type": "execute_result"
    }
   ],
   "source": [
    "file = open(\"akash.txt\", \"rt\")\n",
    "count=0\n",
    "specials = ['?', '!', '_', '-', \"'\", '.']\n",
    "words = file.read().split()\n",
    "for word in words:\n",
    "    for letter in word:\n",
    "        if letter in specials:\n",
    "            word = word.replace(letter, \"\")\n",
    "    if len(word)<4:\n",
    "        #print(word)\n",
    "        count+=1\n",
    "    else:\n",
    "        if len(word)<4:\n",
    "            #print(word)\n",
    "            count+=1\n",
    "    \n",
    "count"
   ]
  }
 ],
 "metadata": {
  "kernelspec": {
   "display_name": "Python 3.8.10 64-bit",
   "language": "python",
   "name": "python3"
  },
  "language_info": {
   "codemirror_mode": {
    "name": "ipython",
    "version": 3
   },
   "file_extension": ".py",
   "mimetype": "text/x-python",
   "name": "python",
   "nbconvert_exporter": "python",
   "pygments_lexer": "ipython3",
   "version": "3.8.10"
  },
  "orig_nbformat": 4,
  "vscode": {
   "interpreter": {
    "hash": "b337b16e1f284c9fe7de692799556d56c1809887abe3f5a49ffeb9e7df151cfb"
   }
  }
 },
 "nbformat": 4,
 "nbformat_minor": 2
}
