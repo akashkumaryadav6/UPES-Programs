{
 "cells": [
  {
   "cell_type": "markdown",
   "metadata": {},
   "source": [
    "<h5><b>Get the age of students in a list and display those students who are above 18, use lambda\n",
    "and filter function</b></h5>"
   ]
  },
  {
   "cell_type": "code",
   "execution_count": 36,
   "metadata": {},
   "outputs": [
    {
     "name": "stdout",
     "output_type": "stream",
     "text": [
      "Original List: [23, 23, 12]\n",
      "\n",
      "Students above 18 years old:\n",
      "23\n",
      "23\n"
     ]
    }
   ],
   "source": [
    "entries = int(input(\"How many entries do you want to make?\"))\n",
    "students = list()\n",
    "\n",
    "for x in range(entries):\n",
    "    age = int(input(\"Enter the age:\"))\n",
    "    students.append(age)\n",
    "\n",
    "above_18_students = list(filter(lambda x: x>18, students))\n",
    "\n",
    "print(f\"Original List: {students}\")\n",
    "print(\"\\nStudents above 18 years old:\")\n",
    "for student in above_18_students:\n",
    "    print(student)\n"
   ]
  }
 ],
 "metadata": {
  "kernelspec": {
   "display_name": "Python 3",
   "language": "python",
   "name": "python3"
  },
  "language_info": {
   "codemirror_mode": {
    "name": "ipython",
    "version": 3
   },
   "file_extension": ".py",
   "mimetype": "text/x-python",
   "name": "python",
   "nbconvert_exporter": "python",
   "pygments_lexer": "ipython3",
   "version": "3.11.5"
  }
 },
 "nbformat": 4,
 "nbformat_minor": 2
}
