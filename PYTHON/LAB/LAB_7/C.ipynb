{
 "cells": [
  {
   "cell_type": "markdown",
   "metadata": {},
   "source": [
    "<h5><b>Get the name and age of students from user in a dictionary and return two different\n",
    "dictionary where entry of dictionary are sorted by name and age respectively. Use\n",
    "customized sorted() function.</b></h5>"
   ]
  },
  {
   "cell_type": "code",
   "execution_count": 7,
   "metadata": {},
   "outputs": [],
   "source": [
    "entries = int(input(\"How many entries do you want to make?\"))\n",
    "students = dict()\n",
    "\n",
    "for x in range(entries):\n",
    "    name = input(f\"Enter Name {x+1}: \")\n",
    "    age = int(input(f\"Enter the age for {name}:\"))\n",
    "    students[name] = age"
   ]
  },
  {
   "cell_type": "code",
   "execution_count": 8,
   "metadata": {},
   "outputs": [
    {
     "data": {
      "text/plain": [
       "[('Akash', 23), ('Joe', 55), ('Lilette', 67), ('Lily', 25), ('Sia', 12)]"
      ]
     },
     "execution_count": 8,
     "metadata": {},
     "output_type": "execute_result"
    }
   ],
   "source": [
    "sorted_by_name = sorted(students.items(), key=lambda x: x[0])\n",
    "sorted_by_name"
   ]
  },
  {
   "cell_type": "code",
   "execution_count": 9,
   "metadata": {},
   "outputs": [
    {
     "data": {
      "text/plain": [
       "[('Sia', 12), ('Akash', 23), ('Lily', 25), ('Joe', 55), ('Lilette', 67)]"
      ]
     },
     "execution_count": 9,
     "metadata": {},
     "output_type": "execute_result"
    }
   ],
   "source": [
    "sorted_by_age = sorted(students.items(), key=lambda x: x[1])\n",
    "sorted_by_age"
   ]
  },
  {
   "cell_type": "code",
   "execution_count": null,
   "metadata": {},
   "outputs": [],
   "source": []
  }
 ],
 "metadata": {
  "kernelspec": {
   "display_name": "Python 3",
   "language": "python",
   "name": "python3"
  },
  "language_info": {
   "codemirror_mode": {
    "name": "ipython",
    "version": 3
   },
   "file_extension": ".py",
   "mimetype": "text/x-python",
   "name": "python",
   "nbconvert_exporter": "python",
   "pygments_lexer": "ipython3",
   "version": "3.11.5"
  }
 },
 "nbformat": 4,
 "nbformat_minor": 2
}
