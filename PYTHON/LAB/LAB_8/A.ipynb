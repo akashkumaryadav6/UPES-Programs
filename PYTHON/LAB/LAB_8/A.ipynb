{
 "cells": [
  {
   "cell_type": "markdown",
   "metadata": {},
   "source": [
    "<h5><b>WAP to use try-except-else block</b></h5>"
   ]
  },
  {
   "cell_type": "code",
   "execution_count": 3,
   "metadata": {},
   "outputs": [
    {
     "name": "stdout",
     "output_type": "stream",
     "text": [
      "Error: Division By Zero\n"
     ]
    }
   ],
   "source": [
    "try:\n",
    "    print(45/0)\n",
    "except ZeroDivisionError:\n",
    "    print(\"Error: Division By Zero\")\n",
    "else:\n",
    "    print(\"Successfully Compiled!\")"
   ]
  },
  {
   "cell_type": "code",
   "execution_count": 4,
   "metadata": {},
   "outputs": [
    {
     "name": "stdout",
     "output_type": "stream",
     "text": [
      "9.0\n",
      "Successfully Compiled!\n"
     ]
    }
   ],
   "source": [
    "try:\n",
    "    print(45/5)\n",
    "except ZeroDivisionError:\n",
    "    print(\"Error: Division By Zero\")\n",
    "else:\n",
    "    print(\"Successfully Compiled!\")"
   ]
  }
 ],
 "metadata": {
  "kernelspec": {
   "display_name": "Python 3",
   "language": "python",
   "name": "python3"
  },
  "language_info": {
   "codemirror_mode": {
    "name": "ipython",
    "version": 3
   },
   "file_extension": ".py",
   "mimetype": "text/x-python",
   "name": "python",
   "nbconvert_exporter": "python",
   "pygments_lexer": "ipython3",
   "version": "3.11.5"
  }
 },
 "nbformat": 4,
 "nbformat_minor": 2
}
