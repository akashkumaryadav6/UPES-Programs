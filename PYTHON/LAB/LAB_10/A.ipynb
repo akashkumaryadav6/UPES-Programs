{
 "cells": [
  {
   "cell_type": "markdown",
   "metadata": {},
   "source": [
    "**1. Using class and objects in python, write a program to get the r and i part of\n",
    "two r numbers. Get the r and i part of one complex number from user and\n",
    "for second one set yourself.**"
   ]
  },
  {
   "cell_type": "code",
   "execution_count": 7,
   "metadata": {},
   "outputs": [],
   "source": [
    "class ComplexNumber:\n",
    "    def __init__(self, r, i):\n",
    "        self.r = r\n",
    "        self.i = i\n",
    "\n",
    "    def display(self):\n",
    "        print(f\"Complex Number: {self.r} + {self.i}j\")\n",
    "\n",
    "    def add(self, sec):\n",
    "        result_r = self.r + sec.r\n",
    "        result_i = self.i + sec.i\n",
    "        return ComplexNumber(result_r, result_i)\n",
    "\n",
    "    def subtract(self, sec):\n",
    "        result_r = self.r - sec.r\n",
    "        result_i = self.i - sec.i\n",
    "        return ComplexNumber(result_r, result_i)\n",
    "\n",
    "    def multiply(self, sec):\n",
    "        result_r = (self.r * sec.r) - (self.i * sec.i)\n",
    "        result_i = (self.r * sec.i) + (self.i * sec.r)\n",
    "        return ComplexNumber(result_r, result_i)"
   ]
  },
  {
   "cell_type": "code",
   "execution_count": 8,
   "metadata": {},
   "outputs": [],
   "source": [
    "r1 = float(input(\"Enter the real part of the first complex number: \"))\n",
    "i1 = float(input(\"Enter the imaginary part of the first complex number: \"))\n",
    "user1 = ComplexNumber(r1, i1)\n",
    "\n",
    "user2 = ComplexNumber(2, -3)"
   ]
  },
  {
   "cell_type": "markdown",
   "metadata": {},
   "source": [
    "**2. Using instance function display those two complex numbers**"
   ]
  },
  {
   "cell_type": "code",
   "execution_count": 9,
   "metadata": {},
   "outputs": [
    {
     "name": "stdout",
     "output_type": "stream",
     "text": [
      "Complex Number: 5.0 + 8.0j\n",
      "Complex Number: 2 + -3j\n"
     ]
    }
   ],
   "source": [
    "user1.display()\n",
    "user2.display()"
   ]
  },
  {
   "cell_type": "markdown",
   "metadata": {},
   "source": [
    "**3. Using different instance function, find the sum, difference and multiplication of those two<br>\n",
    "complex number, get that stored in ansec number and use the function created in\n",
    "previous part to show the result.**"
   ]
  },
  {
   "cell_type": "code",
   "execution_count": 10,
   "metadata": {},
   "outputs": [
    {
     "name": "stdout",
     "output_type": "stream",
     "text": [
      "\n",
      "Results:\n",
      "Complex Number: 7.0 + 5.0j\n",
      "Complex Number: 3.0 + 11.0j\n",
      "Complex Number: 34.0 + 1.0j\n"
     ]
    }
   ],
   "source": [
    "sum = user1.add(user2)\n",
    "diff = user1.subtract(user2)\n",
    "multiply = user1.multiply(user2)\n",
    "\n",
    "print(\"\\nResults:\")\n",
    "sum.display()\n",
    "diff.display()\n",
    "multiply.display()"
   ]
  }
 ],
 "metadata": {
  "kernelspec": {
   "display_name": "Python 3.8.10 64-bit",
   "language": "python",
   "name": "python3"
  },
  "language_info": {
   "codemirror_mode": {
    "name": "ipython",
    "version": 3
   },
   "file_extension": ".py",
   "mimetype": "text/x-python",
   "name": "python",
   "nbconvert_exporter": "python",
   "pygments_lexer": "ipython3",
   "version": "3.8.10"
  },
  "orig_nbformat": 4,
  "vscode": {
   "interpreter": {
    "hash": "b337b16e1f284c9fe7de692799556d56c1809887abe3f5a49ffeb9e7df151cfb"
   }
  }
 },
 "nbformat": 4,
 "nbformat_minor": 2
}
