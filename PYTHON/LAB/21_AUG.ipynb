{
 "cells": [
  {
   "cell_type": "code",
   "execution_count": 8,
   "metadata": {},
   "outputs": [
    {
     "name": "stdout",
     "output_type": "stream",
     "text": [
      "<class 'int'>\n",
      "<class 'str'>\n",
      "77\n"
     ]
    }
   ],
   "source": [
    "#LAB 1\n",
    "#Convert the data from one type to another\n",
    "x=7\n",
    "t=str(x)\n",
    "print(type(x))\n",
    "print(type(t))\n",
    "print(t+'7')"
   ]
  },
  {
   "cell_type": "code",
   "execution_count": 2,
   "metadata": {},
   "outputs": [
    {
     "name": "stdout",
     "output_type": "stream",
     "text": [
      "3015\n"
     ]
    }
   ],
   "source": [
    "#Use expressions and variables to perform operations:\n",
    "# Use IF and INPUT, then print different output for add, sub, mul, div, mod.\n",
    "r=int(input(\"Enter any number:\"))\n",
    "y=int(input(\"Enter any number:\"))\n",
    "t=input(\"Enter any symbol from the following (+,-,*,/,%):\")\n",
    "if t=='+': \n",
    "    print(r+y)\n",
    "elif t=='-':\n",
    "    print(r-y)\n",
    "elif t=='*':\n",
    "    print(r*y)\n",
    "elif t=='/':\n",
    "    print(r/y)\n",
    "elif t=='%':\n",
    "    print(r%y)\n",
    "else: print(\"No such operation allowed!\")\n"
   ]
  },
  {
   "cell_type": "code",
   "execution_count": 9,
   "metadata": {},
   "outputs": [
    {
     "name": "stdout",
     "output_type": "stream",
     "text": [
      "Not allowed!\n"
     ]
    }
   ],
   "source": [
    "#Use expressions and variables to perform operations:\n",
    "# Use IF and INPUT, then print different output for add, sub, mul, div, mod.\n",
    "r=int(input(\"Enter any number:\"))\n",
    "y=int(input(\"Enter any number:\"))\n",
    "t=input(\"Enter any symbol from the following (+,-,*,/,%):\")\n",
    "print(r+y) if t=='+' else print(r-y) if t=='-' else print(r*y) if t=='*' else print(r/y) if t==\"/\" else print(r%y) if t==\"%\" else print(\"Not allowed!\")"
   ]
  },
  {
   "cell_type": "code",
   "execution_count": 10,
   "metadata": {},
   "outputs": [
    {
     "name": "stdout",
     "output_type": "stream",
     "text": [
      "21\n"
     ]
    }
   ],
   "source": [
    "#LAB 2\n",
    "#Add 3 numbers\n",
    "x,y,t=7,6,8\n",
    "print(x+y+t)"
   ]
  },
  {
   "cell_type": "code",
   "execution_count": 11,
   "metadata": {},
   "outputs": [
    {
     "name": "stdout",
     "output_type": "stream",
     "text": [
      "fghfhgfghfgfdgfghfghfgfgfh\n"
     ]
    }
   ],
   "source": [
    "\n",
    "#Concatenate strings\n",
    "x,y,t='fghfhgfgh','fgfdgfghfgh','fgfgfh'\n",
    "print(x+y+t)"
   ]
  }
 ],
 "metadata": {
  "kernelspec": {
   "display_name": "Python 3.8.10 64-bit",
   "language": "python",
   "name": "python3"
  },
  "language_info": {
   "codemirror_mode": {
    "name": "ipython",
    "version": 3
   },
   "file_extension": ".py",
   "mimetype": "text/x-python",
   "name": "python",
   "nbconvert_exporter": "python",
   "pygments_lexer": "ipython3",
   "version": "3.8.10"
  },
  "orig_nbformat": 4,
  "vscode": {
   "interpreter": {
    "hash": "b337b16e1f284c9fe7de692799556d56c1809887abe3f5a49ffeb9e7df151cfb"
   }
  }
 },
 "nbformat": 4,
 "nbformat_minor": 2
}
