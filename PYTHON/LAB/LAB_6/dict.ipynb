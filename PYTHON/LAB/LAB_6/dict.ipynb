{
 "cells": [
  {
   "cell_type": "markdown",
   "metadata": {},
   "source": [
    "Create a dictionary having name and age, first ask from user how many pairs of name and\n",
    "age user wants to add, then get many number of pairs from user one by one using loop."
   ]
  },
  {
   "cell_type": "code",
   "execution_count": 57,
   "metadata": {},
   "outputs": [],
   "source": [
    "info = dict()\n",
    "entries = int(input(\"Enter the number of entries:\"))\n",
    "for x in range(entries):\n",
    "    name = input(f\"Enter the name({x}):\")\n",
    "    age = int(input(f\"Enter the age for the {name.capitalize()}:\"))\n",
    "\n",
    "    info[name] = age"
   ]
  },
  {
   "cell_type": "markdown",
   "metadata": {},
   "source": [
    "Now display the pair one by one through loop."
   ]
  },
  {
   "cell_type": "code",
   "execution_count": 75,
   "metadata": {},
   "outputs": [
    {
     "name": "stdout",
     "output_type": "stream",
     "text": [
      "Perry 55\n",
      "Daphne 23\n",
      "Yun 99\n",
      "Olga 24\n",
      "Susie 23\n",
      "AK 23\n",
      "A 23\n",
      "l 23\n"
     ]
    }
   ],
   "source": [
    "for i in info:\n",
    "  print(i, info[i])"
   ]
  },
  {
   "cell_type": "markdown",
   "metadata": {},
   "source": [
    "Add new pair of name and age through function."
   ]
  },
  {
   "cell_type": "code",
   "execution_count": 79,
   "metadata": {},
   "outputs": [
    {
     "name": "stdout",
     "output_type": "stream",
     "text": [
      "Inserted: ('AKY', 23)\n"
     ]
    }
   ],
   "source": [
    "def add_new_pair(info, name, age):\n",
    "    \"\"\"Adds a new pair(\"name\": age) to the dictionary(info)\"\"\"\n",
    "    info[name] = age\n",
    "    print(f\"Inserted: {name, info.get(name)}\")\n",
    "\n",
    "add_new_pair(info, \"AKY\", 23)"
   ]
  },
  {
   "cell_type": "markdown",
   "metadata": {},
   "source": [
    "Delete pair of name and age through function"
   ]
  },
  {
   "cell_type": "code",
   "execution_count": 80,
   "metadata": {},
   "outputs": [
    {
     "name": "stdout",
     "output_type": "stream",
     "text": [
      "Deleted: ('AKY', 23)\n"
     ]
    }
   ],
   "source": [
    "def delete_pair(name):\n",
    "    \"\"\"Delete a pair(\"name\") from the dictionary(info)\"\"\"\n",
    "    print(f\"Deleted: {name, info[name]}\")\n",
    "    info.pop(name)\n",
    "\n",
    "delete_pair(\"AKY\")"
   ]
  },
  {
   "cell_type": "markdown",
   "metadata": {},
   "source": [
    "Update age corresponding to a name."
   ]
  },
  {
   "cell_type": "code",
   "execution_count": 81,
   "metadata": {},
   "outputs": [],
   "source": [
    "info[\"Perry\"] = 55"
   ]
  },
  {
   "cell_type": "markdown",
   "metadata": {},
   "source": [
    "Display the count of key value pair available in dictionary"
   ]
  },
  {
   "cell_type": "code",
   "execution_count": 82,
   "metadata": {},
   "outputs": [
    {
     "name": "stdout",
     "output_type": "stream",
     "text": [
      "The length of 'info' is 8\n"
     ]
    }
   ],
   "source": [
    "print(f\"The length of 'info' is {info.__len__()}\")"
   ]
  },
  {
   "cell_type": "markdown",
   "metadata": {},
   "source": [
    "Display the age corresponding to specific name"
   ]
  },
  {
   "cell_type": "code",
   "execution_count": 83,
   "metadata": {},
   "outputs": [
    {
     "data": {
      "text/plain": [
       "23"
      ]
     },
     "execution_count": 83,
     "metadata": {},
     "output_type": "execute_result"
    }
   ],
   "source": [
    "info[\"Susie\"]"
   ]
  },
  {
   "cell_type": "markdown",
   "metadata": {},
   "source": [
    "Create a clone of dictionary and show the id of both."
   ]
  },
  {
   "cell_type": "code",
   "execution_count": 86,
   "metadata": {},
   "outputs": [
    {
     "name": "stdout",
     "output_type": "stream",
     "text": [
      "Cloned dictionary:\n",
      "{'Perry': 55, 'Daphne': 23, 'Yun': 99, 'Olga': 24, 'Susie': 23, 'AK': 23, 'A': 23, 'l': 23}\n"
     ]
    }
   ],
   "source": [
    "info2 = info.copy()\n",
    "print(f\"Cloned dictionary:\\n{info2}\") "
   ]
  },
  {
   "cell_type": "markdown",
   "metadata": {},
   "source": [
    "Convert two lists into dictionary using zip function"
   ]
  },
  {
   "cell_type": "code",
   "execution_count": 87,
   "metadata": {},
   "outputs": [
    {
     "data": {
      "text/plain": [
       "{'T': 1, 'Q': 2, 'K': 3}"
      ]
     },
     "execution_count": 87,
     "metadata": {},
     "output_type": "execute_result"
    }
   ],
   "source": [
    "keys = [\"T\", \"Q\", \"K\"]\n",
    "values = [1, 2, 3]\n",
    "\n",
    "list_dict = dict(zip(keys, values))\n",
    "\n",
    "list_dict"
   ]
  }
 ],
 "metadata": {
  "kernelspec": {
   "display_name": "Python 3.8.10 64-bit",
   "language": "python",
   "name": "python3"
  },
  "language_info": {
   "codemirror_mode": {
    "name": "ipython",
    "version": 3
   },
   "file_extension": ".py",
   "mimetype": "text/x-python",
   "name": "python",
   "nbconvert_exporter": "python",
   "pygments_lexer": "ipython3",
   "version": "3.8.10"
  },
  "orig_nbformat": 4,
  "vscode": {
   "interpreter": {
    "hash": "b337b16e1f284c9fe7de692799556d56c1809887abe3f5a49ffeb9e7df151cfb"
   }
  }
 },
 "nbformat": 4,
 "nbformat_minor": 2
}
