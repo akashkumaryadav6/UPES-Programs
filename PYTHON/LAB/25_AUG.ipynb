{
 "cells": [
  {
   "cell_type": "markdown",
   "metadata": {},
   "source": [
    "<h3>LAB 2</h3>"
   ]
  },
  {
   "cell_type": "markdown",
   "metadata": {},
   "source": [
    "<h4>#1 Add 3 numbers</h4>"
   ]
  },
  {
   "cell_type": "code",
   "execution_count": 6,
   "metadata": {},
   "outputs": [
    {
     "name": "stdout",
     "output_type": "stream",
     "text": [
      "21\n"
     ]
    }
   ],
   "source": [
    "x,y,t=7,6,8\n",
    "print(x+y+t)"
   ]
  },
  {
   "cell_type": "markdown",
   "metadata": {},
   "source": [
    "<h4>#1 Add 2 strings</h4>"
   ]
  },
  {
   "cell_type": "code",
   "execution_count": 7,
   "metadata": {},
   "outputs": [
    {
     "name": "stdout",
     "output_type": "stream",
     "text": [
      "fghfhgfghfgfdgfghfghfgfgfh\n"
     ]
    }
   ],
   "source": [
    "x,y,t='fghfhgfgh','fgfdgfghfgh','fgfgfh'\n",
    "print(x+y+t)"
   ]
  },
  {
   "cell_type": "markdown",
   "metadata": {},
   "source": [
    "<h4>Area of Rectangle</h4>"
   ]
  },
  {
   "cell_type": "code",
   "execution_count": 8,
   "metadata": {},
   "outputs": [
    {
     "name": "stdout",
     "output_type": "stream",
     "text": [
      "Area of Rectangle:  1344\n"
     ]
    }
   ],
   "source": [
    "length,breadth=24,56\n",
    "print(\"Area of Rectangle: \",(length*breadth))"
   ]
  },
  {
   "cell_type": "markdown",
   "metadata": {},
   "source": [
    "<h4>Area of Circle</h4>"
   ]
  },
  {
   "cell_type": "code",
   "execution_count": 9,
   "metadata": {},
   "outputs": [
    {
     "name": "stdout",
     "output_type": "stream",
     "text": [
      "Area of Circle:  1808.6399999999999\n"
     ]
    }
   ],
   "source": [
    "r=24\n",
    "print(\"Area of Circle: \",3.14*r*r)"
   ]
  },
  {
   "cell_type": "markdown",
   "metadata": {},
   "source": [
    "<h4>Average of n numbers</h4>"
   ]
  },
  {
   "cell_type": "code",
   "execution_count": 26,
   "metadata": {},
   "outputs": [
    {
     "name": "stdout",
     "output_type": "stream",
     "text": [
      "Average:  3\n"
     ]
    }
   ],
   "source": [
    "get=int(input(\"Enter the number of terms: \"))\n",
    "i,u=1,0\n",
    "while(i<=get):\n",
    "    m=int(input(\"Enter the {} number: \".format(i)))\n",
    "    u+=m\n",
    "    i+=1\n",
    "    if (i>get):\n",
    "        break\n",
    "print(\"Average: \",u//get)"
   ]
  },
  {
   "cell_type": "markdown",
   "metadata": {},
   "source": [
    "<h4>Find cubic root of a number</h4>"
   ]
  },
  {
   "cell_type": "code",
   "execution_count": 11,
   "metadata": {},
   "outputs": [
    {
     "name": "stdout",
     "output_type": "stream",
     "text": [
      "1.2599210498948732\n"
     ]
    }
   ],
   "source": [
    "croot=int(input(\"Enter any number: \"))\n",
    "print(croot**(1/3))"
   ]
  },
  {
   "cell_type": "markdown",
   "metadata": {},
   "source": [
    "<h4>Exchange values of 2 numbers without using a temporary variable</h4>"
   ]
  },
  {
   "cell_type": "code",
   "execution_count": 12,
   "metadata": {},
   "outputs": [
    {
     "name": "stdout",
     "output_type": "stream",
     "text": [
      "Before swapping\n",
      "T:  3  T2:  4\n",
      "After swapping\n",
      "T:  4  T2:  3\n"
     ]
    }
   ],
   "source": [
    "t=int(input(\"Enter a number: \"))\n",
    "t2=int(input(\"Enter a number: \"))\n",
    "print(\"Before swapping\\nT: \",t,\" T2: \",t2)\n",
    "t=t+t2\n",
    "t2=t-t2\n",
    "t=t-t2\n",
    "print(\"After swapping\\nT: \",t,\" T2: \",t2)"
   ]
  },
  {
   "cell_type": "markdown",
   "metadata": {},
   "source": [
    "<h4>Perform operations on a String</h4>"
   ]
  },
  {
   "cell_type": "code",
   "execution_count": 33,
   "metadata": {},
   "outputs": [
    {
     "name": "stdout",
     "output_type": "stream",
     "text": [
      "Removing Leading Whitespaces:  kjlhgfvmsfghjutyrewetryukiljhgfdsfvmvdsfghyersdfgh    \n",
      "54\n",
      "Removing Tailing Whitespaces:        kjlhgfvmsfghjutyrewetryukiljhgfdsfvmvdsfghyersdfgh\n",
      "56\n",
      "Slicing:      \n",
      "Slicing with interval:    \n",
      "Reversed:      hgfdsreyhgfsdvmvfsdfghjlikuyrtewerytujhgfsmvfghljk      \n",
      "Indexing:  k\n",
      "Finding a substring in the original string ('fvms' in       kjlhgfvmsfghjutyrewetryukiljhgfdsfvmvdsfghyersdfgh    )\n",
      "True\n",
      "Occurence of 'r' in       kjlhgfvmsfghjutyrewetryukiljhgfdsfvmvdsfghyersdfgh     is 3\n"
     ]
    }
   ],
   "source": [
    "stg=\"      kjlhgfvmsfghjutyrewetryukiljhgfdsfvmvdsfghyersdfgh    \"\n",
    "print('Removing Leading Whitespaces: ',stg.lstrip())\n",
    "print(len(stg.lstrip()))\n",
    "print('Removing Tailing Whitespaces: ',stg.rstrip())\n",
    "print(len(stg.rstrip()))\n",
    "print(\"Slicing: \",stg[2:6])\n",
    "print(\"Slicing with interval: \",stg[2:6:3])\n",
    "print(\"Reversed: \",stg[::-1])\n",
    "print(\"Indexing: \",stg[6])\n",
    "print(\"Finding a substring in the original string ('fvms' in {})\".format(stg))\n",
    "print(True) if 'fvms' in stg else print(False)\n",
    "count=0\n",
    "for i in range(0,len(stg)):\n",
    "    if stg[i]=='r':\n",
    "        count+=1\n",
    "print(\"Occurence of 'r' in {0} is {1}\".format(stg,count))\n",
    "\n"
   ]
  },
  {
   "cell_type": "markdown",
   "metadata": {},
   "source": [
    "<h4>Deter</h4>"
   ]
  }
 ],
 "metadata": {
  "kernelspec": {
   "display_name": "Python 3.8.10 64-bit",
   "language": "python",
   "name": "python3"
  },
  "language_info": {
   "codemirror_mode": {
    "name": "ipython",
    "version": 3
   },
   "file_extension": ".py",
   "mimetype": "text/x-python",
   "name": "python",
   "nbconvert_exporter": "python",
   "pygments_lexer": "ipython3",
   "version": "3.8.10"
  },
  "orig_nbformat": 4,
  "vscode": {
   "interpreter": {
    "hash": "b337b16e1f284c9fe7de692799556d56c1809887abe3f5a49ffeb9e7df151cfb"
   }
  }
 },
 "nbformat": 4,
 "nbformat_minor": 2
}
