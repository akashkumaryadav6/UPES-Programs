{
 "cells": [
  {
   "cell_type": "markdown",
   "metadata": {},
   "source": [
    "<i><h5>D) Print name as First. Middle. Last<br>\n",
    "<b>Mohandas KaramChand Gandhi AS M. K.  Gandhi</b></h5></i>"
   ]
  },
  {
   "cell_type": "code",
   "execution_count": 31,
   "metadata": {},
   "outputs": [
    {
     "name": "stdout",
     "output_type": "stream",
     "text": [
      "S. D. Fghjk\n"
     ]
    }
   ],
   "source": [
    "askString=input(\"Do you have a middle name?\")\n",
    "if (askString==\"YES\" or askString==\"yes\" or askString==\"Yes\" or askString==\"yEs\" or askString==\"yeS\" or askString==\"YEs\" or askString==\"yES\" or askString==\"YeS\" or askString==\"y\" or askString==\"Y\" or askString==\"YS\" or askString==\"ys\"):\n",
    "    firstName,middleName,lastName=input(\"Enter Your Full Name:\").split(\" \")\n",
    "    print(f\"{firstName[0].capitalize()}. {middleName[0].capitalize()}. {lastName.capitalize()}\")\n",
    "elif (askString==\"NO\" or askString==\"no\" or askString==\"No\" or askString==\"nO\" or askString==\"n\" or askString==\"N\"):\n",
    "    firstName,lastName=input(\"Enter Your Full Name:\").split(\" \")\n",
    "    print(f\"{firstName[0].capitalize()},. ,{lastName.capitalize()}\")\n",
    "else:\n",
    "    print(\"Invalid Input!\")"
   ]
  },
  {
   "cell_type": "code",
   "execution_count": 29,
   "metadata": {},
   "outputs": [
    {
     "name": "stdout",
     "output_type": "stream",
     "text": [
      "K.  D."
     ]
    }
   ],
   "source": [
    "# string=input(\"Enter Your Full Name:\")\n",
    "# stringList=[]\n",
    "# for i in range(len(string)):\n",
    "#     stringList.insert(i,string[i])\n",
    "# print(stringList[0].capitalize(), end=\".\")\n",
    "# for i in range(len(stringList)):\n",
    "#     if stringList[i]==\" \":\n",
    "#         print(\" \",stringList[i+1].capitalize(),end=\".\")\n",
    "#     else:\n",
    "#         pass\n",
    "# # for i in range(len(stringList)):\n",
    "# #     if stringList[-i]==\" \":\n",
    "# #         print(\" \",stringList[-i+1].capitalize(), end=\"\")\n",
    "# #         r=len(stringList)+(-i+1)+1\n",
    "# #         for k in range(r,len(stringList)):\n",
    "# #             print(stringList[k], end=\"\")"
   ]
  },
  {
   "cell_type": "markdown",
   "metadata": {},
   "source": [
    "<i><h5>E) Given a string containing both upper & lower case alphabets. Write a python program to count instances of each alphabet</h4></i>"
   ]
  },
  {
   "cell_type": "code",
   "execution_count": null,
   "metadata": {},
   "outputs": [
    {
     "name": "stdout",
     "output_type": "stream",
     "text": [
      "Your string is:  ghjghj\n",
      "2 H\n",
      "2 J\n",
      "2 G\n"
     ]
    }
   ],
   "source": [
    "string=input(\"Enter a string: \")\n",
    "#converting to lower case as UPPER and LOWER case have different ASCII values hence incomparable\n",
    "stringLower=strg.lower()\n",
    "print(\"Your string is: \",string)\n",
    "#creating a set to discard duplicates\n",
    "#typecasting set into list as set is unordered and unsubscriptable\n",
    "stringListUnique=list(set(string.lower()))\n",
    "#for the length of 'stringListUnique'\n",
    "for i in range(len(stringListUnique)):\n",
    "#count occurences of each element from stringListUnique in stringLower\n",
    "    print(stringLower.count(stringListUnique[i]),stringListUnique[i].upper())\n"
   ]
  },
  {
   "cell_type": "markdown",
   "metadata": {},
   "source": [
    "<i><h5>E) Given a string containing both upper & lower case alphabets. Write a python program to count instances of each alphabet</h4></i>"
   ]
  },
  {
   "cell_type": "code",
   "execution_count": null,
   "metadata": {},
   "outputs": [
    {
     "name": "stdout",
     "output_type": "stream",
     "text": [
      "Your string is:  ghjghj\n",
      "2 H\n",
      "2 J\n",
      "2 G\n"
     ]
    }
   ],
   "source": [
    "string=input(\"Enter a string: \")\n",
    "#converting to lower case as UPPER and LOWER case have different ASCII values hence incomparable\n",
    "stringLower=strg.lower()\n",
    "print(\"Your string is: \",string)\n",
    "#creating a set to discard duplicates\n",
    "#typecasting set into list as set is unordered and unsubscriptable\n",
    "stringListUnique=list(set(string.lower()))\n",
    "#for the length of 'stringListUnique'\n",
    "for i in range(len(stringListUnique)):\n",
    "#count occurences of each element from stringListUnique in stringLower\n",
    "    print(stringLower.count(stringListUnique[i]),stringListUnique[i].upper())\n"
   ]
  }
 ],
 "metadata": {
  "kernelspec": {
   "display_name": "Python 3.8.10 64-bit",
   "language": "python",
   "name": "python3"
  },
  "language_info": {
   "codemirror_mode": {
    "name": "ipython",
    "version": 3
   },
   "file_extension": ".py",
   "mimetype": "text/x-python",
   "name": "python",
   "nbconvert_exporter": "python",
   "pygments_lexer": "ipython3",
   "version": "3.8.10"
  },
  "orig_nbformat": 4,
  "vscode": {
   "interpreter": {
    "hash": "b337b16e1f284c9fe7de692799556d56c1809887abe3f5a49ffeb9e7df151cfb"
   }
  }
 },
 "nbformat": 4,
 "nbformat_minor": 2
}
