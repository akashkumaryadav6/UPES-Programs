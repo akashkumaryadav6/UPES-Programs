{
 "cells": [
  {
   "cell_type": "markdown",
   "metadata": {},
   "source": [
    "<h4><i>Find all the prime numbers below 50</i></h4>"
   ]
  },
  {
   "cell_type": "code",
   "execution_count": 12,
   "metadata": {},
   "outputs": [
    {
     "name": "stdout",
     "output_type": "stream",
     "text": [
      "[2]\n"
     ]
    }
   ],
   "source": [
    "resList = list()\n",
    "factors, j = 0,2\n",
    "check = [2,3,4,5,6,7,8,9]\n",
    "for i in range(2,50):\n",
    "    if (i%j==0):\n",
    "        factors+=1\n",
    "        j+=1\n",
    "        if (j>9):\n",
    "            j=2\n",
    "    else:\n",
    "        pass\n",
    "    if(factors>1):\n",
    "        pass\n",
    "    else:\n",
    "        resList.append(i)\n",
    "print(resList)\n",
    "    "
   ]
  }
 ],
 "metadata": {
  "kernelspec": {
   "display_name": "Python 3.8.10 64-bit",
   "language": "python",
   "name": "python3"
  },
  "language_info": {
   "codemirror_mode": {
    "name": "ipython",
    "version": 3
   },
   "file_extension": ".py",
   "mimetype": "text/x-python",
   "name": "python",
   "nbconvert_exporter": "python",
   "pygments_lexer": "ipython3",
   "version": "3.8.10"
  },
  "orig_nbformat": 4,
  "vscode": {
   "interpreter": {
    "hash": "b337b16e1f284c9fe7de692799556d56c1809887abe3f5a49ffeb9e7df151cfb"
   }
  }
 },
 "nbformat": 4,
 "nbformat_minor": 2
}
